{
 "metadata": {
  "name": "2013-03-19-0330 Flip Condition"
 },
 "nbformat": 3,
 "nbformat_minor": 0,
 "worksheets": [
  {
   "cells": [
    {
     "cell_type": "code",
     "collapsed": false,
     "input": [
      "from functools import reduce\n",
      "from timeit import timeit\n",
      "from numpy import *\n",
      "from numpy.random import *\n",
      "from scipy.linalg import *\n",
      "from scipy.optimize import fmin_bfgs, leastsq\n",
      "from scipy.misc import derivative\n",
      "\n",
      "def crand(*shape):\n",
      "    return rand(*shape)*2-1 + rand(*shape)*2j-1j\n",
      "\n",
      "set_printoptions(linewidth=200)"
     ],
     "language": "python",
     "metadata": {},
     "outputs": [],
     "prompt_number": 1
    },
    {
     "cell_type": "code",
     "collapsed": false,
     "input": [
      "n = 5\n",
      "\n",
      "def Tdot(C,D):\n",
      "    return tensordot(C,D,axes=2)\n",
      "\n",
      "A = crand(n,n,n,n)\n",
      "B = crand(n,n,n,n)\n",
      "AB = Tdot(A,B)\n",
      "\n",
      "X0 = rand(2*n*n*n*n)\n",
      "\n",
      "def unravel(x_raveled):\n",
      "    return (x_raveled[:n*n*n*n] + 1j*x_raveled[n*n*n*n:]).reshape(n,n,n,n)\n",
      "\n",
      "def ravel(x_unraveled):\n",
      "    y = zeros((2,n*n*n*n),dtype=float)\n",
      "    y[0] = x_unraveled.real.ravel()\n",
      "    y[1] = x_unraveled.imag.ravel()\n",
      "    return y.ravel()"
     ],
     "language": "python",
     "metadata": {},
     "outputs": [],
     "prompt_number": 2
    },
    {
     "cell_type": "code",
     "collapsed": false,
     "input": [
      "def f(x_raveled):\n",
      "    X = unravel(x_raveled)\n",
      "    X += X.transpose(1,0,3,2).conj()\n",
      "    return ravel(-AB+reduce(Tdot,[A,X,B]))\n",
      "\n",
      "OAB1 = multiply.outer(A,B).transpose(0,1,6,7,2,3,4,5)\n",
      "OAB2 = OAB1.transpose(0,1,2,3,5,4,7,6)\n",
      "y = zeros((2,n,n,n,n,2,n,n,n,n),dtype=float64)\n",
      "y[0,:,:,:,:,0,:,:,:,:] = + OAB1.real + OAB2.real\n",
      "y[0,:,:,:,:,1,:,:,:,:] = - OAB1.imag + OAB2.imag\n",
      "y[1,:,:,:,:,0,:,:,:,:] = + OAB1.imag + OAB2.imag\n",
      "y[1,:,:,:,:,1,:,:,:,:] = + OAB1.real - OAB2.real\n",
      "Dfun = y.reshape(2*n*n*n*n,2*n*n*n*n)\n",
      "del OAB1\n",
      "del OAB2\n",
      "del y\n",
      "\n",
      "def g(x_raveled):\n",
      "    return norm(f(x_raveled)**2)"
     ],
     "language": "python",
     "metadata": {},
     "outputs": [],
     "prompt_number": 3
    },
    {
     "cell_type": "code",
     "collapsed": false,
     "input": [
      "X1, _, infodict, message, ier = leastsq(f,X0,Dfun=lambda _: Dfun,full_output=True)\n",
      "print(infodict[\"nfev\"],\"ops\")\n",
      "print(message)\n",
      "print(ier)\n",
      "print(g(X1))\n",
      "X1U = unravel(X1)\n",
      "print(norm(Tdot(A,B)-reduce(Tdot,[A,X1U+X1U.transpose(1,0,3,2).conj(),B])))"
     ],
     "language": "python",
     "metadata": {},
     "outputs": [],
     "prompt_number": "*"
    },
    {
     "cell_type": "code",
     "collapsed": false,
     "input": [
      "f0 = f(X0)\n",
      "deltas = zeros((2*n*n*n*n,2*n*n*n*n),float64)\n",
      "for i in range(2*n*n*n*n):\n",
      "    X0_ = X0.copy()\n",
      "    X0_[i] += 1e-6\n",
      "    deltas[:,i] = (f(X0_)-f0)/1e-6\n",
      "print(norm(Df(X0)-deltas))"
     ],
     "language": "python",
     "metadata": {},
     "outputs": [
      {
       "ename": "NameError",
       "evalue": "name 'Df' is not defined",
       "output_type": "pyerr",
       "traceback": [
        "\u001b[0;31m---------------------------------------------------------------------------\u001b[0m\n\u001b[0;31mNameError\u001b[0m                                 Traceback (most recent call last)",
        "\u001b[0;32m<ipython-input-4-f9739560fd41>\u001b[0m in \u001b[0;36m<module>\u001b[0;34m()\u001b[0m\n\u001b[1;32m      5\u001b[0m     \u001b[0mX0_\u001b[0m\u001b[0;34m[\u001b[0m\u001b[0mi\u001b[0m\u001b[0;34m]\u001b[0m \u001b[0;34m+=\u001b[0m \u001b[0;36m1e-6\u001b[0m\u001b[0;34m\u001b[0m\u001b[0m\n\u001b[1;32m      6\u001b[0m     \u001b[0mdeltas\u001b[0m\u001b[0;34m[\u001b[0m\u001b[0;34m:\u001b[0m\u001b[0;34m,\u001b[0m\u001b[0mi\u001b[0m\u001b[0;34m]\u001b[0m \u001b[0;34m=\u001b[0m \u001b[0;34m(\u001b[0m\u001b[0mf\u001b[0m\u001b[0;34m(\u001b[0m\u001b[0mX0_\u001b[0m\u001b[0;34m)\u001b[0m\u001b[0;34m-\u001b[0m\u001b[0mf0\u001b[0m\u001b[0;34m)\u001b[0m\u001b[0;34m/\u001b[0m\u001b[0;36m1e-6\u001b[0m\u001b[0;34m\u001b[0m\u001b[0m\n\u001b[0;32m----> 7\u001b[0;31m \u001b[0mprint\u001b[0m\u001b[0;34m(\u001b[0m\u001b[0mnorm\u001b[0m\u001b[0;34m(\u001b[0m\u001b[0mDf\u001b[0m\u001b[0;34m(\u001b[0m\u001b[0mX0\u001b[0m\u001b[0;34m)\u001b[0m\u001b[0;34m-\u001b[0m\u001b[0mdeltas\u001b[0m\u001b[0;34m)\u001b[0m\u001b[0;34m)\u001b[0m\u001b[0;34m\u001b[0m\u001b[0m\n\u001b[0m",
        "\u001b[0;31mNameError\u001b[0m: name 'Df' is not defined"
       ]
      }
     ],
     "prompt_number": 4
    },
    {
     "cell_type": "code",
     "collapsed": false,
     "input": [
      "AB_ = zeros((2,n*n*n*n),dtype=float64)\n",
      "AB_[0] = AB.real.ravel()\n",
      "AB_[1] = AB.imag.ravel()\n",
      "AB_ = AB_.ravel()\n",
      "X2, residues, rank, s = lstsq(Dfun,AB_)\n",
      "print(g(X2))\n",
      "print(rank)\n",
      "X2U = unravel(X2)"
     ],
     "language": "python",
     "metadata": {},
     "outputs": [
      {
       "output_type": "stream",
       "stream": "stdout",
       "text": [
        "1.7426137588961973e-26\n",
        "853\n"
       ]
      }
     ],
     "prompt_number": 6
    },
    {
     "cell_type": "code",
     "collapsed": false,
     "input": [],
     "language": "python",
     "metadata": {},
     "outputs": []
    }
   ],
   "metadata": {}
  }
 ]
}