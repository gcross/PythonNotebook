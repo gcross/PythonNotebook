{
 "metadata": {
  "name": ""
 },
 "nbformat": 3,
 "nbformat_minor": 0,
 "worksheets": [
  {
   "cells": [
    {
     "cell_type": "code",
     "collapsed": false,
     "input": [
      "from functools import *\n",
      "\n",
      "from numpy import *\n",
      "from numpy.linalg import *\n",
      "from numpy.random import *\n",
      "\n",
      "from scipy.sparse.linalg import *\n",
      "from scipy.optimize import *\n",
      "\n",
      "def crand(*shape):\n",
      "    return 1-2*rand(*shape) + 1j-2j*rand(*shape)\n",
      "\n",
      "set_printoptions(linewidth=132)"
     ],
     "language": "python",
     "metadata": {},
     "outputs": [],
     "prompt_number": 4
    },
    {
     "cell_type": "code",
     "collapsed": false,
     "input": [
      "n = 3\n",
      "nn = n*n\n",
      "c = 2\n",
      "cc = c*c"
     ],
     "language": "python",
     "metadata": {},
     "outputs": [],
     "prompt_number": 49
    },
    {
     "cell_type": "code",
     "collapsed": false,
     "input": [
      "def unitize(M):\n",
      "    U, S, V = svd(M,full_matrices=False)\n",
      "    return dot(U,V)\n",
      "\n",
      "def symmetrize(M):\n",
      "    return M + M.transpose().conj()\n",
      "\n",
      "def unitarity(M):\n",
      "    return norm(identity(len(M.transpose().conj()))-dot(M.transpose().conj(),M))\n",
      "\n",
      "def symmetry(M):\n",
      "    return norm(M - M.transpose().conj())"
     ],
     "language": "python",
     "metadata": {},
     "outputs": [],
     "prompt_number": 50
    },
    {
     "cell_type": "code",
     "collapsed": false,
     "input": [
      "M = symmetrize(symmetrize(crand(nn,nn)).reshape(n,n,n,n).transpose(0,2,1,3).reshape(nn,nn))\n",
      "print(norm(M-M.transpose().conj()))"
     ],
     "language": "python",
     "metadata": {},
     "outputs": [
      {
       "output_type": "stream",
       "stream": "stdout",
       "text": [
        "0.0\n"
       ]
      }
     ],
     "prompt_number": 51
    },
    {
     "cell_type": "code",
     "collapsed": false,
     "input": [
      "evals, evecs = eigh(M)"
     ],
     "language": "python",
     "metadata": {},
     "outputs": [],
     "prompt_number": 52
    },
    {
     "cell_type": "code",
     "collapsed": false,
     "input": [
      "norm(M-reduce(dot,[evecs,diag(evals),evecs.transpose().conj()]))"
     ],
     "language": "python",
     "metadata": {},
     "outputs": [
      {
       "metadata": {},
       "output_type": "pyout",
       "prompt_number": 53,
       "text": [
        "2.1238365646246826e-14"
       ]
      }
     ],
     "prompt_number": 53
    },
    {
     "cell_type": "code",
     "collapsed": false,
     "input": [
      "symmetry(M.reshape(n,n,n,n).transpose(0,2,1,3).reshape(nn,nn))"
     ],
     "language": "python",
     "metadata": {},
     "outputs": [
      {
       "metadata": {},
       "output_type": "pyout",
       "prompt_number": 90,
       "text": [
        "0.0"
       ]
      }
     ],
     "prompt_number": 90
    },
    {
     "cell_type": "code",
     "collapsed": false,
     "input": [
      "cc = 4\n",
      "X = dot(evecs[:,:cc],diag(sqrt(evals[:cc]*(1+0j))))\n",
      "Y = dot(diag(sqrt(evals[:cc]*(1+0j))),evecs.transpose().conj()[:cc,:])\n",
      "print(X.shape)\n",
      "O = dot(X,Y)\n",
      "norm(M-O)"
     ],
     "language": "python",
     "metadata": {},
     "outputs": [
      {
       "output_type": "stream",
       "stream": "stdout",
       "text": [
        "(9, 4)\n"
       ]
      },
      {
       "metadata": {},
       "output_type": "pyout",
       "prompt_number": 86,
       "text": [
        "13.468717690848408"
       ]
      }
     ],
     "prompt_number": 86
    },
    {
     "cell_type": "code",
     "collapsed": false,
     "input": [
      "norm(X - X.reshape(n,n,cc).transpose(1,0,2).conj().reshape(nn,cc))"
     ],
     "language": "python",
     "metadata": {},
     "outputs": [
      {
       "metadata": {},
       "output_type": "pyout",
       "prompt_number": 91,
       "text": [
        "7.0658717316995565"
       ]
      }
     ],
     "prompt_number": 91
    },
    {
     "cell_type": "code",
     "collapsed": false,
     "input": [
      "norm(evecs-evecs.reshape(n,n,nn).transpose(1,0,2).conj().reshape(nn,nn))"
     ],
     "language": "python",
     "metadata": {},
     "outputs": [
      {
       "metadata": {},
       "output_type": "pyout",
       "prompt_number": 93,
       "text": [
        "1.1531343616688694e-14"
       ]
      }
     ],
     "prompt_number": 93
    },
    {
     "cell_type": "code",
     "collapsed": false,
     "input": [
      "norm(evecs[:,:cc]-evecs[:,:cc].reshape(n,n,cc).transpose(1,0,2).conj().reshape(nn,cc))"
     ],
     "language": "python",
     "metadata": {},
     "outputs": [
      {
       "metadata": {},
       "output_type": "pyout",
       "prompt_number": 95,
       "text": [
        "9.109471226433794e-15"
       ]
      }
     ],
     "prompt_number": 95
    },
    {
     "cell_type": "code",
     "collapsed": false,
     "input": [
      "norm(dot(evecs[:,:cc],diag(sqrt(evals[:cc]*(1+0j))))-dot(evecs[:,:cc],diag(sqrt(evals[:cc]*(1+0j)))).reshape(n,n,cc).transpose(1,0,2).conj().reshape(nn,cc))"
     ],
     "language": "python",
     "metadata": {},
     "outputs": [
      {
       "metadata": {},
       "output_type": "pyout",
       "prompt_number": 99,
       "text": [
        "7.0658717316995565"
       ]
      }
     ],
     "prompt_number": 99
    },
    {
     "cell_type": "code",
     "collapsed": false,
     "input": [],
     "language": "python",
     "metadata": {},
     "outputs": []
    }
   ],
   "metadata": {}
  }
 ]
}