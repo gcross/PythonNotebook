{
 "metadata": {
  "name": ""
 },
 "nbformat": 3,
 "nbformat_minor": 0,
 "worksheets": [
  {
   "cells": [
    {
     "cell_type": "code",
     "collapsed": false,
     "input": [
      "from functools import *\n",
      "\n",
      "from numpy import *\n",
      "from numpy.linalg import *\n",
      "from numpy.random import *\n",
      "\n",
      "from scipy.sparse.linalg import *\n",
      "from scipy.optimize import *\n",
      "\n",
      "from carcassonne.utils import *"
     ],
     "language": "python",
     "metadata": {},
     "outputs": [],
     "prompt_number": 282
    },
    {
     "cell_type": "code",
     "collapsed": false,
     "input": [
      "def absorbMatrixAt(tensor,axis,matrix):\n",
      "    return tensordot(matrix,tensor,(1,axis)) \\\n",
      "        .transpose(*tuple(range(1,axis+1)) + (0,) + tuple(range(axis+1,tensor.ndim))) \\\n",
      "        .reshape(*tensor.shape[:axis] + (matrix.shape[0],) + tensor.shape[axis+1:])\n",
      "\n",
      "def absorbMatricesAt(tensor,*axes_and_matrices):\n",
      "    for axis, matrix in axes_and_matrices:\n",
      "        tensor = absorbMatrixAt(tensor,axis,matrix)\n",
      "    return tensor"
     ],
     "language": "python",
     "metadata": {},
     "outputs": [],
     "prompt_number": 283
    },
    {
     "cell_type": "code",
     "collapsed": false,
     "input": [
      "n = 5\n",
      "nn = n*n\n",
      "m = 25\n",
      "c = 3\n",
      "cc = c*c"
     ],
     "language": "python",
     "metadata": {},
     "outputs": [],
     "prompt_number": 284
    },
    {
     "cell_type": "code",
     "collapsed": false,
     "input": [
      "C = 1-2*rand(n,n,m) + 1j-2j*rand(n,n,m)\n",
      "#C = rand(n,n,m)\n",
      "C += C.transpose(1,0,2)\n",
      "M = tensordot(C,C.conj(),(2,2))\n",
      "O = M.reshape(nn,nn)"
     ],
     "language": "python",
     "metadata": {},
     "outputs": [],
     "prompt_number": 285
    },
    {
     "cell_type": "code",
     "collapsed": false,
     "input": [
      "norm(O-O.transpose().conj())"
     ],
     "language": "python",
     "metadata": {},
     "outputs": [
      {
       "metadata": {},
       "output_type": "pyout",
       "prompt_number": 286,
       "text": [
        "0.0"
       ]
      }
     ],
     "prompt_number": 286
    },
    {
     "cell_type": "code",
     "collapsed": false,
     "input": [
      "U, S, V = svd(O)"
     ],
     "language": "python",
     "metadata": {},
     "outputs": [],
     "prompt_number": 287
    },
    {
     "cell_type": "code",
     "collapsed": false,
     "input": [
      "norm(reduce(dot,[U[:,:c],diag(S[:c]),V[:c,:]])-O)/norm(O)"
     ],
     "language": "python",
     "metadata": {},
     "outputs": [
      {
       "metadata": {},
       "output_type": "pyout",
       "prompt_number": 288,
       "text": [
        "0.56620960706943968"
       ]
      }
     ],
     "prompt_number": 288
    },
    {
     "cell_type": "code",
     "collapsed": false,
     "input": [
      "norm(reduce(dot,[U[:,:cc],diag(S[:cc]),V[:cc,:]])-O)/norm(O)"
     ],
     "language": "python",
     "metadata": {},
     "outputs": [
      {
       "metadata": {},
       "output_type": "pyout",
       "prompt_number": 289,
       "text": [
        "0.16272165704424046"
       ]
      }
     ],
     "prompt_number": 289
    },
    {
     "cell_type": "code",
     "collapsed": false,
     "input": [
      "def f(X):\n",
      "    X = X.reshape(5,3)\n",
      "    XC = X.conj()\n",
      "    XT = X.transpose()\n",
      "    XH = X.transpose().conj()\n",
      "    return norm(M-absorbMatricesAt(M,(0,XT),(0,XC),(1,XH),(1,X),(2,XH),(2,X),(3,XT),(3,XC)))/norm(M)"
     ],
     "language": "python",
     "metadata": {},
     "outputs": [],
     "prompt_number": 290
    },
    {
     "cell_type": "code",
     "collapsed": false,
     "input": [
      "fmin_bfgs(f,rand(5,3))"
     ],
     "language": "python",
     "metadata": {},
     "outputs": [
      {
       "output_type": "stream",
       "stream": "stdout",
       "text": [
        "Optimization terminated successfully.\n",
        "         Current function value: 0.740318\n",
        "         Iterations: 61\n",
        "         Function evaluations: 1258\n",
        "         Gradient evaluations: 74\n"
       ]
      },
      {
       "metadata": {},
       "output_type": "pyout",
       "prompt_number": 291,
       "text": [
        "array([ 0.19499231, -0.26985118,  0.60676169, -0.58702847, -0.43865544,  0.11504461,  0.19697593, -0.83349183, -0.41402766,\n",
        "       -0.57493623,  0.16671343, -0.46761381, -0.49802142, -0.11072625,  0.47803978])"
       ]
      }
     ],
     "prompt_number": 291
    },
    {
     "cell_type": "code",
     "collapsed": false,
     "input": [
      "norm(M-M.transpose(2,3,0,1))/norm(M)"
     ],
     "language": "python",
     "metadata": {},
     "outputs": [
      {
       "metadata": {},
       "output_type": "pyout",
       "prompt_number": 292,
       "text": [
        "0.83411636901694397"
       ]
      }
     ],
     "prompt_number": 292
    },
    {
     "cell_type": "code",
     "collapsed": false,
     "input": [
      "D, U = eigh(O)\n",
      "UH = U.conj().transpose()"
     ],
     "language": "python",
     "metadata": {},
     "outputs": [],
     "prompt_number": 293
    },
    {
     "cell_type": "code",
     "collapsed": false,
     "input": [
      "norm(reduce(dot,[U,diag(D),U.transpose().conj()])-O)/norm(O)"
     ],
     "language": "python",
     "metadata": {},
     "outputs": [
      {
       "metadata": {},
       "output_type": "pyout",
       "prompt_number": 294,
       "text": [
        "1.916734398227519e-15"
       ]
      }
     ],
     "prompt_number": 294
    },
    {
     "cell_type": "code",
     "collapsed": false,
     "input": [
      "Ushrink = U[:,-cc:]"
     ],
     "language": "python",
     "metadata": {},
     "outputs": [],
     "prompt_number": 295
    },
    {
     "cell_type": "code",
     "collapsed": false,
     "input": [
      "norm(reduce(dot,[Ushrink,diag(D[-cc:]),Ushrink.transpose().conj()])-O)/norm(O)"
     ],
     "language": "python",
     "metadata": {},
     "outputs": [
      {
       "metadata": {},
       "output_type": "pyout",
       "prompt_number": 296,
       "text": [
        "0.16272165704424041"
       ]
      }
     ],
     "prompt_number": 296
    },
    {
     "cell_type": "code",
     "collapsed": false,
     "input": [
      "Ubonds = Ushrink.reshape(nn,c,c)\n",
      "Usym_unnorm = (Ubonds + Ubonds.transpose(0,2,1).conj()).reshape(Ushrink.shape)\n",
      "Usym_unnorm_U,Usym_unnorm_D,Usym_unnorm_V = svd(Usym_unnorm)\n",
      "Usym = dot(Usym_unnorm_U[:,:cc],Usym_unnorm_V[:cc,:])"
     ],
     "language": "python",
     "metadata": {},
     "outputs": [],
     "prompt_number": 297
    },
    {
     "cell_type": "code",
     "collapsed": false,
     "input": [
      "norm(reduce(dot,[Usym,diag(D[-cc:]),Usym.transpose().conj()])-O)/norm(O)"
     ],
     "language": "python",
     "metadata": {},
     "outputs": [
      {
       "metadata": {},
       "output_type": "pyout",
       "prompt_number": 298,
       "text": [
        "0.6625295955462791"
       ]
      }
     ],
     "prompt_number": 298
    },
    {
     "cell_type": "code",
     "collapsed": false,
     "input": [
      "norm(dot(Usym.transpose().conj(),Usym)-identity(cc))"
     ],
     "language": "python",
     "metadata": {},
     "outputs": [
      {
       "metadata": {},
       "output_type": "pyout",
       "prompt_number": 299,
       "text": [
        "4.2475401504635461e-15"
       ]
      }
     ],
     "prompt_number": 299
    },
    {
     "cell_type": "code",
     "collapsed": false,
     "input": [
      "norm(Usym.reshape(nn,c,c)-Usym.reshape(nn,c,c).transpose(0,2,1).conj())"
     ],
     "language": "python",
     "metadata": {},
     "outputs": [
      {
       "metadata": {},
       "output_type": "pyout",
       "prompt_number": 300,
       "text": [
        "2.498136449726852e-15"
       ]
      }
     ],
     "prompt_number": 300
    },
    {
     "cell_type": "code",
     "collapsed": false,
     "input": [
      "Ushrink2 = Ushrink.reshape(n,n,c,c)n"
     ],
     "language": "python",
     "metadata": {},
     "outputs": []
    }
   ],
   "metadata": {}
  }
 ]
}