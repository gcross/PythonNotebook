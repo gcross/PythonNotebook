{
 "metadata": {
  "name": "2013-08-15 @ 1530 = Canonicalization of the W state"
 },
 "nbformat": 3,
 "nbformat_minor": 0,
 "worksheets": [
  {
   "cells": [
    {
     "cell_type": "code",
     "collapsed": false,
     "input": [
      "from functools import *\n",
      "\n",
      "from numpy import *\n",
      "from numpy.linalg import *\n",
      "\n",
      "set_printoptions(linewidth=132)"
     ],
     "language": "python",
     "metadata": {},
     "outputs": [],
     "prompt_number": 26
    },
    {
     "cell_type": "code",
     "collapsed": false,
     "input": [
      "G = array(\n",
      "[[[1,0],\n",
      "  [0,1],\n",
      " ],\n",
      " [[0,1],\n",
      "  [0,0]\n",
      " ],\n",
      "],dtype=complex128)"
     ],
     "language": "python",
     "metadata": {},
     "outputs": [],
     "prompt_number": 4
    },
    {
     "cell_type": "code",
     "collapsed": false,
     "input": [
      "M = tensordot(G,G,(0,0)).transpose(0,2,1,3).reshape(4,4)\n",
      "M,M.transpose()"
     ],
     "language": "python",
     "metadata": {},
     "outputs": [
      {
       "output_type": "pyout",
       "prompt_number": 19,
       "text": [
        "(array([[ 1.+0.j,  0.+0.j,  0.+0.j,  1.+0.j],\n",
        "       [ 0.+0.j,  1.+0.j,  0.+0.j,  0.+0.j],\n",
        "       [ 0.+0.j,  0.+0.j,  1.+0.j,  0.+0.j],\n",
        "       [ 0.+0.j,  0.+0.j,  0.+0.j,  1.+0.j]]),\n",
        " array([[ 1.+0.j,  0.+0.j,  0.+0.j,  0.+0.j],\n",
        "       [ 0.+0.j,  1.+0.j,  0.+0.j,  0.+0.j],\n",
        "       [ 0.+0.j,  0.+0.j,  1.+0.j,  0.+0.j],\n",
        "       [ 1.+0.j,  0.+0.j,  0.+0.j,  1.+0.j]]))"
       ]
      }
     ],
     "prompt_number": 19
    },
    {
     "cell_type": "code",
     "collapsed": false,
     "input": [
      "eig(M)"
     ],
     "language": "python",
     "metadata": {},
     "outputs": [
      {
       "output_type": "pyout",
       "prompt_number": 16,
       "text": [
        "array([[  1.00000000e+00+0.j,   0.00000000e+00+0.j,   0.00000000e+00+0.j,   1.00000000e+00+0.j],\n",
        "       [  0.00000000e+00+0.j,   1.00000000e+00+0.j,   0.00000000e+00+0.j,  -0.00000000e+00-0.j],\n",
        "       [  0.00000000e+00+0.j,   0.00000000e+00+0.j,   1.00000000e+00+0.j,  -0.00000000e+00-0.j],\n",
        "       [  0.00000000e+00+0.j,   0.00000000e+00+0.j,   0.00000000e+00+0.j,  -2.22044605e-16-0.j]])"
       ]
      }
     ],
     "prompt_number": 16
    },
    {
     "cell_type": "code",
     "collapsed": false,
     "input": [
      "eig(M.transpose())"
     ],
     "language": "python",
     "metadata": {},
     "outputs": [
      {
       "output_type": "pyout",
       "prompt_number": 20,
       "text": [
        "(array([ 1.+0.j,  1.+0.j,  1.+0.j,  1.+0.j]),\n",
        " array([[  0.00000000e+00+0.j,  -2.22044605e-16-0.j,   0.00000000e+00+0.j,   0.00000000e+00+0.j],\n",
        "       [  0.00000000e+00+0.j,  -0.00000000e+00-0.j,   1.00000000e+00+0.j,   0.00000000e+00+0.j],\n",
        "       [  0.00000000e+00+0.j,  -0.00000000e+00-0.j,   0.00000000e+00+0.j,   1.00000000e+00+0.j],\n",
        "       [  1.00000000e+00+0.j,   1.00000000e+00+0.j,   0.00000000e+00+0.j,   0.00000000e+00+0.j]]))"
       ]
      }
     ],
     "prompt_number": 20
    },
    {
     "cell_type": "code",
     "collapsed": false,
     "input": [
      "V = array([1,0,0,0],dtype=complex128).reshape(2,2)\n",
      "V"
     ],
     "language": "python",
     "metadata": {},
     "outputs": [
      {
       "output_type": "pyout",
       "prompt_number": 22,
       "text": [
        "array([[ 1.+0.j,  0.+0.j],\n",
        "       [ 0.+0.j,  0.+0.j]])"
       ]
      }
     ],
     "prompt_number": 22
    },
    {
     "cell_type": "code",
     "collapsed": false,
     "input": [
      "D, W = eigh(V)\n",
      "D, W"
     ],
     "language": "python",
     "metadata": {},
     "outputs": [
      {
       "output_type": "pyout",
       "prompt_number": 24,
       "text": [
        "(array([ 0.,  1.]), array([[ 0.+0.j,  1.+0.j],\n",
        "       [ 1.+0.j,  0.+0.j]]))"
       ]
      }
     ],
     "prompt_number": 24
    },
    {
     "cell_type": "code",
     "collapsed": false,
     "input": [
      "reduce(dot,[W,diag(D),W.transpose()])"
     ],
     "language": "python",
     "metadata": {},
     "outputs": [
      {
       "output_type": "pyout",
       "prompt_number": 30,
       "text": [
        "array([[ 1.+0.j,  0.+0.j],\n",
        "       [ 0.+0.j,  0.+0.j]])"
       ]
      }
     ],
     "prompt_number": 30
    },
    {
     "cell_type": "code",
     "collapsed": false,
     "input": [
      "X=W*sqrt(D)\n",
      "X"
     ],
     "language": "python",
     "metadata": {},
     "outputs": [
      {
       "output_type": "pyout",
       "prompt_number": 33,
       "text": [
        "array([[ 0.+0.j,  1.+0.j],\n",
        "       [ 0.+0.j,  0.+0.j]])"
       ]
      }
     ],
     "prompt_number": 33
    },
    {
     "cell_type": "code",
     "collapsed": false,
     "input": [
      "pinv(X)"
     ],
     "language": "python",
     "metadata": {},
     "outputs": [
      {
       "output_type": "pyout",
       "prompt_number": 34,
       "text": [
        "array([[ 0.+0.j,  0.+0.j],\n",
        "       [ 1.+0.j,  0.+0.j]])"
       ]
      }
     ],
     "prompt_number": 34
    },
    {
     "cell_type": "code",
     "collapsed": false,
     "input": [],
     "language": "python",
     "metadata": {},
     "outputs": []
    }
   ],
   "metadata": {}
  }
 ]
}