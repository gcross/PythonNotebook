{
 "metadata": {
  "name": ""
 },
 "nbformat": 3,
 "nbformat_minor": 0,
 "worksheets": [
  {
   "cells": [
    {
     "cell_type": "code",
     "collapsed": false,
     "input": [
      "from functools import *\n",
      "\n",
      "from numpy import *\n",
      "from numpy.linalg import *\n",
      "from numpy.random import *\n",
      "\n",
      "from scipy.sparse.linalg import *\n",
      "from scipy.optimize import *\n",
      "\n",
      "def crand(*shape):\n",
      "    return 1-2*rand(*shape) + 1j-2j*rand(*shape)"
     ],
     "language": "python",
     "metadata": {},
     "outputs": [],
     "prompt_number": 12
    },
    {
     "cell_type": "code",
     "collapsed": false,
     "input": [
      "n = 5\n",
      "nn = n*n\n",
      "m = 25\n",
      "c = 3\n",
      "cc = c*c\n",
      "nc = n*c"
     ],
     "language": "python",
     "metadata": {},
     "outputs": [],
     "prompt_number": 8
    },
    {
     "cell_type": "code",
     "collapsed": false,
     "input": [
      "def unitize(M):\n",
      "    U, S, V = svd(M,full_matrices=False)\n",
      "    return dot(U,V)\n",
      "\n",
      "def symmetrize(M):\n",
      "    return M + M.transpose().conj()\n",
      "\n",
      "def unitarity(M):\n",
      "    return norm(identity(len(M.transpose().conj()))-dot(M.transpose().conj(),M))\n",
      "\n",
      "def symmetry(M):\n",
      "    return norm(M - M.transpose().conj())"
     ],
     "language": "python",
     "metadata": {},
     "outputs": [],
     "prompt_number": 35
    },
    {
     "cell_type": "code",
     "collapsed": false,
     "input": [
      "A = unitize(crand(nn,cc))\n",
      "print(unitarity(A))"
     ],
     "language": "python",
     "metadata": {},
     "outputs": [
      {
       "output_type": "stream",
       "stream": "stdout",
       "text": [
        "4.14005431938e-15\n"
       ]
      }
     ],
     "prompt_number": 44
    },
    {
     "cell_type": "code",
     "collapsed": false,
     "input": [
      "B = A\n",
      "for _ in range(10):\n",
      "    old_B = B\n",
      "    old_C = C\n",
      "    B = unitize(B)\n",
      "    C = B.reshape(n,n,c,c).transpose(0,2,1,3).reshape(nc,nc)\n",
      "    print(\"U:\",norm(B-A),norm(old_B-B),norm(old_C-C),unitarity(B),symmetry(C))\n",
      "    C = symmetrize(C)\n",
      "    B = C.reshape(n,c,n,c).transpose(0,2,1,3).reshape(nn,cc)\n",
      "    print(\"S:\",norm(B-A),norm(old_B-B),norm(old_C-C),unitarity(B),symmetry(C))"
     ],
     "language": "python",
     "metadata": {},
     "outputs": [
      {
       "output_type": "stream",
       "stream": "stdout",
       "text": [
        "U: 3.87123628699e-15 3.87123628699e-15 6.96057854619 2.69088156192e-15 3.94286091157\n",
        "S: 3.0 3.0 7.95946953178 4.58688959336 0.0\n",
        "U: 2.1658565311 1.68395868672 1.68395868672 4.91158224549e-15 2.49565263116e-15\n",
        "S: 4.28740819454 1.79376305158 1.79376305158 9.0 0.0\n",
        "U: 2.1658565311 3.0 3.0 2.27521159186e-15 3.44631296394e-15\n",
        "S: 4.28740819454 6.79821165676e-15 6.79821165676e-15 9.0 0.0\n",
        "U: 2.1658565311 3.0 3.0 2.16172185333e-15 2.55543845724e-15\n",
        "S: 4.28740819454 3.62878050608e-15 3.62878050608e-15 9.0 0.0\n",
        "U: 2.1658565311 3.0 3.0 2.63484003817e-15 2.89676382477e-15\n",
        "S: 4.28740819454 3.6506842373e-15 3.6506842373e-15 9.0 0.0\n",
        "U: 2.1658565311 3.0 3.0 2.48570050223e-15 2.8931952992e-15\n",
        "S: 4.28740819454 3.55227234722e-15 3.55227234722e-15 9.0 0.0\n",
        "U: 2.1658565311 3.0 3.0 2.19826367725e-15 2.89376834766e-15\n",
        "S: 4.28740819454 3.76641186045e-15 3.76641186045e-15 9.0 0.0\n",
        "U: 2.1658565311 3.0 3.0 2.06023225053e-15 3.06212845509e-15\n",
        "S: 4.28740819454 3.07076631902e-15 3.07076631902e-15 9.0 0.0\n",
        "U: 2.1658565311 3.0 3.0 2.12838638715e-15 2.76685600629e-15\n",
        "S: 4.28740819454 2.86339014659e-15 2.86339014659e-15 9.0 0.0\n",
        "U: 2.1658565311 3.0 3.0 2.94254956827e-15 3.25559858009e-15\n",
        "S: 4.28740819454 3.31676956793e-15 3.31676956793e-15 9.0 0.0\n"
       ]
      }
     ],
     "prompt_number": 45
    },
    {
     "cell_type": "code",
     "collapsed": false,
     "input": [
      "X = crand(n,c,n,c)\n",
      "X = unitize(X.transpose(0,2,1,3).reshape(nn,cc)).reshape(n,n,c,c).transpose(0,2,1,3)\n",
      "X += X.transpose(2,3,0,1).conj()\n",
      "X = X.reshape(nc,nc)\n",
      "Y = X\n",
      "X = unitize(X)\n",
      "print(symmetry(X))\n",
      "print(norm(X),norm(Y),norm(X-Y))"
     ],
     "language": "python",
     "metadata": {},
     "outputs": [
      {
       "output_type": "stream",
       "stream": "stdout",
       "text": [
        "6.05189817051e-15\n",
        "3.87298334621 4.23783827473 2.32889214741\n"
       ]
      }
     ],
     "prompt_number": 61
    },
    {
     "cell_type": "code",
     "collapsed": false,
     "input": [],
     "language": "python",
     "metadata": {},
     "outputs": []
    }
   ],
   "metadata": {}
  }
 ]
}