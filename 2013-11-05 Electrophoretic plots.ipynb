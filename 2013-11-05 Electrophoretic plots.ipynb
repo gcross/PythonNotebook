{
 "metadata": {
  "name": ""
 },
 "nbformat": 3,
 "nbformat_minor": 0,
 "worksheets": [
  {
   "cells": [
    {
     "cell_type": "code",
     "collapsed": false,
     "input": [
      "import matplotlib.pyplot as plt\n",
      "\n",
      "from numpy import *"
     ],
     "language": "python",
     "metadata": {},
     "outputs": [],
     "prompt_number": 1
    },
    {
     "cell_type": "code",
     "collapsed": false,
     "input": [
      "x = arange(0,1.00001,0.0001)\n",
      "def y(n):\n",
      "    return (4*arcsin(x/n)-2*arcsin(x))*360/(2*pi)\n",
      "\n",
      "plt.clf()\n",
      "\n",
      "from matplotlib import rcParams\n",
      "rcParams['xtick.direction'] = 'in'\n",
      "rcParams['ytick.direction'] = 'in'\n",
      "#rcParams['xtick.major.pad']='8'\n",
      "#rcParams['xtick.major.pad']='8'\n",
      "\n",
      "for n, dashes in [\n",
      "  (1.3,[]),\n",
      "  (1.4,[15,5]),\n",
      "  (1.5,[12,5,4,5]),\n",
      "  (1.6,[4,4]),\n",
      "]:\n",
      "    plt.plot(x,y(n),color='b',label='n = '+str(n),dashes=dashes,linewidth=4)\n",
      "\n",
      "plt.xlabel('Axis displacement (units normalized to 1)',fontsize=24,labelpad=15)\n",
      "plt.ylabel('Angle deflection (degrees)',fontsize=24,labelpad=10)\n",
      "\n",
      "plt.tick_params(axis='both',which='major',labelsize=20)\n",
      "#plt.ylim([-32,52] )\n",
      "\n",
      "plt.gca().tick_params(width=2,length=8)\n",
      "\n",
      "plt.legend(fontsize=24,loc=\"upper left\",labelspacing=0.25,borderpad=0.5,bbox_to_anchor=(0.04, 0, 1, 0.96))\n",
      "\n",
      "plt.show()\n",
      "#plt.savefig(\"/Users/gcross/Projects/Papers/Electrophoretic/fig2.pdf\")"
     ],
     "language": "python",
     "metadata": {},
     "outputs": [],
     "prompt_number": 6
    },
    {
     "cell_type": "code",
     "collapsed": false,
     "input": [],
     "language": "python",
     "metadata": {},
     "outputs": []
    }
   ],
   "metadata": {}
  }
 ]
}