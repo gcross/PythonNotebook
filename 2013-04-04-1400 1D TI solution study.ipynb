{
 "metadata": {
  "name": "2013-04-04-1400 1D TI solution study"
 },
 "nbformat": 3,
 "nbformat_minor": 0,
 "worksheets": [
  {
   "cells": [
    {
     "cell_type": "code",
     "collapsed": false,
     "input": [
      "from functools import partial\n",
      "from math import pi, sqrt\n",
      "from numpy import ones\n",
      "from paycheck import *\n",
      "\n",
      "import sys\n",
      "sys.path.append(\"/Users/gcross/Projects/Carcassonne\")\n",
      "\n",
      "from carcassonne.policies import *\n",
      "from carcassonne.system._1d import System\n",
      "from carcassonne.utils import Pauli, buildTensor"
     ],
     "language": "python",
     "metadata": {},
     "outputs": [],
     "prompt_number": 1
    },
    {
     "cell_type": "code",
     "collapsed": false,
     "input": [
      "system = \\\n",
      "    System(\n",
      "        [1,0,0],\n",
      "        [0,0,1],\n",
      "        buildTensor((3,3,2,2),{\n",
      "            (0,0): Pauli.I,\n",
      "            (0,2): Pauli.Z,\n",
      "            (0,1): -0.01*Pauli.X,\n",
      "            (1,2): Pauli.X,\n",
      "            (2,2): Pauli.I,\n",
      "        }),\n",
      "        ones((1,1,2)),\n",
      "    )\n",
      "system.setPolicy(\"sweep convergence\",RelativeStateDifferenceThresholdConvergencePolicy(1e-5))\n",
      "system.setPolicy(\"run convergence\",RelativeOneSiteExpectationDifferenceThresholdConvergencePolicy(1e-7))\n",
      "system.setPolicy(\"bandwidth increase\",OneDirectionIncrementBandwidthIncreasePolicy(0,2))\n",
      "system.setPolicy(\"contraction\",RepeatPatternContractionPolicy([0,1]))\n",
      "system.runUntilConverged()\n",
      "print(system.computeOneSiteExpectation())\n",
      "state_center_data = system.state_center_data"
     ],
     "language": "python",
     "metadata": {},
     "outputs": [
      {
       "output_type": "stream",
       "stream": "stdout",
       "text": [
        "(1.00002500002+0j)\n"
       ]
      }
     ],
     "prompt_number": 9
    },
    {
     "cell_type": "code",
     "collapsed": false,
     "input": [
      "L, _, rest_L = state_center_data.normalizeAxis(1)"
     ],
     "language": "python",
     "metadata": {},
     "outputs": [],
     "prompt_number": 10
    },
    {
     "cell_type": "code",
     "collapsed": false,
     "input": [
      "(L.absorbMatrixAt(1,rest_L.transpose())-state_center_data).norm()"
     ],
     "language": "python",
     "metadata": {},
     "outputs": [
      {
       "output_type": "pyout",
       "prompt_number": 11,
       "text": [
        "1.56765245794688e-16"
       ]
      }
     ],
     "prompt_number": 11
    },
    {
     "cell_type": "code",
     "collapsed": false,
     "input": [
      "R, _, rest_R = state_center_data.normalizeAxis(0)"
     ],
     "language": "python",
     "metadata": {},
     "outputs": [],
     "prompt_number": 12
    },
    {
     "cell_type": "code",
     "collapsed": false,
     "input": [
      "(R.absorbMatrixAt(0,rest_L.transpose())-state_center_data).norm()"
     ],
     "language": "python",
     "metadata": {},
     "outputs": [
      {
       "output_type": "pyout",
       "prompt_number": 15,
       "text": [
        "2.3112805008607555e-06"
       ]
      }
     ],
     "prompt_number": 15
    },
    {
     "cell_type": "code",
     "collapsed": false,
     "input": [
      "(L.absorbMatrixAt(1,rest_R.transpose())-state_center_data).norm()"
     ],
     "language": "python",
     "metadata": {},
     "outputs": [
      {
       "output_type": "pyout",
       "prompt_number": 16,
       "text": [
        "2.3112805006379939e-06"
       ]
      }
     ],
     "prompt_number": 16
    },
    {
     "cell_type": "code",
     "collapsed": false,
     "input": [],
     "language": "python",
     "metadata": {},
     "outputs": []
    }
   ],
   "metadata": {}
  }
 ]
}