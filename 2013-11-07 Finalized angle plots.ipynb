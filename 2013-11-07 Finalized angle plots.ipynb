{
 "metadata": {
  "name": ""
 },
 "nbformat": 3,
 "nbformat_minor": 0,
 "worksheets": [
  {
   "cells": [
    {
     "cell_type": "code",
     "collapsed": false,
     "input": [
      "from numpy import *\n",
      "from scipy.integrate import quad\n",
      "from scipy.misc import derivative\n",
      "from scipy.optimize import bisect, minimize\n",
      "\n",
      "from matplotlib import pyplot as plt"
     ],
     "language": "python",
     "metadata": {},
     "outputs": [],
     "prompt_number": 21
    },
    {
     "cell_type": "code",
     "collapsed": false,
     "input": [
      " d\u03b8 = 0.001"
     ],
     "language": "python",
     "metadata": {},
     "outputs": [],
     "prompt_number": 22
    },
    {
     "cell_type": "code",
     "collapsed": false,
     "input": [
      "plt.clf()\n",
      "\n",
      "from matplotlib import rcParams\n",
      "rcParams['xtick.direction'] = 'in'\n",
      "rcParams['ytick.direction'] = 'in'"
     ],
     "language": "python",
     "metadata": {},
     "outputs": [],
     "prompt_number": 23
    },
    {
     "cell_type": "code",
     "collapsed": false,
     "input": [
      "for n, dashes in [\n",
      "  (1.3,[]),\n",
      "  (1.4,[15,5]),\n",
      "  (1.5,[12,5,4,5]),\n",
      "  (1.6,[4,4]),\n",
      "]:\n",
      "    def \u0394\u03b8(x):\n",
      "        return 4*arcsin(x/n) - 2*arcsin(x)\n",
      "\n",
      "    max_\u0394\u03b8_info = minimize(lambda x:-\u0394\u03b8(x),0.5,method='Nelder-Mead',tol=1e-5)\n",
      "    max_\u0394\u03b8 = -max_\u0394\u03b8_info['fun']\n",
      "    max_\u0394\u03b8_x = max_\u0394\u03b8_info['x']\n",
      "\n",
      "    \u0394\u03b8s = arange(0,max_\u0394\u03b8,d\u03b8)\n",
      "\n",
      "    C = []\n",
      "\n",
      "    for \u0394\u03b8_ in \u0394\u03b8s:\n",
      "        def f(x):\n",
      "            return \u0394\u03b8(x) - \u0394\u03b8_\n",
      "        \n",
      "        x_L = bisect(f,0,max_\u0394\u03b8_x)\n",
      "        x_R = bisect(f,max_\u0394\u03b8_x,1) if f(1) < 0 else 1\n",
      "        C.append(1-x_R**2+x_L**2)\n",
      "    \n",
      "    C = array(C)\n",
      "\n",
      "    D\u0394\u03b8s = \u0394\u03b8s[1:-1]\n",
      "    DC = (C[2:] - C[:-2]) / (2*d\u03b8)\n",
      "\n",
      "    plt.plot(D\u0394\u03b8s/(2*pi)*360,DC,color='b',label='n = '+str(n),dashes=dashes,linewidth=4)"
     ],
     "language": "python",
     "metadata": {},
     "outputs": [],
     "prompt_number": 24
    },
    {
     "cell_type": "code",
     "collapsed": false,
     "input": [
      "plt.xlabel('Deflection angle (degrees)',fontsize=24,labelpad=10)\n",
      "plt.ylabel('Probability density of exiting light deflection angle',fontsize=24,labelpad=16)\n",
      "\n",
      "plt.tick_params(axis='both',which='major',labelsize=20)\n",
      "plt.ylim([0,15])\n",
      "\n",
      "plt.gca().tick_params(width=2,length=8)\n",
      "\n",
      "plt.legend(fontsize=24,loc=\"upper left\",labelspacing=0.25,borderpad=0.5,bbox_to_anchor=(0.02, 0, 1, 0.98))\n",
      "\n",
      "plt.show()"
     ],
     "language": "python",
     "metadata": {},
     "outputs": [],
     "prompt_number": 25
    },
    {
     "cell_type": "code",
     "collapsed": false,
     "input": [],
     "language": "python",
     "metadata": {},
     "outputs": [],
     "prompt_number": 17
    },
    {
     "cell_type": "code",
     "collapsed": false,
     "input": [],
     "language": "python",
     "metadata": {},
     "outputs": []
    }
   ],
   "metadata": {}
  }
 ]
}