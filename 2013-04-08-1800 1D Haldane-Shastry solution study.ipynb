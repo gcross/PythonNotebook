{
 "metadata": {
  "name": "2013-04-08-1800 1D Haldane-Shastry solution study"
 },
 "nbformat": 3,
 "nbformat_minor": 0,
 "worksheets": [
  {
   "cells": [
    {
     "cell_type": "code",
     "collapsed": false,
     "input": [
      "from functools import partial\n",
      "from math import pi, sqrt\n",
      "from numpy import array, ones, set_printoptions\n",
      "from paycheck import *\n",
      "\n",
      "import sys\n",
      "sys.path.append(\"/Users/gcross/Projects/Carcassonne\")\n",
      "\n",
      "from carcassonne.policies import *\n",
      "from carcassonne.system._1d import System\n",
      "from carcassonne.utils import Pauli, buildTensor\n",
      "\n",
      "set_printoptions(linewidth=200)"
     ],
     "language": "python",
     "metadata": {},
     "outputs": [],
     "prompt_number": 3
    },
    {
     "cell_type": "code",
     "collapsed": false,
     "input": [
      "a = array([ -1.39798300e+01,   1.28034382e+01,   5.61535861e+00, -1.26781677e+01,   1.94601671e-04,  -5.61212883e+00, 4.82347734e-01,   1.40055820e+01,   3.63205362e-01])\n",
      "b = array([ 0.84596776,  0.63229175,  0.95118618,  0.6322922 ,  0.99024125, 0.95118618,  0.0592535 ,  0.84596776,  0.32259284])\n",
      "\n",
      "assert len(a) == len(b)\n",
      "matrix = {}\n",
      "n = len(a)\n",
      "l = 3*n\n",
      "r = l+1\n",
      "matrix[l,l] = Pauli.I\n",
      "matrix[r,r] = Pauli.I\n",
      "for i in range(n):\n",
      "    matrix[l,0*n+i] = a[i]*Pauli.X\n",
      "    matrix[l,1*n+i] = a[i]*Pauli.Y\n",
      "    matrix[l,2*n+i] = a[i]*Pauli.Z\n",
      "    matrix[0*n+i,0*n+i] = b[i]*Pauli.I\n",
      "    matrix[1*n+i,1*n+i] = b[i]*Pauli.I\n",
      "    matrix[2*n+i,2*n+i] = b[i]*Pauli.I\n",
      "    matrix[0*n+i,r] = Pauli.X\n",
      "    matrix[1*n+i,r] = Pauli.Y\n",
      "    matrix[2*n+i,r] = Pauli.Z\n",
      "\n",
      "system = \\\n",
      "    System(\n",
      "        [0]*(3*n)+[1,0],\n",
      "        [0]*(3*n)+[0,1],\n",
      "        buildTensor((3*n+2,3*n+2,2,2),matrix),\n",
      "        ones((1,1,2)),\n",
      "    )\n",
      "\n",
      "system.setPolicy(\"sweep convergence\",RelativeStateDifferenceThresholdConvergencePolicy(1e-5))\n",
      "system.setPolicy(\"run convergence\",RelativeOneSiteExpectationDifferenceThresholdConvergencePolicy(1e-7))\n",
      "system.setPolicy(\"bandwidth increase\",OneDirectionIncrementBandwidthIncreasePolicy(0,2))\n",
      "system.setPolicy(\"contraction\",RepeatPatternContractionPolicy([0,1]))\n",
      "system.runUntilConverged()\n",
      "print(system.computeOneSiteExpectation())\n",
      "state_center_data = system.state_center_data"
     ],
     "language": "python",
     "metadata": {},
     "outputs": [
      {
       "output_type": "stream",
       "stream": "stdout",
       "text": [
        "(1.64282782181+0j)\n"
       ]
      }
     ],
     "prompt_number": 4
    },
    {
     "cell_type": "code",
     "collapsed": false,
     "input": [
      "L, _, rest_L = state_center_data.normalizeAxis(1)"
     ],
     "language": "python",
     "metadata": {},
     "outputs": [],
     "prompt_number": 5
    },
    {
     "cell_type": "code",
     "collapsed": false,
     "input": [
      "(L.absorbMatrixAt(1,rest_L.transpose())-state_center_data).norm()"
     ],
     "language": "python",
     "metadata": {},
     "outputs": [
      {
       "output_type": "pyout",
       "prompt_number": 6,
       "text": [
        "1.1102230246251565e-16"
       ]
      }
     ],
     "prompt_number": 6
    },
    {
     "cell_type": "code",
     "collapsed": false,
     "input": [
      "R, _, rest_R = state_center_data.normalizeAxis(0)"
     ],
     "language": "python",
     "metadata": {},
     "outputs": [],
     "prompt_number": 7
    },
    {
     "cell_type": "code",
     "collapsed": false,
     "input": [
      "(R.absorbMatrixAt(0,rest_L)-state_center_data).norm()"
     ],
     "language": "python",
     "metadata": {},
     "outputs": [
      {
       "output_type": "pyout",
       "prompt_number": 8,
       "text": [
        "1.1102230246251565e-16"
       ]
      }
     ],
     "prompt_number": 8
    },
    {
     "cell_type": "code",
     "collapsed": false,
     "input": [
      "(R.absorbMatrixAt(0,rest_L.transpose())-state_center_data).norm()"
     ],
     "language": "python",
     "metadata": {},
     "outputs": [
      {
       "output_type": "pyout",
       "prompt_number": 9,
       "text": [
        "1.1102230246251565e-16"
       ]
      }
     ],
     "prompt_number": 9
    },
    {
     "cell_type": "code",
     "collapsed": false,
     "input": [
      "(L.absorbMatrixAt(1,rest_R.transpose())-state_center_data).norm()"
     ],
     "language": "python",
     "metadata": {},
     "outputs": [
      {
       "output_type": "pyout",
       "prompt_number": 10,
       "text": [
        "1.1102230246251565e-16"
       ]
      }
     ],
     "prompt_number": 10
    },
    {
     "cell_type": "code",
     "collapsed": false,
     "input": [
      "(L.absorbMatrixAt(1,rest_R)-state_center_data).norm()"
     ],
     "language": "python",
     "metadata": {},
     "outputs": [
      {
       "output_type": "pyout",
       "prompt_number": 11,
       "text": [
        "1.1102230246251565e-16"
       ]
      }
     ],
     "prompt_number": 11
    }
   ],
   "metadata": {}
  }
 ]
}