{
 "metadata": {
  "name": ""
 },
 "nbformat": 3,
 "nbformat_minor": 0,
 "worksheets": [
  {
   "cells": [
    {
     "cell_type": "code",
     "collapsed": false,
     "input": [
      "from numpy import *\n",
      "from functools import *"
     ],
     "language": "python",
     "metadata": {},
     "outputs": [],
     "prompt_number": 1
    },
    {
     "cell_type": "code",
     "collapsed": false,
     "input": [
      "cat_up = array([[1,0],[0,0]])\n",
      "cat_down = array([[0,0],[0,1]])\n",
      "\n",
      "W_I = array([[1,0],[0,1]])\n",
      "W_Z = array([[0,1],[0,0]])\n",
      "\n",
      "W_up = array([[1,0],[0,1]])\n",
      "W_down = array([[0,1],[0,0]])"
     ],
     "language": "python",
     "metadata": {},
     "outputs": [],
     "prompt_number": 15
    },
    {
     "cell_type": "code",
     "collapsed": false,
     "input": [
      "def T(a,b,c):\n",
      "    return reduce(multiply.outer,[a,b,c]).transpose(0,2,4,1,3,5).reshape(8,8)"
     ],
     "language": "python",
     "metadata": {},
     "outputs": [],
     "prompt_number": 12
    },
    {
     "cell_type": "code",
     "collapsed": false,
     "input": [
      "T(cat_up,W_I,cat_up) + T(cat_down,W_I,cat_down) + T(cat_up,W_Z,cat_up) - T(cat_down,W_Z,cat_down)"
     ],
     "language": "python",
     "metadata": {},
     "outputs": [
      {
       "output_type": "pyout",
       "prompt_number": 13,
       "text": [
        "array([[ 1,  0,  1,  0,  0,  0,  0,  0],\n",
        "       [ 0,  0,  0,  0,  0,  0,  0,  0],\n",
        "       [ 0,  0,  1,  0,  0,  0,  0,  0],\n",
        "       [ 0,  0,  0,  0,  0,  0,  0,  0],\n",
        "       [ 0,  0,  0,  0,  0,  0,  0,  0],\n",
        "       [ 0,  0,  0,  0,  0,  1,  0, -1],\n",
        "       [ 0,  0,  0,  0,  0,  0,  0,  0],\n",
        "       [ 0,  0,  0,  0,  0,  0,  0,  1]])"
       ]
      }
     ],
     "prompt_number": 13
    },
    {
     "cell_type": "code",
     "collapsed": false,
     "input": [
      "M = T(W_up,W_I,W_up) + T(W_down,W_I,W_down) + T(W_up,W_Z,W_up) - T(W_down,W_Z,W_down)\n",
      "M"
     ],
     "language": "python",
     "metadata": {},
     "outputs": [
      {
       "output_type": "pyout",
       "prompt_number": 18,
       "text": [
        "array([[ 1,  0,  1,  0,  0,  1,  0, -1],\n",
        "       [ 0,  1,  0,  1,  0,  0,  0,  0],\n",
        "       [ 0,  0,  1,  0,  0,  0,  0,  1],\n",
        "       [ 0,  0,  0,  1,  0,  0,  0,  0],\n",
        "       [ 0,  0,  0,  0,  1,  0,  1,  0],\n",
        "       [ 0,  0,  0,  0,  0,  1,  0,  1],\n",
        "       [ 0,  0,  0,  0,  0,  0,  1,  0],\n",
        "       [ 0,  0,  0,  0,  0,  0,  0,  1]])"
       ]
      }
     ],
     "prompt_number": 18
    },
    {
     "cell_type": "code",
     "collapsed": false,
     "input": [
      "U = array([\n",
      "[1,0,0,0,0,0,0,0],\n",
      "[0,0,1,0,0,0,0,0],\n",
      "[0,0,0,0,0,1,0,0],\n",
      "[0,0,0,0,0,0,0,1],\n",
      "[0,1,0,0,0,0,0,0],\n",
      "[0,0,0,1,0,0,0,0],\n",
      "[0,0,0,0,1,0,0,0],\n",
      "[0,0,0,0,0,0,1,0],\n",
      "])"
     ],
     "language": "python",
     "metadata": {},
     "outputs": [],
     "prompt_number": 17
    },
    {
     "cell_type": "code",
     "collapsed": false,
     "input": [
      "dot(dot(U,M),U.transpose())"
     ],
     "language": "python",
     "metadata": {},
     "outputs": [
      {
       "output_type": "pyout",
       "prompt_number": 20,
       "text": [
        "array([[ 1,  1,  1, -1,  0,  0,  0,  0],\n",
        "       [ 0,  1,  0,  1,  0,  0,  0,  0],\n",
        "       [ 0,  0,  1,  1,  0,  0,  0,  0],\n",
        "       [ 0,  0,  0,  1,  0,  0,  0,  0],\n",
        "       [ 0,  0,  0,  0,  1,  1,  0,  0],\n",
        "       [ 0,  0,  0,  0,  0,  1,  0,  0],\n",
        "       [ 0,  0,  0,  0,  0,  0,  1,  1],\n",
        "       [ 0,  0,  0,  0,  0,  0,  0,  1]])"
       ]
      }
     ],
     "prompt_number": 20
    },
    {
     "cell_type": "code",
     "collapsed": false,
     "input": [
      "M = array([\n",
      "[1,1,1,-1],\n",
      "[0,1,0,1],\n",
      "[0,0,1,1],\n",
      "[0,0,0,1]\n",
      "])\n",
      "def f(n):\n",
      "    x = array([0,0,0,1])\n",
      "    for _ in range(n):\n",
      "        x = dot(M,x)\n",
      "    return x\n",
      "for n in range(1,10):\n",
      "    print(f(n),2*n**2-3*n+1)"
     ],
     "language": "python",
     "metadata": {},
     "outputs": [
      {
       "output_type": "stream",
       "stream": "stdout",
       "text": [
        "[-1  1  1  1] 0\n",
        "[0 2 2 1] 3\n",
        "[3 3 3 1] 10\n",
        "[8 4 4 1] 21\n",
        "[15  5  5  1] 36\n",
        "[24  6  6  1] 55\n",
        "[35  7  7  1] 78\n",
        "[48  8  8  1] 105\n",
        "[63  9  9  1] 136\n"
       ]
      }
     ],
     "prompt_number": 27
    },
    {
     "cell_type": "code",
     "collapsed": false,
     "input": [],
     "language": "python",
     "metadata": {},
     "outputs": []
    }
   ],
   "metadata": {}
  }
 ]
}