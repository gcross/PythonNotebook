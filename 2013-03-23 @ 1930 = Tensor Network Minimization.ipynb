{
 "metadata": {
  "name": "2013-03-23-1930 Tensor Network Minimization"
 },
 "nbformat": 3,
 "nbformat_minor": 0,
 "worksheets": [
  {
   "cells": [
    {
     "cell_type": "code",
     "collapsed": false,
     "input": [
      "from copy import *\n",
      "from functools import partial\n",
      "from numpy import *\n",
      "from numpy.random import *\n",
      "from scipy.linalg import *\n",
      "from scipy.sparse.linalg import *\n",
      "from scipy.optimize import fmin_bfgs, leastsq\n",
      "from scipy.misc import derivative\n",
      "from time import time\n",
      "\n",
      "set_printoptions(linewidth=200)\n",
      "\n",
      "import sys\n",
      "sys.path.append(\"/home/gcross/Projects/Carcassonne\")\n",
      "sys.path.append(\"/Users/gcross/Projects/Carcassonne\")\n",
      "import carcassonne\n",
      "\n",
      "from carcassonne.data import *\n",
      "from carcassonne.utils import *\n",
      "\n",
      "def unitize(data):\n",
      "    U, _, V = data.svd(full_matrices=False)\n",
      "    return U.contractWith(V,1,0)"
     ],
     "language": "python",
     "metadata": {},
     "outputs": [],
     "prompt_number": 102
    },
    {
     "cell_type": "code",
     "collapsed": false,
     "input": [
      "c = 3\n",
      "n = 9\n",
      "\n",
      "if False:\n",
      "    L = NDArrayData.newRandom(n,n,n,n)\n",
      "    L += L.transpose(1,0,3,2).conj()\n",
      "\n",
      "    R = NDArrayData.newRandom(n,n,n,n)\n",
      "    R += R.transpose(1,0,3,2).conj()\n",
      "else:\n",
      "    L_ = NDArrayData.newRandom(n,n,c,c)\n",
      "    L_ += L_.transpose(1,0,3,2).conj()\n",
      "    L = NDArrayData.newZeros((n,n,n,n),dtype=complex128)\n",
      "    L._arr[:,:,:c,:c] = L_._arr\n",
      "\n",
      "    R_ = NDArrayData.newRandom(c,c,n,n)\n",
      "    R_ += R_.transpose(1,0,3,2).conj()\n",
      "    R = NDArrayData.newZeros((n,n,n,n),dtype=complex128)\n",
      "    R._arr[:c,:c,:,:] = R_._arr\n",
      "\n",
      "LR = L.contractWith(R,(2,3),(0,1)).toArray().ravel()\n",
      "\n",
      "MLU = NDArrayData.newRandom(n,c)\n",
      "MLD = NDArrayData.newRandom(n,c)\n",
      "MRU = NDArrayData.newRandom(c,n)\n",
      "MRD = NDArrayData.newRandom(c,n)\n",
      "\n",
      "# def makeLL(L,MLU,MLD)\n",
      "makeLL = formDataContractor(\n",
      "    [\n",
      "        Join(0,2,1,0),\n",
      "        Join(0,3,2,0),\n",
      "    ],[\n",
      "        [(0,0)],\n",
      "        [(0,1)],\n",
      "        [(1,1)],\n",
      "        [(2,1)], \n",
      "    ]\n",
      ")\n",
      "\n",
      "# def makeRR(R,MRU,MRD)\n",
      "makeRR = formDataContractor(\n",
      "    [\n",
      "        Join(0,0,1,1),\n",
      "        Join(0,1,2,1),\n",
      "    ],[\n",
      "        [(1,0)],\n",
      "        [(2,0)],\n",
      "        [(0,2)],\n",
      "        [(0,3)], \n",
      "    ]\n",
      ")\n",
      "\n",
      "def update():\n",
      "    global LL\n",
      "    LL = makeLL(L,MLU,MLD)\n",
      "    global RR\n",
      "    RR = makeRR(R,MRU,MRD)\n",
      "\n",
      "update()\n",
      "\n",
      "# f(L,MLU,MLD,MRU,MRD,R)\n",
      "contract = formDataContractor(\n",
      "    [\n",
      "        Join(0,2,1,0), # L -- MLU\n",
      "        Join(0,3,2,0), # L -- MLD\n",
      "        Join(1,1,3,0), # MLU -- MRU\n",
      "        Join(2,1,4,0), # MLD -- MRD\n",
      "        Join(3,1,5,0), # MRU -- R\n",
      "        Join(4,1,5,1), # MRD -- R\n",
      "    ],[\n",
      "        [(0,0),(0,1),(5,2),(5,3)]\n",
      "    ]\n",
      ")\n",
      "\n",
      "def computeResidual():\n",
      "    return computeResidualFor(MLU,MLD,MRU,MRD)\n",
      "\n",
      "def computeResidualFor(MLU,MLD,MRU,MRD):\n",
      "    return norm(contract(L,MLU,MLD,MRU,MRD,R).toArray().ravel()-LR)    "
     ],
     "language": "python",
     "metadata": {},
     "outputs": [],
     "prompt_number": 103
    },
    {
     "cell_type": "code",
     "collapsed": false,
     "input": [
      "def fMLU(MLU_raveled):\n",
      "    MLU = NDArrayData(MLU_raveled.reshape(n,c))\n",
      "    return contract(L,MLU,MLD,MRU,MRD,R).toArray()\n",
      "\n",
      "def fMLD(MLD_raveled):\n",
      "    MLD = NDArrayData(MLD_raveled.reshape(n,c))\n",
      "    return contract(L,MLU,MLD,MRU,MRD,R).toArray()\n",
      "\n",
      "def fMRU(MRU_raveled):\n",
      "    MRU = NDArrayData(MRU_raveled.reshape(c,n))\n",
      "    return contract(L,MLU,MLD,MRU,MRD,R).toArray()\n",
      "\n",
      "def fMRD(MRD_raveled):\n",
      "    MRD = NDArrayData(MRD_raveled.reshape(c,n))\n",
      "    return contract(L,MLU,MLD,MRU,MRD,R).toArray()"
     ],
     "language": "python",
     "metadata": {},
     "outputs": [],
     "prompt_number": 104
    },
    {
     "cell_type": "code",
     "collapsed": false,
     "input": [
      "def updateDerivatives():\n",
      "    global DfMLU\n",
      "    DfMLU = formDataContractor(\n",
      "        [\n",
      "            Join(0,3,1,0), # L -- MLD\n",
      "            Join(1,1,3,0), # MLD -- MRD\n",
      "            Join(2,1,4,0), # MRU -- R\n",
      "            Join(3,1,4,1), # MRD -- R\n",
      "        ],[\n",
      "            [(0,0),(0,1),(4,2),(4,3)],\n",
      "            [(0,2),(2,0)], # MLU\n",
      "        ]\n",
      "    )(L,MLD,MRU,MRD,R).toArray()\n",
      "    \n",
      "    global DfMLD\n",
      "    DfMLD = formDataContractor(\n",
      "        [\n",
      "            Join(0,2,1,0), # L -- MLU\n",
      "            Join(1,1,2,0), # MLU -- MRU\n",
      "            Join(2,1,4,0), # MRU -- R\n",
      "            Join(3,1,4,1), # MRD -- R\n",
      "        ],[\n",
      "            [(0,0),(0,1),(4,2),(4,3)],\n",
      "            [(0,3),(3,0)],\n",
      "        ]\n",
      "    )(L,MLU,MRU,MRD,R).toArray()\n",
      "    \n",
      "    global DfMRU\n",
      "    DfMRU = formDataContractor(\n",
      "        [\n",
      "            Join(0,2,1,0), # L -- MLU\n",
      "            Join(0,3,2,0), # L -- MLD\n",
      "            Join(2,1,3,0), # MLD -- MRD\n",
      "            Join(3,1,4,1), # MRD -- R\n",
      "        ],[\n",
      "            [(0,0),(0,1),(4,2),(4,3)],\n",
      "            [(1,1),(4,0)],\n",
      "        ]\n",
      "    )(L,MLU,MLD,MRD,R).toArray()\n",
      "    \n",
      "    global DfMRD\n",
      "    DfMRD = formDataContractor(\n",
      "        [\n",
      "            Join(0,2,1,0), # L -- MLU\n",
      "            Join(0,3,2,0), # L -- MLD\n",
      "            Join(1,1,3,0), # MLU -- MRU\n",
      "            Join(3,1,4,0), # MRU -- R\n",
      "        ],[\n",
      "            [(0,0),(0,1),(4,2),(4,3)],\n",
      "            [(2,1),(4,1)],\n",
      "        ]\n",
      "    )(L,MLU,MLD,MRU,R).toArray()\n",
      "\n",
      "updateDerivatives()"
     ],
     "language": "python",
     "metadata": {},
     "outputs": [],
     "prompt_number": 105
    },
    {
     "cell_type": "code",
     "collapsed": false,
     "input": [
      "updateDerivatives()\n",
      "\n",
      "def checkDerivative(f,Df):\n",
      "    x0 = crand(n*c)\n",
      "    f0 = f(x0)\n",
      "    deltas = zeros((n*n*n*n,n*c),complex128)\n",
      "    for i in range(n*c):\n",
      "        x0_ = x0.copy()\n",
      "        x0_[i] += 1e-5\n",
      "        deltas[:,i] = (f(x0_)-f0)/1e-5\n",
      "    return norm(deltas-Df)\n",
      "print(checkDerivative(fMLU,DfMLU))\n",
      "print(checkDerivative(fMLD,DfMLD))\n",
      "print(checkDerivative(fMRU,DfMRU))\n",
      "print(checkDerivative(fMRD,DfMRD))"
     ],
     "language": "python",
     "metadata": {},
     "outputs": [
      {
       "output_type": "stream",
       "stream": "stdout",
       "text": [
        "1.31887324822e-07\n",
        "1.07475514585e-07\n",
        "7.2527599708e-08"
       ]
      },
      {
       "output_type": "stream",
       "stream": "stdout",
       "text": [
        "\n",
        "7.20837966529e-08\n"
       ]
      }
     ],
     "prompt_number": 106
    },
    {
     "cell_type": "code",
     "collapsed": false,
     "input": [
      "print(computeResidual())\n",
      "for _ in range(10):\n",
      "    MLU = unitize(NDArrayData(lstsq(DfMLU,LR)[0].reshape(n,c)))\n",
      "    updateDerivatives()\n",
      "    MLD = unitize(NDArrayData(lstsq(DfMLD,LR)[0].reshape(n,c)))\n",
      "    updateDerivatives()\n",
      "    MRU = unitize(NDArrayData(lstsq(DfMRU,LR)[0].reshape(c,n)))\n",
      "    updateDerivatives()\n",
      "    MRD = unitize(NDArrayData(lstsq(DfMRD,LR)[0].reshape(c,n)))\n",
      "    updateDerivatives()\n",
      "    print(computeResidual())"
     ],
     "language": "python",
     "metadata": {},
     "outputs": [
      {
       "output_type": "stream",
       "stream": "stdout",
       "text": [
        "1033.134732140999\n",
        "5.847439009478833"
       ]
      },
      {
       "output_type": "stream",
       "stream": "stdout",
       "text": [
        "\n",
        "0.004421638151815071"
       ]
      },
      {
       "output_type": "stream",
       "stream": "stdout",
       "text": [
        "\n",
        "9.016529653424455e-06"
       ]
      },
      {
       "output_type": "stream",
       "stream": "stdout",
       "text": [
        "\n",
        "1.8984536446447557e-08"
       ]
      },
      {
       "output_type": "stream",
       "stream": "stdout",
       "text": [
        "\n",
        "4.044439963642308e-11"
       ]
      },
      {
       "output_type": "stream",
       "stream": "stdout",
       "text": [
        "\n",
        "1.0747365475923969e-12"
       ]
      },
      {
       "output_type": "stream",
       "stream": "stdout",
       "text": [
        "\n",
        "1.3932106626178258e-12"
       ]
      },
      {
       "output_type": "stream",
       "stream": "stdout",
       "text": [
        "\n",
        "1.2075659117024555e-12"
       ]
      },
      {
       "output_type": "stream",
       "stream": "stdout",
       "text": [
        "\n",
        "1.639501016022872e-12"
       ]
      },
      {
       "output_type": "stream",
       "stream": "stdout",
       "text": [
        "\n",
        "1.2643131968073473e-12"
       ]
      },
      {
       "output_type": "stream",
       "stream": "stdout",
       "text": [
        "\n"
       ]
      }
     ],
     "prompt_number": 101
    },
    {
     "cell_type": "code",
     "collapsed": false,
     "input": [
      "t1 = time()\n",
      "\n",
      "def mylstsq(A,b):\n",
      "    At = A.transpose().conj()\n",
      "    x, info = gmres(LinearOperator((n*c,n*c),lambda x: dot(At,dot(A,x)),dtype=complex128),dot(At,b))\n",
      "    assert info == 0\n",
      "    return x\n",
      "\n",
      "print(computeResidual())\n",
      "for _ in range(10):\n",
      "    MLU = unitize(NDArrayData(mylstsq(DfMLU,LR).reshape(n,c)))\n",
      "    MLD = MLU.conj()\n",
      "    MRU = MLU.transpose().conj()\n",
      "    MRD = MLU.transpose()\n",
      "    updateDerivatives()\n",
      "    print(computeResidual())\n",
      "\n",
      "t2 = time()\n",
      "print(t2-t1)"
     ],
     "language": "python",
     "metadata": {},
     "outputs": [
      {
       "output_type": "stream",
       "stream": "stdout",
       "text": [
        "1808.1438038346698\n",
        "3.1715787477426796e-13\n",
        "6.647478651924778e-13"
       ]
      },
      {
       "output_type": "stream",
       "stream": "stdout",
       "text": [
        "\n",
        "5.035095272024145e-13\n",
        "6.779273793592703e-13"
       ]
      },
      {
       "output_type": "stream",
       "stream": "stdout",
       "text": [
        "\n",
        "3.627223098930229e-13\n",
        "5.757678426740664e-13"
       ]
      },
      {
       "output_type": "stream",
       "stream": "stdout",
       "text": [
        "\n",
        "4.4662370405902816e-13\n",
        "6.353781866853274e-13"
       ]
      },
      {
       "output_type": "stream",
       "stream": "stdout",
       "text": [
        "\n",
        "3.679184558945941e-13\n",
        "3.140805283719214e-13"
       ]
      },
      {
       "output_type": "stream",
       "stream": "stdout",
       "text": [
        "\n",
        "0.3965470790863037\n"
       ]
      }
     ],
     "prompt_number": 107
    },
    {
     "cell_type": "code",
     "collapsed": false,
     "input": [
      "t1 = time()\n",
      "\n",
      "def mylstsq(A,b):\n",
      "    return lstsq(A,b)[0]\n",
      "\n",
      "print(computeResidual())\n",
      "for _ in range(10):\n",
      "    MLU = unitize(NDArrayData(mylstsq(DfMLU,LR).reshape(n,c)))\n",
      "    MLD = MLU.conj()\n",
      "    MRU = MLU.transpose().conj()\n",
      "    MRD = MLU.transpose()\n",
      "    updateDerivatives()\n",
      "    print(computeResidual())\n",
      "\n",
      "t2 = time()\n",
      "print(t2-t1)"
     ],
     "language": "python",
     "metadata": {},
     "outputs": [
      {
       "output_type": "stream",
       "stream": "stdout",
       "text": [
        "877.9084224651205\n",
        "877.7703612284264"
       ]
      },
      {
       "output_type": "stream",
       "stream": "stdout",
       "text": [
        "\n",
        "877.6187383362205\n",
        "877.4101751715211"
       ]
      },
      {
       "output_type": "stream",
       "stream": "stdout",
       "text": [
        "\n",
        "877.1035175524792\n",
        "876.6643686107244"
       ]
      },
      {
       "output_type": "stream",
       "stream": "stdout",
       "text": [
        "\n",
        "876.093637164229\n",
        "875.4659908250425"
       ]
      },
      {
       "output_type": "stream",
       "stream": "stdout",
       "text": [
        "\n",
        "874.91645661206\n",
        "874.5441561641057"
       ]
      },
      {
       "output_type": "stream",
       "stream": "stdout",
       "text": [
        "\n",
        "874.3447821487372\n",
        "0.4590318202972412\n"
       ]
      }
     ],
     "prompt_number": 82
    },
    {
     "cell_type": "code",
     "collapsed": false,
     "input": [
      "print(computeResidual())\n",
      "for _ in range(10):\n",
      "    MLU = NDArrayData(lstsq(DfMLU,LR)[0].reshape(n,c))\n",
      "    updateDerivatives()\n",
      "    MLD = NDArrayData(lstsq(DfMLD,LR)[0].reshape(n,c))\n",
      "    updateDerivatives()\n",
      "    MRU = NDArrayData(lstsq(DfMRU,LR)[0].reshape(c,n))\n",
      "    updateDerivatives()\n",
      "    MRD = NDArrayData(lstsq(DfMRD,LR)[0].reshape(c,n))\n",
      "    updateDerivatives()\n",
      "    print(computeResidual())"
     ],
     "language": "python",
     "metadata": {},
     "outputs": [
      {
       "output_type": "stream",
       "stream": "stdout",
       "text": [
        "900.4021734422168\n",
        "894.4511353346332"
       ]
      },
      {
       "output_type": "stream",
       "stream": "stdout",
       "text": [
        "\n",
        "889.6037724473559"
       ]
      },
      {
       "output_type": "stream",
       "stream": "stdout",
       "text": [
        "\n",
        "885.9651894375199"
       ]
      },
      {
       "output_type": "stream",
       "stream": "stdout",
       "text": [
        "\n",
        "882.3729947452617"
       ]
      },
      {
       "output_type": "stream",
       "stream": "stdout",
       "text": [
        "\n",
        "879.0099352231134"
       ]
      },
      {
       "output_type": "stream",
       "stream": "stdout",
       "text": [
        "\n",
        "876.349618297092"
       ]
      },
      {
       "output_type": "stream",
       "stream": "stdout",
       "text": [
        "\n",
        "874.5693574168837"
       ]
      },
      {
       "output_type": "stream",
       "stream": "stdout",
       "text": [
        "\n",
        "873.4947391632127"
       ]
      },
      {
       "output_type": "stream",
       "stream": "stdout",
       "text": [
        "\n",
        "872.8409651087615"
       ]
      },
      {
       "output_type": "stream",
       "stream": "stdout",
       "text": [
        "\n",
        "872.401109659985"
       ]
      },
      {
       "output_type": "stream",
       "stream": "stdout",
       "text": [
        "\n"
       ]
      }
     ],
     "prompt_number": 47
    },
    {
     "cell_type": "code",
     "collapsed": false,
     "input": [
      "def ravel(MLU,MLD,MRU,MRD):\n",
      "    raveled = zeros(8*n*c,dtype=float)\n",
      "    raveled[     :  n*c] = MLU.toArray().ravel().real\n",
      "    raveled[  n*c:2*n*c] = MLU.toArray().ravel().imag\n",
      "    raveled[2*n*c:3*n*c] = MLD.toArray().ravel().real\n",
      "    raveled[3*n*c:4*n*c] = MLD.toArray().ravel().imag\n",
      "    raveled[4*n*c:5*n*c] = MRU.toArray().ravel().real\n",
      "    raveled[5*n*c:6*n*c] = MRU.toArray().ravel().imag\n",
      "    raveled[6*n*c:7*n*c] = MRD.toArray().ravel().real\n",
      "    raveled[7*n*c:     ] = MRD.toArray().ravel().imag\n",
      "    return raveled\n",
      "\n",
      "def unravel(raveled):\n",
      "    MLU = NDArrayData((raveled[     :  n*c] + 1j*raveled[  n*c:2*n*c]).reshape(n,c))\n",
      "    MDU = NDArrayData((raveled[2*n*c:3*n*c] + 1j*raveled[3*n*c:4*n*c]).reshape(n,c))\n",
      "    MRU = NDArrayData((raveled[4*n*c:5*n*c] + 1j*raveled[5*n*c:6*n*c]).reshape(c,n))\n",
      "    MRD = NDArrayData((raveled[6*n*c:7*n*c] + 1j*raveled[7*n*c      ]).reshape(c,n))\n",
      "    return MLU, MDU, MRU, MRD\n",
      "\n",
      "def unravelAndSet(raveled):\n",
      "    global MLU\n",
      "    global MDU\n",
      "    global MRU\n",
      "    global MRD\n",
      "    MLU, MDU, MRU, MRD = unravel(raveled)\n",
      "\n",
      "def unravelAndComputeResiduals(raveled):\n",
      "    MLU, MLD, MRU, MRD = unravel(raveled)\n",
      "    return computeResidualFor(MLU,MLD,MRU,MRD)\n",
      "\n",
      "print(computeResidual())\n",
      "for _ in range(5):\n",
      "    unravelAndSet(fmin_bfgs(unravelAndComputeResiduals,ravel(MLU,MLD,MRU,MRD)))\n",
      "    print(computeResidual())"
     ],
     "language": "python",
     "metadata": {},
     "outputs": []
    },
    {
     "cell_type": "code",
     "collapsed": false,
     "input": [
      "U, S, V = svd(LR.reshape(n*n,n*n),full_matrices=False)\n",
      "print(norm(dot(U[:,:n],dot(diag(S[:n]),V[:n,:])).ravel()-LR))"
     ],
     "language": "python",
     "metadata": {},
     "outputs": [
      {
       "output_type": "stream",
       "stream": "stdout",
       "text": [
        "693.7831111861921\n"
       ]
      }
     ],
     "prompt_number": 83
    },
    {
     "cell_type": "code",
     "collapsed": false,
     "input": [
      "gmres?"
     ],
     "language": "python",
     "metadata": {},
     "outputs": [],
     "prompt_number": 84
    },
    {
     "cell_type": "code",
     "collapsed": false,
     "input": [],
     "language": "python",
     "metadata": {},
     "outputs": []
    }
   ],
   "metadata": {}
  }
 ]
}