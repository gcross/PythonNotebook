{
 "metadata": {
  "name": ""
 },
 "nbformat": 3,
 "nbformat_minor": 0,
 "worksheets": [
  {
   "cells": [
    {
     "cell_type": "code",
     "collapsed": false,
     "input": [
      "from functools import reduce\n",
      "from timeit import timeit\n",
      "from numpy import *\n",
      "from numpy.random import *\n",
      "from scipy.linalg import *\n",
      "from scipy.optimize import fmin_bfgs, leastsq\n",
      "from scipy.misc import derivative\n",
      "\n",
      "def crand(*shape):\n",
      "    return rand(*shape)*2-1 + rand(*shape)*2j-1j\n",
      "\n",
      "set_printoptions(linewidth=200)"
     ],
     "language": "python",
     "metadata": {},
     "outputs": [],
     "prompt_number": 4
    },
    {
     "cell_type": "code",
     "collapsed": false,
     "input": [
      "c = 4\n",
      "n = c*c\n",
      "\n",
      "A = crand(n,n)\n",
      "B = crand(n,n)\n",
      "AB = dot(A,B)\n",
      "\n",
      "X0 = rand(2*n*c)\n",
      "\n",
      "def unravel(x_raveled):\n",
      "    return (x_raveled[:n*c] + 1j*x_raveled[n*c:]).reshape(n,c)\n",
      "\n",
      "def ravel(x_unraveled):\n",
      "    y = zeros((2,n*c),dtype=float)\n",
      "    y[0] = x_unraveled.real.ravel()\n",
      "    y[1] = x_unraveled.imag.ravel()\n",
      "    return y.ravel()"
     ],
     "language": "python",
     "metadata": {},
     "outputs": [],
     "prompt_number": 50
    },
    {
     "cell_type": "code",
     "collapsed": false,
     "input": [
      "penalty_factor = 1\n",
      "\n",
      "def f1(x_raveled):\n",
      "    X = unravel(x_raveled)\n",
      "    r = -dot(A,B)+reduce(dot,[A,X,X.conj().transpose(),B])\n",
      "    y = zeros((2,n*n),dtype=float)\n",
      "    y[0] = r.real.ravel()\n",
      "    y[1] = r.imag.ravel()\n",
      "    return y.ravel()\n",
      "\n",
      "def f2(x_raveled):\n",
      "    X = unravel(x_raveled)\n",
      "    r = dot(X,X.conj().transpose())-diag([1]*c+[0]*(n-c))\n",
      "    y = zeros((2,n*n),dtype=float)\n",
      "    y[0] = r.real.ravel()\n",
      "    y[1] = r.imag.ravel()\n",
      "    return y.ravel()\n",
      "\n",
      "def f(x_raveled):\n",
      "    return f1(x_raveled) # + penalty_factor*f2(x_raveled)\n",
      "\n",
      "def Df1(x_raveled):\n",
      "    X = unravel(x_raveled)\n",
      "    r1 = multiply.outer(A,dot(X.conj().transpose(),B)).transpose(0,3,1,2)\n",
      "    r2 = multiply.outer(dot(A,X),B).transpose(0,3,2,1)\n",
      "    y = zeros((2,n,n,2,n,c),dtype=float)\n",
      "    y[0,:,:,0,:,:] = + r1.real + r2.real\n",
      "    y[0,:,:,1,:,:] = - r1.imag + r2.imag\n",
      "    y[1,:,:,0,:,:] = + r1.imag + r2.imag\n",
      "    y[1,:,:,1,:,:] = + r1.real - r2.real\n",
      "    return y.reshape(2*n*n,2*n*c)\n",
      "\n",
      "def Df2(X_raveled):\n",
      "    X = unravel(X_raveled)\n",
      "    Xc = X.conj()\n",
      "    DX = zeros((n,n,2,n,c),dtype=complex128)\n",
      "    for l in range(n):\n",
      "        for m in range(c):\n",
      "            for i in range(n):\n",
      "                DX[i,l,0,l,m] += X[i,m]\n",
      "                DX[i,l,1,l,m] += X[i,m]*(-1j)\n",
      "            for k in range(n):\n",
      "                DX[l,k,0,l,m] += Xc[k,m]\n",
      "                DX[l,k,1,l,m] += Xc[k,m]*(+1j)\n",
      "    Y = zeros((2,n,n,2,n,c),dtype=float64)\n",
      "    Y[0] = DX.real\n",
      "    Y[1] = DX.imag\n",
      "    return Y.reshape(2*n*n,2*n*c)\n",
      "\n",
      "def Df(x_raveled):\n",
      "    return Df1(x_raveled) # + penalty_factor*Df2(x_raveled)\n",
      "\n",
      "def g(x_raveled):\n",
      "    return sum(f(x_raveled)**2)"
     ],
     "language": "python",
     "metadata": {},
     "outputs": [],
     "prompt_number": 51
    },
    {
     "cell_type": "code",
     "collapsed": false,
     "input": [
      "X1, _, infodict, message, ier = leastsq(f,X0,Dfun=Df,full_output=True)\n",
      "print(infodict[\"nfev\"],\"ops\")\n",
      "print(message)\n",
      "print(ier)\n",
      "print(g(X1))\n",
      "X1U = unravel(X1)"
     ],
     "language": "python",
     "metadata": {},
     "outputs": [
      {
       "output_type": "stream",
       "stream": "stdout",
       "text": [
        "83 ops\n",
        "Both actual and predicted relative reductions in the sum of squares\n",
        "  are at most 0.000000\n",
        "1\n",
        "444.467328714\n"
       ]
      }
     ],
     "prompt_number": 52
    },
    {
     "cell_type": "code",
     "collapsed": false,
     "input": [
      "dot(X1U,X1U.conj().transpose());"
     ],
     "language": "python",
     "metadata": {},
     "outputs": [],
     "prompt_number": 27
    },
    {
     "cell_type": "code",
     "collapsed": false,
     "input": [
      "sum(f1(X1)**2)"
     ],
     "language": "python",
     "metadata": {},
     "outputs": [
      {
       "output_type": "pyout",
       "prompt_number": 28,
       "text": [
        "8099.5211214959236"
       ]
      }
     ],
     "prompt_number": 28
    },
    {
     "cell_type": "code",
     "collapsed": false,
     "input": [
      "sum(f2(X1)**2)"
     ],
     "language": "python",
     "metadata": {},
     "outputs": [
      {
       "output_type": "pyout",
       "prompt_number": 29,
       "text": [
        "9.6419497246933084"
       ]
      }
     ],
     "prompt_number": 29
    },
    {
     "cell_type": "code",
     "collapsed": false,
     "input": [
      "U, S, V = svd(X1U,full_matrices=False)\n",
      "X2U = dot(U,V)\n",
      "print(norm(X1U-X2U))\n",
      "X2 = ravel(X2U)\n",
      "print(sum(f1(X1)**2),sum(f1(X2)**2)-sum(f1(X1)**2))"
     ],
     "language": "python",
     "metadata": {},
     "outputs": [
      {
       "output_type": "stream",
       "stream": "stdout",
       "text": [
        "0.0708457260564\n",
        "8099.5211215 46.3102312815\n"
       ]
      }
     ],
     "prompt_number": 30
    },
    {
     "cell_type": "code",
     "collapsed": false,
     "input": [
      "import numpy.linalg\n",
      "dir(numpy.linalg)"
     ],
     "language": "python",
     "metadata": {},
     "outputs": [
      {
       "output_type": "pyout",
       "prompt_number": 53,
       "text": [
        "['LinAlgError',\n",
        " 'Tester',\n",
        " '__builtins__',\n",
        " '__cached__',\n",
        " '__doc__',\n",
        " '__file__',\n",
        " '__name__',\n",
        " '__package__',\n",
        " '__path__',\n",
        " 'bench',\n",
        " 'cholesky',\n",
        " 'cond',\n",
        " 'det',\n",
        " 'eig',\n",
        " 'eigh',\n",
        " 'eigvals',\n",
        " 'eigvalsh',\n",
        " 'info',\n",
        " 'inv',\n",
        " 'lapack_lite',\n",
        " 'linalg',\n",
        " 'lstsq',\n",
        " 'matrix_power',\n",
        " 'matrix_rank',\n",
        " 'norm',\n",
        " 'pinv',\n",
        " 'qr',\n",
        " 'slogdet',\n",
        " 'solve',\n",
        " 'svd',\n",
        " 'tensorinv',\n",
        " 'tensorsolve',\n",
        " 'test']"
       ]
      }
     ],
     "prompt_number": 53
    },
    {
     "cell_type": "code",
     "collapsed": false,
     "input": [
      "from numpy.linalg import lstsq\n",
      "lstsq?"
     ],
     "language": "python",
     "metadata": {},
     "outputs": [],
     "prompt_number": 55
    },
    {
     "cell_type": "code",
     "collapsed": false,
     "input": [],
     "language": "python",
     "metadata": {},
     "outputs": []
    }
   ],
   "metadata": {}
  }
 ]
}