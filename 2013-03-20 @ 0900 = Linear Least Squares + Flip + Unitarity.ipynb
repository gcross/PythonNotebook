{
 "metadata": {
  "name": "2013-03-20-0900 Linear Least Squares + Flip + Unitarity"
 },
 "nbformat": 3,
 "nbformat_minor": 0,
 "worksheets": [
  {
   "cells": [
    {
     "cell_type": "code",
     "collapsed": false,
     "input": [
      "from functools import reduce\n",
      "from timeit import timeit\n",
      "from numpy import *\n",
      "from numpy.random import *\n",
      "from scipy.linalg import *\n",
      "from scipy.optimize import fmin_bfgs, leastsq\n",
      "from scipy.misc import derivative\n",
      "\n",
      "def crand(*shape):\n",
      "    return rand(*shape)*2-1 + rand(*shape)*2j-1j\n",
      "\n",
      "set_printoptions(linewidth=200)"
     ],
     "language": "python",
     "metadata": {},
     "outputs": [],
     "prompt_number": 6
    },
    {
     "cell_type": "code",
     "collapsed": false,
     "input": [
      "def flip(X):\n",
      "    return X.transpose(1,0,3,2).conj()\n",
      "\n",
      "def symmeterize(X):\n",
      "    return X + flip(X)\n",
      "\n",
      "def Tdot(C,D):\n",
      "    return tensordot(C,D,axes=2)"
     ],
     "language": "python",
     "metadata": {},
     "outputs": [],
     "prompt_number": 7
    },
    {
     "cell_type": "code",
     "collapsed": false,
     "input": [
      "n = 5\n",
      "c = 3\n",
      "\n",
      "A = crand(n,n,n,n)\n",
      "B = crand(n,n,n,n)\n",
      "AB = Tdot(A,B)\n",
      "AB_raveled = zeros((2,n,n,n,n),dtype=float64)\n",
      "AB_raveled[0] == AB.real\n",
      "AB_raveled[1] == AB.imag\n",
      "AB_raveled = AB_raveled.ravel()\n",
      "\n",
      "L = crand(n,n,c,c)\n",
      "R = crand(c,c,n,n)\n",
      "\n",
      "def unravelL(x_raveled):\n",
      "    return (x_raveled[:n*n*c*c] + 1j*x_raveled[n*n*c*c:]).reshape(n,n,c,c)\n",
      "\n",
      "def unravelR(x_raveled):\n",
      "    return (x_raveled[:c*c*n*n] + 1j*x_raveled[c*c*n*n:]).reshape(c,c,n,n)\n",
      "\n",
      "def ravelL(x_unraveled):\n",
      "    y = zeros((2,n*n*c*c),dtype=float)\n",
      "    y[0] = x_unraveled.real.ravel()\n",
      "    y[1] = x_unraveled.imag.ravel()\n",
      "    return y.ravel()\n",
      "\n",
      "def ravelR(x_unraveled):\n",
      "    y = zeros((2,c*c*n*n),dtype=float)\n",
      "    y[0] = x_unraveled.real.ravel()\n",
      "    y[1] = x_unraveled.imag.ravel()\n",
      "    return y.ravel()\n",
      "\n",
      "def ravelF(x_unraveled):\n",
      "    y = zeros((2,n*n*n*n),dtype=float)\n",
      "    y[0] = x_unraveled.real.ravel()\n",
      "    y[1] = x_unraveled.imag.ravel()\n",
      "    return y.ravel()"
     ],
     "language": "python",
     "metadata": {},
     "outputs": [],
     "prompt_number": 16
    },
    {
     "cell_type": "code",
     "collapsed": false,
     "input": [
      "def L(R):\n",
      "    \n",
      "\n",
      "def DfL(R):\n",
      "    OAB1 = multiply.outer(A,Tdot(symmeterize(R),B)).transpose(0,1,6,7,2,3,4,5)\n",
      "    OAB2 = OAB1.transpose(0,1,2,3,5,4,7,6)\n",
      "    y = zeros((2,n,n,n,n,2,n,n,c,c),dtype=float64)\n",
      "    y[0,:,:,:,:,0,:,:,:,:] = + OAB1.real + OAB2.real\n",
      "    y[0,:,:,:,:,1,:,:,:,:] = - OAB1.imag + OAB2.imag\n",
      "    y[1,:,:,:,:,0,:,:,:,:] = + OAB1.imag + OAB2.imag\n",
      "    y[1,:,:,:,:,1,:,:,:,:] = + OAB1.real - OAB2.real\n",
      "    return y.reshape(2*n*n*n*n,2*n*n*c*c)\n",
      "\n",
      "def DfR(L):\n",
      "    OAB1 = multiply.outer(Tdot(A,symmeterize(L)),B).transpose(0,1,6,7,2,3,4,5)\n",
      "    OAB2 = OAB1.transpose(0,1,2,3,5,4,7,6)\n",
      "    y = zeros((2,n,n,n,n,2,c,c,n,n),dtype=float64)\n",
      "    y[0,:,:,:,:,0,:,:,:,:] = + OAB1.real + OAB2.real\n",
      "    y[0,:,:,:,:,1,:,:,:,:] = - OAB1.imag + OAB2.imag\n",
      "    y[1,:,:,:,:,0,:,:,:,:] = + OAB1.imag + OAB2.imag\n",
      "    y[1,:,:,:,:,1,:,:,:,:] = + OAB1.real - OAB2.real\n",
      "    return y.reshape(2*n*n*n*n,2*c*c*n*n)\n",
      "\n",
      "def g(L,R):\n",
      "    return norm(-AB+reduce(Tdot,[A,L,R,B]))"
     ],
     "language": "python",
     "metadata": {},
     "outputs": [],
     "prompt_number": 9
    },
    {
     "cell_type": "code",
     "collapsed": false,
     "input": [
      "for i in range(10):\n",
      "    print(norm(L),norm(R))\n",
      "    L_raveled, residue, _, _ = lstsq(DfL(R),AB_raveled)\n",
      "    print(g(L,R))\n",
      "    L = unravelL(L_raveled)\n",
      "    R_raveled, residue, _, _ = lstsq(DfR(L),AB_raveled)\n",
      "    print(g(L,R))\n",
      "    R = unravelR(R_raveled)"
     ],
     "language": "python",
     "metadata": {},
     "outputs": [
      {
       "output_type": "stream",
       "stream": "stdout",
       "text": [
        "12.4469290749 12.1546088012\n",
        "838.112378449"
       ]
      },
      {
       "output_type": "stream",
       "stream": "stdout",
       "text": [
        "\n",
        "85.575285881\n",
        "0.0 0.0\n",
        "85.575285881\n",
        "85.575285881"
       ]
      },
      {
       "output_type": "stream",
       "stream": "stdout",
       "text": [
        "\n",
        "0.0 0.0\n",
        "85.575285881\n",
        "85.575285881\n",
        "0.0 0.0\n",
        "85.575285881"
       ]
      },
      {
       "output_type": "stream",
       "stream": "stdout",
       "text": [
        "\n",
        "85.575285881\n",
        "0.0 0.0\n",
        "85.575285881\n",
        "85.575285881"
       ]
      },
      {
       "output_type": "stream",
       "stream": "stdout",
       "text": [
        "\n",
        "0.0 0.0\n",
        "85.575285881\n",
        "85.575285881\n",
        "0.0 0.0\n",
        "85.575285881"
       ]
      },
      {
       "output_type": "stream",
       "stream": "stdout",
       "text": [
        "\n",
        "85.575285881\n",
        "0.0 0.0\n",
        "85.575285881\n",
        "85.575285881"
       ]
      },
      {
       "output_type": "stream",
       "stream": "stdout",
       "text": [
        "\n",
        "0.0 0.0\n",
        "85.575285881\n",
        "85.575285881\n",
        "0.0 0.0\n",
        "85.575285881"
       ]
      },
      {
       "output_type": "stream",
       "stream": "stdout",
       "text": [
        "\n",
        "85.575285881\n"
       ]
      }
     ],
     "prompt_number": 17
    },
    {
     "cell_type": "code",
     "collapsed": false,
     "input": [],
     "language": "python",
     "metadata": {},
     "outputs": [
      {
       "output_type": "pyout",
       "prompt_number": 13,
       "text": [
        "array([[[[ 0.+0.j,  0.+0.j,  0.+0.j,  0.+0.j,  0.+0.j],\n",
        "         [ 0.+0.j,  0.+0.j,  0.+0.j,  0.+0.j,  0.+0.j],\n",
        "         [ 0.+0.j,  0.+0.j,  0.+0.j,  0.+0.j,  0.+0.j],\n",
        "         [ 0.+0.j,  0.+0.j,  0.+0.j,  0.+0.j,  0.+0.j],\n",
        "         [ 0.+0.j,  0.+0.j,  0.+0.j,  0.+0.j,  0.+0.j]],\n",
        "\n",
        "        [[ 0.+0.j,  0.+0.j,  0.+0.j,  0.+0.j,  0.+0.j],\n",
        "         [ 0.+0.j,  0.+0.j,  0.+0.j,  0.+0.j,  0.+0.j],\n",
        "         [ 0.+0.j,  0.+0.j,  0.+0.j,  0.+0.j,  0.+0.j],\n",
        "         [ 0.+0.j,  0.+0.j,  0.+0.j,  0.+0.j,  0.+0.j],\n",
        "         [ 0.+0.j,  0.+0.j,  0.+0.j,  0.+0.j,  0.+0.j]],\n",
        "\n",
        "        [[ 0.+0.j,  0.+0.j,  0.+0.j,  0.+0.j,  0.+0.j],\n",
        "         [ 0.+0.j,  0.+0.j,  0.+0.j,  0.+0.j,  0.+0.j],\n",
        "         [ 0.+0.j,  0.+0.j,  0.+0.j,  0.+0.j,  0.+0.j],\n",
        "         [ 0.+0.j,  0.+0.j,  0.+0.j,  0.+0.j,  0.+0.j],\n",
        "         [ 0.+0.j,  0.+0.j,  0.+0.j,  0.+0.j,  0.+0.j]]],\n",
        "\n",
        "\n",
        "       [[[ 0.+0.j,  0.+0.j,  0.+0.j,  0.+0.j,  0.+0.j],\n",
        "         [ 0.+0.j,  0.+0.j,  0.+0.j,  0.+0.j,  0.+0.j],\n",
        "         [ 0.+0.j,  0.+0.j,  0.+0.j,  0.+0.j,  0.+0.j],\n",
        "         [ 0.+0.j,  0.+0.j,  0.+0.j,  0.+0.j,  0.+0.j],\n",
        "         [ 0.+0.j,  0.+0.j,  0.+0.j,  0.+0.j,  0.+0.j]],\n",
        "\n",
        "        [[ 0.+0.j,  0.+0.j,  0.+0.j,  0.+0.j,  0.+0.j],\n",
        "         [ 0.+0.j,  0.+0.j,  0.+0.j,  0.+0.j,  0.+0.j],\n",
        "         [ 0.+0.j,  0.+0.j,  0.+0.j,  0.+0.j,  0.+0.j],\n",
        "         [ 0.+0.j,  0.+0.j,  0.+0.j,  0.+0.j,  0.+0.j],\n",
        "         [ 0.+0.j,  0.+0.j,  0.+0.j,  0.+0.j,  0.+0.j]],\n",
        "\n",
        "        [[ 0.+0.j,  0.+0.j,  0.+0.j,  0.+0.j,  0.+0.j],\n",
        "         [ 0.+0.j,  0.+0.j,  0.+0.j,  0.+0.j,  0.+0.j],\n",
        "         [ 0.+0.j,  0.+0.j,  0.+0.j,  0.+0.j,  0.+0.j],\n",
        "         [ 0.+0.j,  0.+0.j,  0.+0.j,  0.+0.j,  0.+0.j],\n",
        "         [ 0.+0.j,  0.+0.j,  0.+0.j,  0.+0.j,  0.+0.j]]],\n",
        "\n",
        "\n",
        "       [[[ 0.+0.j,  0.+0.j,  0.+0.j,  0.+0.j,  0.+0.j],\n",
        "         [ 0.+0.j,  0.+0.j,  0.+0.j,  0.+0.j,  0.+0.j],\n",
        "         [ 0.+0.j,  0.+0.j,  0.+0.j,  0.+0.j,  0.+0.j],\n",
        "         [ 0.+0.j,  0.+0.j,  0.+0.j,  0.+0.j,  0.+0.j],\n",
        "         [ 0.+0.j,  0.+0.j,  0.+0.j,  0.+0.j,  0.+0.j]],\n",
        "\n",
        "        [[ 0.+0.j,  0.+0.j,  0.+0.j,  0.+0.j,  0.+0.j],\n",
        "         [ 0.+0.j,  0.+0.j,  0.+0.j,  0.+0.j,  0.+0.j],\n",
        "         [ 0.+0.j,  0.+0.j,  0.+0.j,  0.+0.j,  0.+0.j],\n",
        "         [ 0.+0.j,  0.+0.j,  0.+0.j,  0.+0.j,  0.+0.j],\n",
        "         [ 0.+0.j,  0.+0.j,  0.+0.j,  0.+0.j,  0.+0.j]],\n",
        "\n",
        "        [[ 0.+0.j,  0.+0.j,  0.+0.j,  0.+0.j,  0.+0.j],\n",
        "         [ 0.+0.j,  0.+0.j,  0.+0.j,  0.+0.j,  0.+0.j],\n",
        "         [ 0.+0.j,  0.+0.j,  0.+0.j,  0.+0.j,  0.+0.j],\n",
        "         [ 0.+0.j,  0.+0.j,  0.+0.j,  0.+0.j,  0.+0.j],\n",
        "         [ 0.+0.j,  0.+0.j,  0.+0.j,  0.+0.j,  0.+0.j]]]])"
       ]
      }
     ],
     "prompt_number": 13
    },
    {
     "cell_type": "code",
     "collapsed": false,
     "input": [],
     "language": "python",
     "metadata": {},
     "outputs": []
    }
   ],
   "metadata": {}
  }
 ]
}