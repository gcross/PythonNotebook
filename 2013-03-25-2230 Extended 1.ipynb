{
 "metadata": {
  "name": "2013-03-25-2230 Extended 1"
 },
 "nbformat": 3,
 "nbformat_minor": 0,
 "worksheets": [
  {
   "cells": [
    {
     "cell_type": "code",
     "collapsed": false,
     "input": [
      "from copy import *\n",
      "from functools import partial\n",
      "from numpy import *\n",
      "from numpy.random import *\n",
      "from scipy.linalg import *\n",
      "from scipy.optimize import fmin_bfgs, leastsq\n",
      "from scipy.misc import derivative\n",
      "\n",
      "set_printoptions(linewidth=200)\n",
      "\n",
      "import sys\n",
      "sys.path.append(\"/home/gcross/Projects/Carcassonne\")\n",
      "sys.path.append(\"/Users/gcross/Projects/Carcassonne\")\n",
      "import carcassonne\n",
      "\n",
      "from carcassonne.data import *\n",
      "from carcassonne.utils import *"
     ],
     "language": "python",
     "metadata": {},
     "outputs": [],
     "prompt_number": 36
    },
    {
     "cell_type": "code",
     "collapsed": false,
     "input": [
      "c = 3\n",
      "n = 9\n",
      "\n",
      "L = NDArrayData.newRandom(n,n,n,n)\n",
      "L += L.transpose(1,0,3,2).conj()\n",
      "\n",
      "R = NDArrayData.newRandom(n,n,n,n)\n",
      "R += R.transpose(1,0,3,2).conj()\n",
      "\n",
      "LR = L.contractWith(R,(2,3),(0,1)).toArray().ravel()"
     ],
     "language": "python",
     "metadata": {},
     "outputs": [],
     "prompt_number": 37
    },
    {
     "cell_type": "code",
     "collapsed": false,
     "input": [
      "def reset(d):\n",
      "    global MLU\n",
      "    MLU = NDArrayData.newRandom(n,c,d)\n",
      "    global MLD\n",
      "    MLD = NDArrayData.newRandom(n,c,d)\n",
      "    global MRU\n",
      "    MRU = NDArrayData.newRandom(c,n,d)\n",
      "    global MRD\n",
      "    MRD = NDArrayData.newRandom(c,n,d)\n",
      "\n",
      "# f(L,MLU,MLD,MRU,MRD,R)\n",
      "contract = formDataContractor(\n",
      "    [\n",
      "        Join(0,2,1,0), # L -- MLU\n",
      "        Join(0,3,2,0), # L -- MLD\n",
      "        Join(1,1,3,0), # MLU -- MRU\n",
      "        Join(2,1,4,0), # MLD -- MRD\n",
      "        Join(3,1,5,0), # MRU -- R\n",
      "        Join(4,1,5,1), # MRD -- R\n",
      "        Join(1,2,2,2), # MLU -- MLD\n",
      "        Join(3,2,4,2), # MRU -- MRD\n",
      "    ],[\n",
      "        [(0,0),(0,1),(5,2),(5,3)]\n",
      "    ]\n",
      ")\n",
      "\n",
      "def computeResidual():\n",
      "    return computeResidualFor(MLU,MLD,MRU,MRD)\n",
      "\n",
      "def computeResidualFor(MLU,MLD,MRU,MRD):\n",
      "    return norm(contract(L,MLU,MLD,MRU,MRD,R).toArray().ravel()-LR)    "
     ],
     "language": "python",
     "metadata": {},
     "outputs": [],
     "prompt_number": 43
    },
    {
     "cell_type": "code",
     "collapsed": false,
     "input": [
      "def fMLU(MLU_raveled):\n",
      "    MLU = NDArrayData(MLU_raveled.reshape(n,c,d))\n",
      "    return contract(L,MLU,MLD,MRU,MRD,R).toArray()\n",
      "\n",
      "def fMLD(MLD_raveled):\n",
      "    MLD = NDArrayData(MLD_raveled.reshape(n,c,d))\n",
      "    return contract(L,MLU,MLD,MRU,MRD,R).toArray()\n",
      "\n",
      "def fMRU(MRU_raveled):\n",
      "    MRU = NDArrayData(MRU_raveled.reshape(c,n,d))\n",
      "    return contract(L,MLU,MLD,MRU,MRD,R).toArray()\n",
      "\n",
      "def fMRD(MRD_raveled):\n",
      "    MRD = NDArrayData(MRD_raveled.reshape(c,n,d))\n",
      "    return contract(L,MLU,MLD,MRU,MRD,R).toArray()"
     ],
     "language": "python",
     "metadata": {},
     "outputs": [],
     "prompt_number": 44
    },
    {
     "cell_type": "code",
     "collapsed": false,
     "input": [
      "def updateDerivatives():\n",
      "    global DfMLU\n",
      "    DfMLU = formDataContractor(\n",
      "        [\n",
      "            Join(0,3,1,0), # L -- MLD\n",
      "            Join(1,1,3,0), # MLD -- MRD\n",
      "            Join(2,1,4,0), # MRU -- R\n",
      "            Join(3,1,4,1), # MRD -- R\n",
      "            Join(2,2,3,2), # MRU -- MRD\n",
      "        ],[\n",
      "            [(0,0),(0,1),(4,2),(4,3)],\n",
      "            [(0,2),(2,0),(1,2)],\n",
      "        ]\n",
      "    )(L,MLD,MRU,MRD,R).toArray()\n",
      "    \n",
      "    global DfMLD\n",
      "    DfMLD = formDataContractor(\n",
      "        [\n",
      "            Join(0,2,1,0), # L -- MLU\n",
      "            Join(1,1,2,0), # MLU -- MRU\n",
      "            Join(2,1,4,0), # MRU -- R\n",
      "            Join(3,1,4,1), # MRD -- R\n",
      "            Join(2,2,3,2), # MRU -- MRD\n",
      "        ],[\n",
      "            [(0,0),(0,1),(4,2),(4,3)],\n",
      "            [(0,3),(3,0),(1,2)],\n",
      "        ]\n",
      "    )(L,MLU,MRU,MRD,R).toArray()\n",
      "    \n",
      "    global DfMRU\n",
      "    DfMRU = formDataContractor(\n",
      "        [\n",
      "            Join(0,2,1,0), # L -- MLU\n",
      "            Join(0,3,2,0), # L -- MLD\n",
      "            Join(2,1,3,0), # MLD -- MRD\n",
      "            Join(3,1,4,1), # MRD -- R\n",
      "            Join(1,2,2,2), # MRU -- MRD\n",
      "        ],[\n",
      "            [(0,0),(0,1),(4,2),(4,3)],\n",
      "            [(1,1),(4,0),(3,2)],\n",
      "        ]\n",
      "    )(L,MLU,MLD,MRD,R).toArray()\n",
      "    \n",
      "    global DfMRD\n",
      "    DfMRD = formDataContractor(\n",
      "        [\n",
      "            Join(0,2,1,0), # L -- MLU\n",
      "            Join(0,3,2,0), # L -- MLD\n",
      "            Join(1,1,3,0), # MLU -- MRU\n",
      "            Join(3,1,4,0), # MRU -- R\n",
      "            Join(1,2,2,2), # MRU -- MRD\n",
      "        ],[\n",
      "            [(0,0),(0,1),(4,2),(4,3)],\n",
      "            [(2,1),(4,1),(3,2)],\n",
      "        ]\n",
      "    )(L,MLU,MLD,MRU,R).toArray()\n",
      "\n",
      "updateDerivatives()"
     ],
     "language": "python",
     "metadata": {},
     "outputs": [],
     "prompt_number": 45
    },
    {
     "cell_type": "code",
     "collapsed": false,
     "input": [
      "updateDerivatives()\n",
      "\n",
      "def checkDerivative(f,Df):\n",
      "    x0 = crand(n*c*d)\n",
      "    f0 = f(x0)\n",
      "    deltas = zeros((n*n*n*n,n*c*d),complex128)\n",
      "    for i in range(n*c*d):\n",
      "        x0_ = x0.copy()\n",
      "        x0_[i] += 1e-5\n",
      "        deltas[:,i] = (f(x0_)-f0)/1e-5\n",
      "    return norm(deltas-Df)\n",
      "print(checkDerivative(fMLU,DfMLU))\n",
      "print(checkDerivative(fMLD,DfMLD))\n",
      "print(checkDerivative(fMRU,DfMRU))\n",
      "print(checkDerivative(fMRD,DfMRD))"
     ],
     "language": "python",
     "metadata": {},
     "outputs": [
      {
       "output_type": "stream",
       "stream": "stdout",
       "text": [
        "3.24572653823e-05\n",
        "1.21329927884e-07"
       ]
      },
      {
       "output_type": "stream",
       "stream": "stdout",
       "text": [
        "\n",
        "6.06767597063e-08"
       ]
      },
      {
       "output_type": "stream",
       "stream": "stdout",
       "text": [
        "\n",
        "9.20180032688e-08"
       ]
      },
      {
       "output_type": "stream",
       "stream": "stdout",
       "text": [
        "\n"
       ]
      }
     ],
     "prompt_number": 46
    },
    {
     "cell_type": "code",
     "collapsed": false,
     "input": [
      "for d in range(1,9):\n",
      "    print(\"=\"*6,d,\"=\"*6)\n",
      "    reset(d)\n",
      "    updateDerivatives()\n",
      "\n",
      "    print(computeResidual())\n",
      "    for _ in range(10):\n",
      "        MLU = NDArrayData(lstsq(DfMLU,LR)[0].reshape(n,c,d))\n",
      "        updateDerivatives()\n",
      "        MLD = NDArrayData(lstsq(DfMLD,LR)[0].reshape(n,c,d))\n",
      "        updateDerivatives()\n",
      "        MRU = NDArrayData(lstsq(DfMRU,LR)[0].reshape(c,n,d))\n",
      "        updateDerivatives()\n",
      "        MRD = NDArrayData(lstsq(DfMRD,LR)[0].reshape(c,n,d))\n",
      "        updateDerivatives()\n",
      "        print(computeResidual())"
     ],
     "language": "python",
     "metadata": {},
     "outputs": [
      {
       "output_type": "stream",
       "stream": "stdout",
       "text": [
        "====== 1 ======\n",
        "13572.545588949428\n",
        "915.3231688881592"
       ]
      },
      {
       "output_type": "stream",
       "stream": "stdout",
       "text": [
        "\n",
        "897.4170586516875"
       ]
      },
      {
       "output_type": "stream",
       "stream": "stdout",
       "text": [
        "\n",
        "887.9750071455012"
       ]
      },
      {
       "output_type": "stream",
       "stream": "stdout",
       "text": [
        "\n",
        "883.1863734632616"
       ]
      },
      {
       "output_type": "stream",
       "stream": "stdout",
       "text": [
        "\n",
        "880.4514073355815"
       ]
      },
      {
       "output_type": "stream",
       "stream": "stdout",
       "text": [
        "\n",
        "878.3050042647249"
       ]
      },
      {
       "output_type": "stream",
       "stream": "stdout",
       "text": [
        "\n",
        "876.424165071586"
       ]
      },
      {
       "output_type": "stream",
       "stream": "stdout",
       "text": [
        "\n",
        "874.9394754754958"
       ]
      },
      {
       "output_type": "stream",
       "stream": "stdout",
       "text": [
        "\n",
        "873.9244749381376"
       ]
      },
      {
       "output_type": "stream",
       "stream": "stdout",
       "text": [
        "\n",
        "873.2748545700704"
       ]
      },
      {
       "output_type": "stream",
       "stream": "stdout",
       "text": [
        "\n",
        "====== 2 ======\n",
        "21754.390742025535"
       ]
      },
      {
       "output_type": "stream",
       "stream": "stdout",
       "text": [
        "\n",
        "896.1398607305567"
       ]
      },
      {
       "output_type": "stream",
       "stream": "stdout",
       "text": [
        "\n",
        "871.3720838114712"
       ]
      },
      {
       "output_type": "stream",
       "stream": "stdout",
       "text": [
        "\n",
        "861.9798587864722"
       ]
      },
      {
       "output_type": "stream",
       "stream": "stdout",
       "text": [
        "\n",
        "854.6943888633455"
       ]
      },
      {
       "output_type": "stream",
       "stream": "stdout",
       "text": [
        "\n",
        "847.9807348555192"
       ]
      },
      {
       "output_type": "stream",
       "stream": "stdout",
       "text": [
        "\n",
        "842.6932378699611"
       ]
      },
      {
       "output_type": "stream",
       "stream": "stdout",
       "text": [
        "\n",
        "839.1405117510496"
       ]
      },
      {
       "output_type": "stream",
       "stream": "stdout",
       "text": [
        "\n",
        "836.8480739011543"
       ]
      },
      {
       "output_type": "stream",
       "stream": "stdout",
       "text": [
        "\n",
        "835.3307869851923"
       ]
      },
      {
       "output_type": "stream",
       "stream": "stdout",
       "text": [
        "\n",
        "834.2925365542161"
       ]
      },
      {
       "output_type": "stream",
       "stream": "stdout",
       "text": [
        "\n",
        "====== 3 ======\n",
        "32575.905089730506"
       ]
      },
      {
       "output_type": "stream",
       "stream": "stdout",
       "text": [
        "\n",
        "892.8712469654754"
       ]
      },
      {
       "output_type": "stream",
       "stream": "stdout",
       "text": [
        "\n",
        "854.4134024438322"
       ]
      },
      {
       "output_type": "stream",
       "stream": "stdout",
       "text": [
        "\n",
        "841.1698553549975"
       ]
      },
      {
       "output_type": "stream",
       "stream": "stdout",
       "text": [
        "\n",
        "834.3064063116874"
       ]
      },
      {
       "output_type": "stream",
       "stream": "stdout",
       "text": [
        "\n",
        "829.7230692339824"
       ]
      },
      {
       "output_type": "stream",
       "stream": "stdout",
       "text": [
        "\n",
        "826.3565023339073"
       ]
      },
      {
       "output_type": "stream",
       "stream": "stdout",
       "text": [
        "\n",
        "823.7187594433136"
       ]
      },
      {
       "output_type": "stream",
       "stream": "stdout",
       "text": [
        "\n",
        "821.547361969101"
       ]
      },
      {
       "output_type": "stream",
       "stream": "stdout",
       "text": [
        "\n",
        "819.6615804721469"
       ]
      },
      {
       "output_type": "stream",
       "stream": "stdout",
       "text": [
        "\n",
        "817.9239881378417"
       ]
      },
      {
       "output_type": "stream",
       "stream": "stdout",
       "text": [
        "\n",
        "====== 4 ======\n",
        "44020.0661513521"
       ]
      },
      {
       "output_type": "stream",
       "stream": "stdout",
       "text": [
        "\n",
        "878.858724586004"
       ]
      },
      {
       "output_type": "stream",
       "stream": "stdout",
       "text": [
        "\n",
        "841.245099960737"
       ]
      },
      {
       "output_type": "stream",
       "stream": "stdout",
       "text": [
        "\n",
        "823.7636297573019"
       ]
      },
      {
       "output_type": "stream",
       "stream": "stdout",
       "text": [
        "\n",
        "814.1334707049278"
       ]
      },
      {
       "output_type": "stream",
       "stream": "stdout",
       "text": [
        "\n",
        "808.398172047563"
       ]
      },
      {
       "output_type": "stream",
       "stream": "stdout",
       "text": [
        "\n",
        "804.703527994685"
       ]
      },
      {
       "output_type": "stream",
       "stream": "stdout",
       "text": [
        "\n",
        "802.0907773256127"
       ]
      },
      {
       "output_type": "stream",
       "stream": "stdout",
       "text": [
        "\n",
        "800.1238567769745"
       ]
      },
      {
       "output_type": "stream",
       "stream": "stdout",
       "text": [
        "\n",
        "798.5720168522453"
       ]
      },
      {
       "output_type": "stream",
       "stream": "stdout",
       "text": [
        "\n",
        "797.2947396724641"
       ]
      },
      {
       "output_type": "stream",
       "stream": "stdout",
       "text": [
        "\n",
        "====== 5 ======\n",
        "60414.40380353273"
       ]
      },
      {
       "output_type": "stream",
       "stream": "stdout",
       "text": [
        "\n",
        "865.5742014267313"
       ]
      },
      {
       "output_type": "stream",
       "stream": "stdout",
       "text": [
        "\n",
        "819.6253277950423"
       ]
      },
      {
       "output_type": "stream",
       "stream": "stdout",
       "text": [
        "\n",
        "803.1294389767834"
       ]
      },
      {
       "output_type": "stream",
       "stream": "stdout",
       "text": [
        "\n",
        "793.3696912279568"
       ]
      },
      {
       "output_type": "stream",
       "stream": "stdout",
       "text": [
        "\n",
        "786.3352333837914"
       ]
      },
      {
       "output_type": "stream",
       "stream": "stdout",
       "text": [
        "\n",
        "781.347602504416"
       ]
      },
      {
       "output_type": "stream",
       "stream": "stdout",
       "text": [
        "\n",
        "777.8347564312695"
       ]
      },
      {
       "output_type": "stream",
       "stream": "stdout",
       "text": [
        "\n",
        "775.242753079267"
       ]
      },
      {
       "output_type": "stream",
       "stream": "stdout",
       "text": [
        "\n",
        "773.1854829654307"
       ]
      },
      {
       "ename": "KeyboardInterrupt",
       "evalue": "",
       "output_type": "pyerr",
       "traceback": [
        "\u001b[0;31m---------------------------------------------------------------------------\u001b[0m\n\u001b[0;31mKeyboardInterrupt\u001b[0m                         Traceback (most recent call last)",
        "\u001b[0;32m<ipython-input-50-3c9ba9be9ab9>\u001b[0m in \u001b[0;36m<module>\u001b[0;34m()\u001b[0m\n\u001b[1;32m     13\u001b[0m         \u001b[0mupdateDerivatives\u001b[0m\u001b[0;34m(\u001b[0m\u001b[0;34m)\u001b[0m\u001b[0;34m\u001b[0m\u001b[0m\n\u001b[1;32m     14\u001b[0m         \u001b[0mMRD\u001b[0m \u001b[0;34m=\u001b[0m \u001b[0mNDArrayData\u001b[0m\u001b[0;34m(\u001b[0m\u001b[0mlstsq\u001b[0m\u001b[0;34m(\u001b[0m\u001b[0mDfMRD\u001b[0m\u001b[0;34m,\u001b[0m\u001b[0mLR\u001b[0m\u001b[0;34m)\u001b[0m\u001b[0;34m[\u001b[0m\u001b[0;36m0\u001b[0m\u001b[0;34m]\u001b[0m\u001b[0;34m.\u001b[0m\u001b[0mreshape\u001b[0m\u001b[0;34m(\u001b[0m\u001b[0mc\u001b[0m\u001b[0;34m,\u001b[0m\u001b[0mn\u001b[0m\u001b[0;34m,\u001b[0m\u001b[0md\u001b[0m\u001b[0;34m)\u001b[0m\u001b[0;34m)\u001b[0m\u001b[0;34m\u001b[0m\u001b[0m\n\u001b[0;32m---> 15\u001b[0;31m         \u001b[0mupdateDerivatives\u001b[0m\u001b[0;34m(\u001b[0m\u001b[0;34m)\u001b[0m\u001b[0;34m\u001b[0m\u001b[0m\n\u001b[0m\u001b[1;32m     16\u001b[0m         \u001b[0mprint\u001b[0m\u001b[0;34m(\u001b[0m\u001b[0mcomputeResidual\u001b[0m\u001b[0;34m(\u001b[0m\u001b[0;34m)\u001b[0m\u001b[0;34m)\u001b[0m\u001b[0;34m\u001b[0m\u001b[0m\n",
        "\u001b[0;32m<ipython-input-45-e65a96770392>\u001b[0m in \u001b[0;36mupdateDerivatives\u001b[0;34m()\u001b[0m\n\u001b[1;32m     26\u001b[0m             \u001b[0;34m[\u001b[0m\u001b[0;34m(\u001b[0m\u001b[0;36m0\u001b[0m\u001b[0;34m,\u001b[0m\u001b[0;36m3\u001b[0m\u001b[0;34m)\u001b[0m\u001b[0;34m,\u001b[0m\u001b[0;34m(\u001b[0m\u001b[0;36m3\u001b[0m\u001b[0;34m,\u001b[0m\u001b[0;36m0\u001b[0m\u001b[0;34m)\u001b[0m\u001b[0;34m,\u001b[0m\u001b[0;34m(\u001b[0m\u001b[0;36m1\u001b[0m\u001b[0;34m,\u001b[0m\u001b[0;36m2\u001b[0m\u001b[0;34m)\u001b[0m\u001b[0;34m]\u001b[0m\u001b[0;34m,\u001b[0m\u001b[0;34m\u001b[0m\u001b[0m\n\u001b[1;32m     27\u001b[0m         ]\n\u001b[0;32m---> 28\u001b[0;31m     )(L,MLU,MRU,MRD,R).toArray()\n\u001b[0m\u001b[1;32m     29\u001b[0m \u001b[0;34m\u001b[0m\u001b[0m\n\u001b[1;32m     30\u001b[0m     \u001b[0;32mglobal\u001b[0m \u001b[0mDfMRU\u001b[0m\u001b[0;34m\u001b[0m\u001b[0m\n",
        "\u001b[0;32m<string>\u001b[0m in \u001b[0;36mcontract\u001b[0;34m(***failed resolving arguments***)\u001b[0m\n",
        "\u001b[0;32m/Users/gcross/Projects/Carcassonne/carcassonne/data/__init__.py\u001b[0m in \u001b[0;36mcontractWith\u001b[0;34m(self, other, self_axes, other_axes)\u001b[0m\n\u001b[1;32m    156\u001b[0m     \u001b[0;31m# }}}\u001b[0m\u001b[0;34m\u001b[0m\u001b[0;34m\u001b[0m\u001b[0m\n\u001b[1;32m    157\u001b[0m     \u001b[0;32mdef\u001b[0m \u001b[0mcontractWith\u001b[0m\u001b[0;34m(\u001b[0m\u001b[0mself\u001b[0m\u001b[0;34m,\u001b[0m\u001b[0mother\u001b[0m\u001b[0;34m,\u001b[0m\u001b[0mself_axes\u001b[0m\u001b[0;34m,\u001b[0m\u001b[0mother_axes\u001b[0m\u001b[0;34m)\u001b[0m\u001b[0;34m:\u001b[0m \u001b[0;31m# {{{\u001b[0m\u001b[0;34m\u001b[0m\u001b[0m\n\u001b[0;32m--> 158\u001b[0;31m         \u001b[0;32mreturn\u001b[0m \u001b[0mNDArrayData\u001b[0m\u001b[0;34m(\u001b[0m\u001b[0mtensordot\u001b[0m\u001b[0;34m(\u001b[0m\u001b[0mself\u001b[0m\u001b[0;34m.\u001b[0m\u001b[0m_arr\u001b[0m\u001b[0;34m,\u001b[0m\u001b[0mother\u001b[0m\u001b[0;34m.\u001b[0m\u001b[0m_arr\u001b[0m\u001b[0;34m,\u001b[0m\u001b[0;34m(\u001b[0m\u001b[0mself_axes\u001b[0m\u001b[0;34m,\u001b[0m\u001b[0mother_axes\u001b[0m\u001b[0;34m)\u001b[0m\u001b[0;34m)\u001b[0m\u001b[0;34m)\u001b[0m\u001b[0;34m\u001b[0m\u001b[0m\n\u001b[0m\u001b[1;32m    159\u001b[0m     \u001b[0;31m# }}}\u001b[0m\u001b[0;34m\u001b[0m\u001b[0;34m\u001b[0m\u001b[0m\n\u001b[1;32m    160\u001b[0m     \u001b[0;32mdef\u001b[0m \u001b[0mcontractWithAlongAll\u001b[0m\u001b[0;34m(\u001b[0m\u001b[0mself\u001b[0m\u001b[0;34m,\u001b[0m\u001b[0mother\u001b[0m\u001b[0;34m)\u001b[0m\u001b[0;34m:\u001b[0m \u001b[0;31m# {{{\u001b[0m\u001b[0;34m\u001b[0m\u001b[0m\n",
        "\u001b[0;31mKeyboardInterrupt\u001b[0m: "
       ]
      },
      {
       "output_type": "stream",
       "stream": "stdout",
       "text": [
        "\n"
       ]
      }
     ],
     "prompt_number": 50
    },
    {
     "cell_type": "code",
     "collapsed": false,
     "input": [],
     "language": "python",
     "metadata": {},
     "outputs": []
    }
   ],
   "metadata": {}
  }
 ]
}