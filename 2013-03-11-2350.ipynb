{
 "metadata": {
  "name": "2013-03-11-2350"
 },
 "nbformat": 3,
 "nbformat_minor": 0,
 "worksheets": [
  {
   "cells": [
    {
     "cell_type": "code",
     "collapsed": false,
     "input": [
      "from functools import *\n",
      "from numpy import *\n",
      "from numpy.random import rand\n",
      "from scipy.optimize import *"
     ],
     "language": "python",
     "metadata": {},
     "outputs": [],
     "prompt_number": 18
    },
    {
     "cell_type": "code",
     "collapsed": false,
     "input": [
      "def crand(*shape):\n",
      "    return rand(*shape)*2-1 + rand(*shape)*2j-1j"
     ],
     "language": "python",
     "metadata": {},
     "outputs": [],
     "prompt_number": 5
    },
    {
     "cell_type": "code",
     "collapsed": false,
     "input": [
      "m = 3\n",
      "n = 4\n",
      "o = 5\n",
      "\n",
      "c = 2"
     ],
     "language": "python",
     "metadata": {},
     "outputs": [],
     "prompt_number": 36
    },
    {
     "cell_type": "code",
     "collapsed": false,
     "input": [
      "A = rand(m,n)\n",
      "B = rand(n,o)\n",
      "X_start = rand(n,c)"
     ],
     "language": "python",
     "metadata": {},
     "outputs": [],
     "prompt_number": 66
    },
    {
     "cell_type": "code",
     "collapsed": false,
     "input": [
      "def f1(X): \n",
      "    X = X.reshape(n,c)\n",
      "    return norm(dot(A,B)-reduce(dot,[A,X,X.transpose().conj(),B]))\n",
      "def f2(X):\n",
      "    X = X.reshape(n,c)\n",
      "    return -norm(trace(reduce(dot,[A.transpose().conj(),A,X,X.transpose().conj(),B,B.transpose().conj()])))/norm(dot(X,X.transpose().conj()))"
     ],
     "language": "python",
     "metadata": {},
     "outputs": [],
     "prompt_number": 70
    },
    {
     "cell_type": "code",
     "collapsed": false,
     "input": [
      "X_f1 = fmin_bfgs(f1,X_start)"
     ],
     "language": "python",
     "metadata": {},
     "outputs": [
      {
       "output_type": "stream",
       "stream": "stdout",
       "text": [
        "Optimization terminated successfully.\n",
        "         Current function value: 0.180926\n",
        "         Iterations: 29\n",
        "         Function evaluations: 400\n",
        "         Gradient evaluations: 40\n"
       ]
      }
     ],
     "prompt_number": 68
    },
    {
     "cell_type": "code",
     "collapsed": false,
     "input": [
      "X_f2 = fmin_bfgs(f2,X_start)"
     ],
     "language": "python",
     "metadata": {},
     "outputs": [
      {
       "output_type": "stream",
       "stream": "stdout",
       "text": [
        "Optimization terminated successfully.\n",
        "         Current function value: -17.913009\n",
        "         Iterations: 14\n",
        "         Function evaluations: 200\n",
        "         Gradient evaluations: 20\n"
       ]
      }
     ],
     "prompt_number": 71
    },
    {
     "cell_type": "code",
     "collapsed": false,
     "input": [
      "f1(X_f1), f1(X_f2)"
     ],
     "language": "python",
     "metadata": {},
     "outputs": [
      {
       "output_type": "pyout",
       "prompt_number": 72,
       "text": [
        "(0.18092579264999767, 4.7140088494602495)"
       ]
      }
     ],
     "prompt_number": 72
    },
    {
     "cell_type": "code",
     "collapsed": false,
     "input": [
      "f2(X_f1), f2(X_f2)"
     ],
     "language": "python",
     "metadata": {},
     "outputs": [
      {
       "output_type": "pyout",
       "prompt_number": 73,
       "text": [
        "(-3.1527574187087946, -17.913008718803141)"
       ]
      }
     ],
     "prompt_number": 73
    },
    {
     "cell_type": "code",
     "collapsed": false,
     "input": [],
     "language": "python",
     "metadata": {},
     "outputs": []
    }
   ],
   "metadata": {}
  }
 ]
}