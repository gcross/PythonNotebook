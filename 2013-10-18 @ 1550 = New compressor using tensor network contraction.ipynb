{
 "metadata": {
  "name": ""
 },
 "nbformat": 3,
 "nbformat_minor": 0,
 "worksheets": [
  {
   "cells": [
    {
     "cell_type": "code",
     "collapsed": false,
     "input": [
      "from functools import *\n",
      "\n",
      "from numpy import *\n",
      "from numpy.linalg import *\n",
      "from numpy.random import *\n",
      "\n",
      "from scipy.sparse.linalg import *\n",
      "from scipy.optimize import *\n",
      "\n",
      "from carcassonne.data import *\n",
      "from carcassonne.utils import *"
     ],
     "language": "python",
     "metadata": {},
     "outputs": [],
     "prompt_number": 5
    },
    {
     "cell_type": "code",
     "collapsed": false,
     "input": [
      "# return norm(M-absorbMatricesAt(M,(0,X),(0,XH),(1,XC),(1,XT),(2,XC),(2,XT),(3,X),(3,XH)))\n",
      "\n",
      "# M 0 - 1 2\n",
      "#   1 - 3 4\n",
      "# * 2 - 5 6\n",
      "#   3 - 7 8\n",
      "contractAllInto = formDataContractor(\n",
      "  [ Join(0,0,1,0), Join(1,1,2,0), # -- X  -- XH\n",
      "    Join(0,1,3,0), Join(3,1,4,0), # -- XC -- XT\n",
      "    Join(0,2,5,0), Join(5,1,6,0), # -- XC -- XT\n",
      "    Join(0,3,7,0), Join(7,1,8,0), # -- X  -- XH\n",
      "  ],\n",
      "  [\n",
      "    [(2,1)],\n",
      "    [(4,1)],\n",
      "    [(6,1)],\n",
      "    [(8,1)],\n",
      "  ]\n",
      ")"
     ],
     "language": "python",
     "metadata": {},
     "outputs": [],
     "prompt_number": 12
    },
    {
     "cell_type": "code",
     "collapsed": false,
     "input": [
      "n = 5\n",
      "nn = n*n\n",
      "m = 25\n",
      "c = 3\n",
      "cc = c*c"
     ],
     "language": "python",
     "metadata": {},
     "outputs": [],
     "prompt_number": 91
    },
    {
     "cell_type": "code",
     "collapsed": false,
     "input": [
      "C = NDArrayData.newRandom(n,n,m)\n",
      "C += C.transpose(1,0,2)\n",
      "M = C.contractWith(C.conj(),(2,),(2,))\n",
      "O = M.join((0,1),(2,3))"
     ],
     "language": "python",
     "metadata": {},
     "outputs": [],
     "prompt_number": 92
    },
    {
     "cell_type": "code",
     "collapsed": false,
     "input": [
      "def f(X):\n",
      "    X = NDArrayData(X.reshape(5,3))\n",
      "    XC = X.conj()\n",
      "    XT = X.transpose()\n",
      "    XH = X.transpose().conj()\n",
      "    return (M-contractAllInto(M,X,XH,XC,XT,XC,XT,X,XH)).norm()"
     ],
     "language": "python",
     "metadata": {},
     "outputs": [],
     "prompt_number": 102
    },
    {
     "cell_type": "code",
     "collapsed": false,
     "input": [
      "U, S, V = O.svd()\n",
      "S = NDArrayData.newDiagonal(S.toArray())"
     ],
     "language": "python",
     "metadata": {},
     "outputs": [],
     "prompt_number": 94
    },
    {
     "cell_type": "code",
     "collapsed": false,
     "input": [
      "(O-O.transpose().conj()).norm()"
     ],
     "language": "python",
     "metadata": {},
     "outputs": [
      {
       "metadata": {},
       "output_type": "pyout",
       "prompt_number": 95,
       "text": [
        "0.0"
       ]
      }
     ],
     "prompt_number": 95
    },
    {
     "cell_type": "code",
     "collapsed": false,
     "input": [
      "(O-U[:,:cc].contractWith(S[:cc,:cc],(1,),(0,)).contractWith(V[:cc,:],(1,),(0,))).norm()/O.norm()"
     ],
     "language": "python",
     "metadata": {},
     "outputs": [
      {
       "metadata": {},
       "output_type": "pyout",
       "prompt_number": 96,
       "text": [
        "0.18485646344512124"
       ]
      }
     ],
     "prompt_number": 96
    },
    {
     "cell_type": "code",
     "collapsed": false,
     "input": [
      "contract1T = formDataContractor(\n",
      "  [                               Join(1,1,8,0), # -- X  -- XH --\n",
      "    Join(0,1,2,0), Join(2,1,3,0), Join(3,1,8,1), # -- XC -- XT --\n",
      "    Join(0,2,4,0), Join(4,1,5,0), Join(5,1,8,2), # -- XC -- XT --\n",
      "    Join(0,3,6,0), Join(6,1,7,0), Join(7,1,8,3), # -- X  -- XH --\n",
      "  ],\n",
      "  [\n",
      "    [(0,0)],\n",
      "    [(1,0)],\n",
      "  ]\n",
      ")\n",
      "\n",
      "def matmul1(Y):\n",
      "    Y = NDArrayData(Y.reshape(5,3))\n",
      "    YC = X.conj()\n",
      "    YT = X.transpose()\n",
      "    YH = X.transpose().conj()\n",
      "    return contractAllInto(M,Y,XH,XC,XT,XC,XT,X,XH).toArray().ravel()\n",
      "\n",
      "def matmul1T(Y):\n",
      "    Y = NDArrayData(Y.reshape(n,n,n,n))\n",
      "    return contract1T(M,XH,XC,XT,XC,XT,X,XH,Y).toArray().ravel()"
     ],
     "language": "python",
     "metadata": {},
     "outputs": [],
     "prompt_number": 97
    },
    {
     "cell_type": "code",
     "collapsed": false,
     "input": [
      "def updateXs(Z):\n",
      "    U, S, V = Z.svd()\n",
      "    global X, XC, XT, XH\n",
      "    X = U[:,:c].contractWith(V[:c,:],(1,),(0,))\n",
      "    XC = X.conj()\n",
      "    XT = X.transpose()\n",
      "    XH = X.transpose().conj()\n",
      "\n",
      "updateXs(NDArrayData.newRandom(5,3))\n",
      "\n",
      "for i in range(5):\n",
      "    Z, info = gmres(\n",
      "        LinearOperator((n*c,)*2,lambda Y: matmul1T(matmul1(Y)),dtype=complex128),\n",
      "        matmul1T(M.toArray().ravel())\n",
      "    )\n",
      "    Z = NDArrayData(Z.reshape(X.shape))\n",
      "    overlap_1 = (M-contractAllInto(M,Z,XH,XC,XT,XC,XT,X,XH)).norm()/M.norm()\n",
      "    updateXs(Z)\n",
      "    overlap_2 = (M-contractAllInto(M,X,XH,XC,XT,XC,XT,X,XH)).norm()/M.norm()\n",
      "    print(overlap_1,overlap_2)"
     ],
     "language": "python",
     "metadata": {},
     "outputs": [
      {
       "output_type": "stream",
       "stream": "stdout",
       "text": [
        "1.09146463653 0.850879977641\n",
        "6.67007686175 0.874326533102\n",
        "2.56720337019 0.92073349216\n",
        "1.67567754645"
       ]
      },
      {
       "output_type": "stream",
       "stream": "stdout",
       "text": [
        " 0.920258272551\n",
        "2.28273703127 0.915706723716\n"
       ]
      }
     ],
     "prompt_number": 125
    },
    {
     "cell_type": "code",
     "collapsed": false,
     "input": [],
     "language": "python",
     "metadata": {},
     "outputs": [
      {
       "metadata": {},
       "output_type": "pyout",
       "prompt_number": 115,
       "text": [
        "NDArrayData(array([[ 0.+0.j,  0.+0.j,  0.+0.j],\n",
        "       [ 0.+0.j,  0.+0.j,  0.+0.j],\n",
        "       [ 0.+0.j,  0.+0.j,  0.+0.j],\n",
        "       [ 0.+0.j,  0.+0.j,  0.+0.j],\n",
        "       [ 0.+0.j,  0.+0.j,  0.+0.j]]))"
       ]
      }
     ],
     "prompt_number": 115
    },
    {
     "cell_type": "code",
     "collapsed": false,
     "input": [],
     "language": "python",
     "metadata": {},
     "outputs": []
    }
   ],
   "metadata": {}
  }
 ]
}