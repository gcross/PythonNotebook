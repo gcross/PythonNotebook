{
 "metadata": {
  "name": "2013-07-10"
 },
 "nbformat": 3,
 "nbformat_minor": 0,
 "worksheets": [
  {
   "cells": [
    {
     "cell_type": "code",
     "collapsed": false,
     "input": [
      "from scipy import *\n",
      "from scipy.linalg import *\n",
      "set_printoptions(linewidth=200)"
     ],
     "language": "python",
     "metadata": {},
     "outputs": [],
     "prompt_number": 17
    },
    {
     "cell_type": "code",
     "collapsed": false,
     "input": [
      "_1d = array([  0.00000000e+00 +0.00000000e+00j,   8.97574719e-01 -3.27165523e-01j,  -1.38777878e-16 -7.63278329e-17j,\n",
      "        -8.70691047e-02 -1.87304454e-01j,   2.77555756e-17 +1.45716772e-16j,   5.38845461e-02 +1.99400209e-01j,\n",
      "         1.59867804e-16 +1.28100396e-17j,   4.19579864e-02 -1.52936645e-02j])"
     ],
     "language": "python",
     "metadata": {},
     "outputs": [],
     "prompt_number": 20
    },
    {
     "cell_type": "code",
     "collapsed": false,
     "input": [
      "_2d = array([ -2.77555756e-17 +0.00000000e+00j,   8.41698291e-01 -4.51908887e-01j,  -2.77555756e-16 -2.74086309e-16j,\n",
      "        -1.12907960e-01 -1.72961788e-01j,  -5.55111512e-17 +1.70002901e-16j,   8.17892286e-02 +1.89669475e-01j,\n",
      "         1.44836114e-17 -5.09968266e-17j,   3.93459895e-02 -2.11249120e-02j])"
     ],
     "language": "python",
     "metadata": {},
     "outputs": [],
     "prompt_number": 16
    },
    {
     "cell_type": "code",
     "collapsed": false,
     "input": [
      "norm(_1d-_2d)"
     ],
     "language": "python",
     "metadata": {},
     "outputs": [
      {
       "output_type": "pyout",
       "prompt_number": 19,
       "text": [
        "2.2204460500000001e-16"
       ]
      }
     ],
     "prompt_number": 19
    },
    {
     "cell_type": "code",
     "collapsed": false,
     "input": [],
     "language": "python",
     "metadata": {},
     "outputs": []
    }
   ],
   "metadata": {}
  }
 ]
}