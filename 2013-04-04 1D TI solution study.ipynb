{
 "metadata": {
  "name": ""
 },
 "nbformat": 3,
 "nbformat_minor": 0,
 "worksheets": [
  {
   "cells": [
    {
     "cell_type": "code",
     "collapsed": false,
     "input": [
      "from functools import partial\n",
      "from math import pi, sqrt\n",
      "from numpy import ones, set_printoptions\n",
      "from paycheck import *\n",
      "\n",
      "import sys\n",
      "sys.path.append(\"/Users/gcross/Projects/Carcassonne\")\n",
      "\n",
      "from carcassonne.policies import *\n",
      "from carcassonne.system._1d import System\n",
      "from carcassonne.utils import Pauli, buildTensor\n",
      "\n",
      "set_printoptions(linewidth=200)"
     ],
     "language": "python",
     "metadata": {},
     "outputs": [],
     "prompt_number": 20
    },
    {
     "cell_type": "code",
     "collapsed": false,
     "input": [
      "system = \\\n",
      "    System(\n",
      "        [1,0,0],\n",
      "        [0,0,1],\n",
      "        buildTensor((3,3,2,2),{\n",
      "            (0,0): Pauli.I,\n",
      "            (0,2): Pauli.Z,\n",
      "            (0,1): -0.01*Pauli.X,\n",
      "            (1,2): Pauli.X,\n",
      "            (2,2): Pauli.I,\n",
      "        }),\n",
      "        ones((1,1,2)),\n",
      "    )\n",
      "system.setPolicy(\"sweep convergence\",RelativeStateDifferenceThresholdConvergencePolicy(1e-5))\n",
      "system.setPolicy(\"run convergence\",RelativeOneSiteExpectationDifferenceThresholdConvergencePolicy(1e-7))\n",
      "system.setPolicy(\"bandwidth increase\",OneDirectionIncrementBandwidthIncreasePolicy(0,2))\n",
      "system.setPolicy(\"contraction\",RepeatPatternContractionPolicy([0,1]))\n",
      "system.runUntilConverged()\n",
      "print(system.computeOneSiteExpectation())\n",
      "state_center_data = system.state_center_data"
     ],
     "language": "python",
     "metadata": {},
     "outputs": [
      {
       "output_type": "stream",
       "stream": "stdout",
       "text": [
        "(1.00002500015-5.08589646122e-21j)\n"
       ]
      }
     ],
     "prompt_number": 21
    },
    {
     "cell_type": "code",
     "collapsed": false,
     "input": [
      "L, _, rest_L = state_center_data.normalizeAxis(1)"
     ],
     "language": "python",
     "metadata": {},
     "outputs": [],
     "prompt_number": 22
    },
    {
     "cell_type": "code",
     "collapsed": false,
     "input": [
      "(L.absorbMatrixAt(1,rest_L.transpose())-state_center_data).norm()"
     ],
     "language": "python",
     "metadata": {},
     "outputs": [
      {
       "output_type": "pyout",
       "prompt_number": 23,
       "text": [
        "7.9865662154527422e-17"
       ]
      }
     ],
     "prompt_number": 23
    },
    {
     "cell_type": "code",
     "collapsed": false,
     "input": [
      "R, _, rest_R = state_center_data.normalizeAxis(0)"
     ],
     "language": "python",
     "metadata": {},
     "outputs": [],
     "prompt_number": 24
    },
    {
     "cell_type": "code",
     "collapsed": false,
     "input": [
      "(R.absorbMatrixAt(0,rest_L)-state_center_data).norm()"
     ],
     "language": "python",
     "metadata": {},
     "outputs": [
      {
       "output_type": "pyout",
       "prompt_number": 25,
       "text": [
        "8.8258500379520707e-07"
       ]
      }
     ],
     "prompt_number": 25
    },
    {
     "cell_type": "code",
     "collapsed": false,
     "input": [
      "(R.absorbMatrixAt(0,rest_L.transpose())-state_center_data).norm()"
     ],
     "language": "python",
     "metadata": {},
     "outputs": [
      {
       "output_type": "pyout",
       "prompt_number": 26,
       "text": [
        "7.3829146848163888e-07"
       ]
      }
     ],
     "prompt_number": 26
    },
    {
     "cell_type": "code",
     "collapsed": false,
     "input": [
      "(L.absorbMatrixAt(1,rest_R.transpose())-state_center_data).norm()"
     ],
     "language": "python",
     "metadata": {},
     "outputs": [
      {
       "output_type": "pyout",
       "prompt_number": 27,
       "text": [
        "7.3829146848014704e-07"
       ]
      }
     ],
     "prompt_number": 27
    },
    {
     "cell_type": "code",
     "collapsed": false,
     "input": [
      "(L.absorbMatrixAt(1,rest_R)-state_center_data).norm()"
     ],
     "language": "python",
     "metadata": {},
     "outputs": [
      {
       "output_type": "pyout",
       "prompt_number": 28,
       "text": [
        "8.8258500380159201e-07"
       ]
      }
     ],
     "prompt_number": 28
    },
    {
     "cell_type": "code",
     "collapsed": false,
     "input": [
      "rest_L"
     ],
     "language": "python",
     "metadata": {},
     "outputs": [
      {
       "output_type": "pyout",
       "prompt_number": 31,
       "text": [
        "NDArrayData(array([[  9.99996875e-01+0.j,  -9.90431850e-08-0.j,   5.06536434e-08+0.j,  -1.46210426e-08-0.j,   1.79133186e-07+0.j,   2.96225154e-09+0.j],\n",
        "       [  2.47615632e-10+0.j,   2.50005472e-03+0.j,  -3.12196092e-08+0.j,   2.25588751e-09+0.j,   6.07348290e-10+0.j,   9.64771885e-09+0.j],\n",
        "       [  2.74967940e-15+0.j,  -9.56781034e-15-0.j,  -1.54929062e-09-0.j,  -3.71639225e-09-0.j,  -1.52034072e-08-0.j,  -7.08009111e-10-0.j],\n",
        "       [  3.86513410e-16+0.j,  -1.53037233e-13-0.j,  -1.06173104e-08-0.j,   2.49957342e-10+0.j,   7.79035579e-10+0.j,   5.19253874e-09+0.j],\n",
        "       [  2.73931100e-16+0.j,  -4.36726315e-15+0.j,  -1.45834270e-10+0.j,   4.64176239e-09+0.j,  -1.10320884e-09+0.j,  -3.56120859e-10+0.j],\n",
        "       [  4.31041616e-18+0.j,  -1.42923145e-15-0.j,  -3.23200141e-10-0.j,  -4.37694803e-11-0.j,   7.48348300e-11+0.j,  -6.69975686e-10-0.j]]))"
       ]
      }
     ],
     "prompt_number": 31
    },
    {
     "cell_type": "code",
     "collapsed": false,
     "input": [],
     "language": "python",
     "metadata": {},
     "outputs": []
    }
   ],
   "metadata": {}
  }
 ]
}