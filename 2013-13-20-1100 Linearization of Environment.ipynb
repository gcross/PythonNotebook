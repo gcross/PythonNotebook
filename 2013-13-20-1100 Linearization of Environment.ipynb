{
 "metadata": {
  "name": "2013-13-20-1100 Linearization of Environment"
 },
 "nbformat": 3,
 "nbformat_minor": 0,
 "worksheets": [
  {
   "cells": [
    {
     "cell_type": "code",
     "collapsed": false,
     "input": [],
     "language": "python",
     "metadata": {},
     "outputs": []
    }
   ],
   "metadata": {}
  }
 ]
}