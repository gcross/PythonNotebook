{
 "metadata": {
  "name": "2013-04-08-1645 Approximate Haldane-Shastry"
 },
 "nbformat": 3,
 "nbformat_minor": 0,
 "worksheets": [
  {
   "cells": [
    {
     "cell_type": "code",
     "collapsed": false,
     "input": [
      "from numpy import *\n",
      "from scipy.optimize import leastsq"
     ],
     "language": "python",
     "metadata": {},
     "outputs": [],
     "prompt_number": 2
    },
    {
     "cell_type": "code",
     "collapsed": false,
     "input": [
      "def fitModel(n,rlent):\n",
      "    rvec = arange(1,rlen+1)\n",
      "\n",
      "    def f(x):\n",
      "        a = x[:n].reshape(1,n)\n",
      "        b = x[n:].reshape(1,n)\n",
      "        return sum(a*b**(rvec.reshape(rlen,1)-1),axis=1) - 1/rvec**2\n",
      "\n",
      "    def Df(x):\n",
      "        a = x[:n].reshape(1,n)\n",
      "        b = x[n:].reshape(1,n)\n",
      "        Df = zeros((rlen,2*n),dtype=float)\n",
      "        Df[:,:n] = b**(rvec.reshape(rlen,1)-1)\n",
      "        Df[:,n:] = a*(rvec.reshape(rlen,1)-1)*b**(rvec.reshape(rlen,1)-2)\n",
      "        return Df\n",
      "\n",
      "    xf = leastsq(f,ones(2*n,dtype=float),Dfun=Df)[0]\n",
      "    print(sum(f(xf)**2))\n",
      "    a = xf[:n]\n",
      "    b = xf[n:]\n",
      "    return a, b"
     ],
     "language": "python",
     "metadata": {},
     "outputs": [],
     "prompt_number": 79
    },
    {
     "cell_type": "code",
     "collapsed": false,
     "input": [
      "fitModel(9,100)"
     ],
     "language": "python",
     "metadata": {},
     "outputs": [
      {
       "output_type": "stream",
       "stream": "stdout",
       "text": [
        "6.8233802015e-09\n"
       ]
      },
      {
       "output_type": "pyout",
       "prompt_number": 82,
       "text": [
        "(array([ -1.39798300e+01,   1.28034382e+01,   5.61535861e+00,\n",
        "        -1.26781677e+01,   1.94601671e-04,  -5.61212883e+00,\n",
        "         4.82347734e-01,   1.40055820e+01,   3.63205362e-01]),\n",
        " array([ 0.84596776,  0.63229175,  0.95118618,  0.6322922 ,  0.99024125,\n",
        "        0.95118618,  0.0592535 ,  0.84596776,  0.32259284]))"
       ]
      }
     ],
     "prompt_number": 82
    }
   ],
   "metadata": {}
  }
 ]
}