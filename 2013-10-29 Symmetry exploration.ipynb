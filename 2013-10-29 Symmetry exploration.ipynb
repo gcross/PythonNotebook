{
 "metadata": {
  "name": ""
 },
 "nbformat": 3,
 "nbformat_minor": 0,
 "worksheets": [
  {
   "cells": [
    {
     "cell_type": "code",
     "collapsed": false,
     "input": [
      "from functools import *\n",
      "\n",
      "from numpy import *\n",
      "from numpy.linalg import *\n",
      "from numpy.random import *\n",
      "\n",
      "from scipy.sparse.linalg import *\n",
      "from scipy.optimize import *\n",
      "\n",
      "def crand(*shape):\n",
      "    return 1-2*rand(*shape) + 1j-2j*rand(*shape)\n",
      "\n",
      "set_printoptions(linewidth=132)"
     ],
     "language": "python",
     "metadata": {},
     "outputs": []
    },
    {
     "cell_type": "code",
     "collapsed": false,
     "input": [
      "n = 3\n",
      "nn = n*n"
     ],
     "language": "python",
     "metadata": {},
     "outputs": []
    },
    {
     "cell_type": "code",
     "collapsed": false,
     "input": [
      "def unitize(M):\n",
      "    U, S, V = svd(M,full_matrices=False)\n",
      "    return dot(U,V)\n",
      "\n",
      "def symmetrize(M):\n",
      "    return M + M.transpose().conj()\n",
      "\n",
      "def unitarity(M):\n",
      "    return norm(identity(len(M.transpose().conj()))-dot(M.transpose().conj(),M))\n",
      "\n",
      "def symmetry(M):\n",
      "    return norm(M - M.transpose().conj())"
     ],
     "language": "python",
     "metadata": {},
     "outputs": []
    },
    {
     "cell_type": "code",
     "collapsed": false,
     "input": [
      "M = symmetrize(crand(nn,nn))\n",
      "M = M.reshape(n,n,n,n).transpose(0,2,1,3).reshape(nn,nn)\n",
      "symmetry(M.reshape(n,n,n,n).transpose(0,2,1,3).reshape(nn,nn))"
     ],
     "language": "python",
     "metadata": {},
     "outputs": [
      {
       "metadata": {},
       "output_type": "pyout",
       "prompt_number": 99,
       "text": [
        "0.0"
       ]
      }
     ],
     "prompt_number": 99
    },
    {
     "cell_type": "code",
     "collapsed": false,
     "input": [
      "U, S, V = svd(M,full_matrices=False)"
     ],
     "language": "python",
     "metadata": {},
     "outputs": [],
     "prompt_number": 84
    },
    {
     "cell_type": "code",
     "collapsed": false,
     "input": [
      "S"
     ],
     "language": "python",
     "metadata": {},
     "outputs": [
      {
       "metadata": {},
       "output_type": "pyout",
       "prompt_number": 85,
       "text": [
        "array([ 5.91379529,  5.29993501,  4.28648793,  3.16634311,  2.99134428,  1.67345389,  0.84276482,  0.68940033,  0.34445526])"
       ]
      }
     ],
     "prompt_number": 85
    },
    {
     "cell_type": "code",
     "collapsed": false,
     "input": [
      "U[:,:4]"
     ],
     "language": "python",
     "metadata": {},
     "outputs": [
      {
       "metadata": {},
       "output_type": "pyout",
       "prompt_number": 91,
       "text": [
        "array([[-0.34660612 -5.08281704e-17j, -0.25685457 +1.96734371e-16j,  0.61300369 -2.11965805e-16j, -0.26489763 -2.41229061e-17j],\n",
        "       [ 0.39991007 +3.15895620e-02j, -0.23987923 +2.38520032e-01j,  0.03038449 +9.68952978e-03j, -0.25897293 +7.38741857e-02j],\n",
        "       [-0.08118267 -3.68169595e-02j,  0.26068484 +4.17877278e-01j,  0.22680871 -2.23398392e-01j, -0.21265248 -6.55751778e-02j],\n",
        "       [ 0.39991007 -3.15895620e-02j, -0.23987923 -2.38520032e-01j,  0.03038449 -9.68952978e-03j, -0.25897293 -7.38741857e-02j],\n",
        "       [ 0.04030458 +1.56864134e-17j,  0.17376216 -1.31002466e-16j,  0.54870846 -1.75428036e-16j,  0.57670330 +1.22112744e-16j],\n",
        "       [-0.31295778 -1.04902639e-01j,  0.02982000 +1.65621784e-01j, -0.01544669 +6.06484129e-02j,  0.00367975 -4.17623808e-01j],\n",
        "       [-0.08118267 +3.68169595e-02j,  0.26068484 -4.17877278e-01j,  0.22680871 +2.23398392e-01j, -0.21265248 +6.55751778e-02j],\n",
        "       [-0.31295778 +1.04902639e-01j,  0.02982000 -1.65621784e-01j, -0.01544669 -6.06484129e-02j,  0.00367975 +4.17623808e-01j],\n",
        "       [-0.56798003 -4.15753185e-17j, -0.36492344 +1.70553532e-16j, -0.33253506 +1.37427616e-16j,  0.06561302 +1.67089804e-16j]])"
       ]
      }
     ],
     "prompt_number": 91
    },
    {
     "cell_type": "code",
     "collapsed": false,
     "input": [
      "U.reshape(n,n,nn).transpose(1,0,2).reshape(nn,nn)[:,:4]"
     ],
     "language": "python",
     "metadata": {},
     "outputs": [
      {
       "metadata": {},
       "output_type": "pyout",
       "prompt_number": 94,
       "text": [
        "array([[-0.34660612 -5.08281704e-17j, -0.25685457 +1.96734371e-16j,  0.61300369 -2.11965805e-16j, -0.26489763 -2.41229061e-17j],\n",
        "       [ 0.39991007 -3.15895620e-02j, -0.23987923 -2.38520032e-01j,  0.03038449 -9.68952978e-03j, -0.25897293 -7.38741857e-02j],\n",
        "       [-0.08118267 +3.68169595e-02j,  0.26068484 -4.17877278e-01j,  0.22680871 +2.23398392e-01j, -0.21265248 +6.55751778e-02j],\n",
        "       [ 0.39991007 +3.15895620e-02j, -0.23987923 +2.38520032e-01j,  0.03038449 +9.68952978e-03j, -0.25897293 +7.38741857e-02j],\n",
        "       [ 0.04030458 +1.56864134e-17j,  0.17376216 -1.31002466e-16j,  0.54870846 -1.75428036e-16j,  0.57670330 +1.22112744e-16j],\n",
        "       [-0.31295778 +1.04902639e-01j,  0.02982000 -1.65621784e-01j, -0.01544669 -6.06484129e-02j,  0.00367975 +4.17623808e-01j],\n",
        "       [-0.08118267 -3.68169595e-02j,  0.26068484 +4.17877278e-01j,  0.22680871 -2.23398392e-01j, -0.21265248 -6.55751778e-02j],\n",
        "       [-0.31295778 -1.04902639e-01j,  0.02982000 +1.65621784e-01j, -0.01544669 +6.06484129e-02j,  0.00367975 -4.17623808e-01j],\n",
        "       [-0.56798003 -4.15753185e-17j, -0.36492344 +1.70553532e-16j, -0.33253506 +1.37427616e-16j,  0.06561302 +1.67089804e-16j]])"
       ]
      }
     ],
     "prompt_number": 94
    },
    {
     "cell_type": "code",
     "collapsed": false,
     "input": [
      "S"
     ],
     "language": "python",
     "metadata": {},
     "outputs": [
      {
       "metadata": {},
       "output_type": "pyout",
       "prompt_number": 92,
       "text": [
        "array([ 5.91379529,  5.29993501,  4.28648793,  3.16634311,  2.99134428,  1.67345389,  0.84276482,  0.68940033,  0.34445526])"
       ]
      }
     ],
     "prompt_number": 92
    },
    {
     "cell_type": "code",
     "collapsed": false,
     "input": [
      "V.transpose()[:,:4]"
     ],
     "language": "python",
     "metadata": {},
     "outputs": [
      {
       "metadata": {},
       "output_type": "pyout",
       "prompt_number": 97,
       "text": [
        "array([[-0.38359390 +0.00000000e+00j, -0.13619957 +0.00000000e+00j,  0.07983053 +0.00000000e+00j, -0.33107521 +0.00000000e+00j],\n",
        "       [-0.13625539 -6.80227055e-02j, -0.16419481 -2.78136909e-01j, -0.36313272 -1.86141077e-01j, -0.20541264 -2.72963275e-01j],\n",
        "       [-0.56101836 +1.19485236e-01j,  0.07038598 -2.05303093e-01j,  0.18522452 -4.47994101e-02j, -0.03013668 +9.75056320e-02j],\n",
        "       [-0.13625539 +6.80227055e-02j, -0.16419481 +2.78136909e-01j, -0.36313272 +1.86141077e-01j, -0.20541264 +2.72963275e-01j],\n",
        "       [-0.20407263 +2.42861287e-17j, -0.15770397 -1.33573708e-16j, -0.40853105 -2.19442520e-16j,  0.59861527 -1.66967135e-16j],\n",
        "       [-0.10902407 +1.14073515e-01j,  0.24123867 +4.47295794e-01j,  0.15148161 -2.22860848e-01j,  0.11569736 -3.06732829e-01j],\n",
        "       [-0.56101836 -1.19485236e-01j,  0.07038598 +2.05303093e-01j,  0.18522452 +4.47994101e-02j, -0.03013668 -9.75056320e-02j],\n",
        "       [-0.10902407 -1.14073515e-01j,  0.24123867 -4.47295794e-01j,  0.15148161 +2.22860848e-01j,  0.11569736 +3.06732829e-01j],\n",
        "       [ 0.23872613 +1.66099773e-16j, -0.37039527 -5.77337657e-16j,  0.52520876 -9.86623977e-18j, -0.25073774 -3.44125770e-16j]])"
       ]
      }
     ],
     "prompt_number": 97
    },
    {
     "cell_type": "code",
     "collapsed": false,
     "input": [],
     "language": "python",
     "metadata": {},
     "outputs": []
    }
   ],
   "metadata": {}
  }
 ]
}