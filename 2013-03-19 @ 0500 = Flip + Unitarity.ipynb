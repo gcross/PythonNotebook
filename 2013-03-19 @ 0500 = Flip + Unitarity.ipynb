{
 "metadata": {
  "name": "2013-03-19-0500 Flip + Unitarity"
 },
 "nbformat": 3,
 "nbformat_minor": 0,
 "worksheets": [
  {
   "cells": [
    {
     "cell_type": "code",
     "collapsed": false,
     "input": [
      "from functools import reduce\n",
      "from timeit import timeit\n",
      "from numpy import *\n",
      "from numpy.random import *\n",
      "from scipy.linalg import *\n",
      "from scipy.optimize import fmin_bfgs, leastsq\n",
      "from scipy.misc import derivative\n",
      "\n",
      "def crand(*shape):\n",
      "    return rand(*shape)*2-1 + rand(*shape)*2j-1j\n",
      "\n",
      "set_printoptions(linewidth=200)"
     ],
     "language": "python",
     "metadata": {},
     "outputs": [],
     "prompt_number": 1
    },
    {
     "cell_type": "code",
     "collapsed": false,
     "input": [
      "n = 5\n",
      "c = 3\n",
      "\n",
      "def Tdot(C,D):\n",
      "    return tensordot(C,D,axes=2)\n",
      "\n",
      "A = crand(n,n,n,n)\n",
      "B = crand(n,n,n,n)\n",
      "AB = Tdot(A,B)\n",
      "\n",
      "L0 = rand(2*n*n*c*c)\n",
      "R0 = rand(2*c*c*n*n)\n",
      "\n",
      "def unravelL(x_raveled):\n",
      "    return (x_raveled[:n*n*c*c] + 1j*x_raveled[n*n*c*c:]).reshape(n,n,c,c)\n",
      "\n",
      "def unravelR(x_raveled):\n",
      "    return (x_raveled[:c*c*n*n] + 1j*x_raveled[c*c*n*n:]).reshape(c,c,n,n)\n",
      "\n",
      "def ravelL(x_unraveled):\n",
      "    y = zeros((2,n*n*c*c),dtype=float)\n",
      "    y[0] = x_unraveled.real.ravel()\n",
      "    y[1] = x_unraveled.imag.ravel()\n",
      "    return y.ravel()\n",
      "\n",
      "def ravelR(x_unraveled):\n",
      "    y = zeros((2,c*c*n*n),dtype=float)\n",
      "    y[0] = x_unraveled.real.ravel()\n",
      "    y[1] = x_unraveled.imag.ravel()\n",
      "    return y.ravel()\n",
      "\n",
      "def ravelF(x_unraveled):\n",
      "    y = zeros((2,n*n*n*n),dtype=float)\n",
      "    y[0] = x_unraveled.real.ravel()\n",
      "    y[1] = x_unraveled.imag.ravel()\n",
      "    return y.ravel()"
     ],
     "language": "python",
     "metadata": {},
     "outputs": [],
     "prompt_number": 2
    },
    {
     "cell_type": "code",
     "collapsed": false,
     "input": [
      "def fL(x_raveled):\n",
      "    L_ = unravelL(x_raveled)\n",
      "    L_ += L_.transpose(1,0,3,2).conj()\n",
      "    R_ = unravelR(R)\n",
      "    R_ += R_.transpose(1,0,3,2).conj()\n",
      "    return ravelF(-AB + reduce(Tdot,[A,L_,R_,B]))\n",
      "\n",
      "def fR(x_raveled):\n",
      "    L_ = unravelL(L)\n",
      "    L_ += L_.transpose(1,0,3,2).conj()\n",
      "    R_ = unravelR(x_raveled)\n",
      "    R_ += R_.transpose(1,0,3,2).conj()\n",
      "    return ravelF(-AB + reduce(Tdot,[A,L_,R_,B]))\n",
      "\n",
      "def g(L,R):\n",
      "    L_ = unravelL(L)\n",
      "    R_ = unravelR(R)\n",
      "    return norm((-AB + reduce(Tdot,[A,L_,R_,B]))**2)"
     ],
     "language": "python",
     "metadata": {},
     "outputs": [],
     "prompt_number": 3
    },
    {
     "cell_type": "code",
     "collapsed": false,
     "input": [
      "L = L0\n",
      "R = R0\n",
      "for _ in range(4):\n",
      "    print(L.shape)\n",
      "    L, _, infodict, message, ier = leastsq(fL,L,full_output=True)\n",
      "    print(infodict[\"nfev\"],\"ops\")\n",
      "    print(g(L,R))\n",
      "    R, _, infodict, message, ier = leastsq(fR,R,full_output=True)\n",
      "    print(infodict[\"nfev\"],\"ops\")\n",
      "    print(g(L,R))\n",
      "    print(fL(L),fR(R))\n",
      "LU = unravelL(L)\n",
      "RU = unravelL(R)"
     ],
     "language": "python",
     "metadata": {},
     "outputs": [
      {
       "output_type": "stream",
       "stream": "stdout",
       "text": [
        "(450,)\n",
        "3614"
       ]
      },
      {
       "output_type": "stream",
       "stream": "stdout",
       "text": [
        " ops\n",
        "70609181482.7\n",
        "3163"
       ]
      },
      {
       "output_type": "stream",
       "stream": "stdout",
       "text": [
        " ops\n",
        "1.4581183844e+15\n",
        "[-5.42035128 -1.21099823  0.53195254 ..., -2.36609404  1.2808962  -1.99484439] [-5.42035128 -1.21099823  0.53195254 ..., -2.36609404  1.2808962  -1.99484439]\n",
        "(450,)\n",
        "4517"
       ]
      },
      {
       "output_type": "stream",
       "stream": "stdout",
       "text": [
        " ops\n",
        "5.71116206013e+18\n",
        "4511"
       ]
      },
      {
       "output_type": "stream",
       "stream": "stdout",
       "text": [
        " ops\n",
        "5.39595166852e+23\n",
        "[-3.20857639 -0.53639995  1.15254659 ..., -2.57482528  1.40336218 -3.30756243] [-3.20857639 -0.53639995  1.15254659 ..., -2.57482528  1.40336218 -3.30756243]\n",
        "(450,)\n",
        "6322"
       ]
      },
      {
       "output_type": "stream",
       "stream": "stdout",
       "text": [
        " ops\n",
        "2.97485999293e+26\n",
        "4517"
       ]
      },
      {
       "output_type": "stream",
       "stream": "stdout",
       "text": [
        " ops\n",
        "2.10864507863e+30\n",
        "[-1.80135582 -0.50285098  1.42568171 ..., -2.15306235  1.5235577  -3.4245243 ] [-1.80135582 -0.50285098  1.42568171 ..., -2.15306235  1.5235577  -3.4245243 ]\n",
        "(450,)\n",
        "4522"
       ]
      },
      {
       "output_type": "stream",
       "stream": "stdout",
       "text": [
        " ops\n",
        "7.2902560163e+30\n",
        "4522"
       ]
      },
      {
       "output_type": "stream",
       "stream": "stdout",
       "text": [
        " ops\n",
        "8.96504125205e+30\n",
        "[-1.13456603 -0.60558361  1.43497419 ..., -1.77522774  1.67220307 -3.43200028] [-1.13456603 -0.60558361  1.43497419 ..., -1.77522774  1.67220307 -3.43200028]\n"
       ]
      }
     ],
     "prompt_number": 4
    },
    {
     "cell_type": "code",
     "collapsed": false,
     "input": [],
     "language": "python",
     "metadata": {},
     "outputs": []
    }
   ],
   "metadata": {}
  }
 ]
}