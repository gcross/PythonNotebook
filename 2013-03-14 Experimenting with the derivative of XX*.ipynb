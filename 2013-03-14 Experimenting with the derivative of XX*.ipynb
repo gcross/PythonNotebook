{
 "metadata": {
  "name": ""
 },
 "nbformat": 3,
 "nbformat_minor": 0,
 "worksheets": [
  {
   "cells": [
    {
     "cell_type": "code",
     "collapsed": false,
     "input": [
      "from functools import reduce\n",
      "from numpy import *\n",
      "from numpy.random import *\n",
      "from scipy.linalg import *\n",
      "from scipy.optimize import fmin_bfgs, leastsq\n",
      "from scipy.misc import derivative\n",
      "\n",
      "def crand(*shape):\n",
      "    return rand(*shape)*2-1 + rand(*shape)*2j-1j\n",
      "\n",
      "set_printoptions(linewidth=200)"
     ],
     "language": "python",
     "metadata": {},
     "outputs": [],
     "prompt_number": 4
    },
    {
     "cell_type": "code",
     "collapsed": false,
     "input": [
      "n = 5\n",
      "c = 3\n",
      "\n",
      "A = crand(n,n)\n",
      "B = crand(n,n)\n",
      "AB = dot(A,B)\n",
      "\n",
      "X0 = rand(2*n*c)\n",
      "\n",
      "def unravel(x_raveled):\n",
      "    return (x_raveled[:n*c] + 1j*x_raveled[n*c:]).reshape(n,c)"
     ],
     "language": "python",
     "metadata": {},
     "outputs": [],
     "prompt_number": 5
    },
    {
     "cell_type": "code",
     "collapsed": false,
     "input": [
      "def f(X_raveled):\n",
      "    X = unravel(X_raveled)\n",
      "    M = dot(X,X.conj().transpose()) - diag([1]*c + [0]*(n-c))\n",
      "    y = zeros((2,n*n),dtype=float64)\n",
      "    y[0] = M.real.ravel()\n",
      "    y[1] = M.imag.ravel()\n",
      "    return y.ravel()\n",
      "\n",
      "def g(x_raveled):\n",
      "    return sum(f(x_raveled)*f(x_raveled))\n",
      "\n",
      "def Df(X_raveled):\n",
      "    X = unravel(X_raveled)\n",
      "    Xc = X.conj()\n",
      "    DX = zeros((n,n,2,n,c),dtype=complex128)\n",
      "    for l in range(n):\n",
      "        for m in range(c):\n",
      "            for i in range(n):\n",
      "                DX[i,l,0,l,m] += X[i,m]\n",
      "                DX[i,l,1,l,m] += X[i,m]*(-1j)\n",
      "            for k in range(n):\n",
      "                DX[l,k,0,l,m] += Xc[k,m]\n",
      "                DX[l,k,1,l,m] += Xc[k,m]*(+1j)\n",
      "    Y = zeros((2,n,n,2,n,c),dtype=float64)\n",
      "    Y[0] = DX.real\n",
      "    Y[1] = DX.imag\n",
      "    return Y.reshape(2*n*n,2*n*c)"
     ],
     "language": "python",
     "metadata": {},
     "outputs": [],
     "prompt_number": 50
    },
    {
     "cell_type": "code",
     "collapsed": false,
     "input": [
      "X1, _, infodict, message, ier = leastsq(f,X0,full_output=True)\n",
      "print(infodict)\n",
      "print(message)\n",
      "print(ier)\n",
      "print(g(X1))\n",
      "X1U = unravel(X1)"
     ],
     "language": "python",
     "metadata": {},
     "outputs": [
      {
       "output_type": "stream",
       "stream": "stdout",
       "text": [
        "{'qtf': array([ -2.69597578e-13,  -9.70726351e-16,  -1.39165015e-13,   4.55896047e-14,   1.53875093e-13,   2.59956909e-19,  -1.49072719e-19,   8.34587255e-19,  -5.25148051e-19,  -1.31595934e-18,\n",
        "         7.97374505e-19,   2.18770339e-19,   1.17864681e-18,  -6.18855694e-19,  -2.60091375e-18,   2.07725690e-18,  -1.85880251e-19,  -1.80164701e-14,   4.30661094e-14,   2.89939581e-14,\n",
        "         4.37842029e-14,  -2.86878409e-30,   2.11947170e-29,  -1.00240430e-29,  -1.61006840e-30,   6.53554782e-30,  -1.52121020e-29,   1.37451389e-29,  -7.15901775e-30,   7.06473238e-30]), 'nfev': 383, 'fjac': array([[ -1.60319860e+00,   0.00000000e+00,  -2.30322470e-01, ...,   1.14715903e-18,   0.00000000e+00,   0.00000000e+00],\n",
        "       [ -3.07845119e-01,  -1.52693289e+00,   3.36867002e-01, ...,  -3.17358097e-19,   0.00000000e+00,   0.00000000e+00],\n",
        "       [  1.65899590e-01,  -1.53527203e-01,  -1.51557375e+00, ...,   8.67081025e-20,   0.00000000e+00,   0.00000000e+00],\n",
        "       ..., \n",
        "       [ -6.28204297e-02,  -3.54574599e-02,  -1.36711549e-01, ...,   3.41192094e-01,   2.66554845e-19,   0.00000000e+00],\n",
        "       [  1.43329003e-01,  -9.22268275e-03,  -8.40960616e-01, ...,   1.24806661e-01,  -6.79677995e-19,  -0.00000000e+00],\n",
        "       [  7.78059077e-02,  -2.23268320e-01,   5.21637440e-01, ...,   3.59440738e-02,   4.85976339e-18,   0.00000000e+00]]), 'fvec': array([  0.00000000e+00,   5.55111512e-17,   0.00000000e+00,   9.27342490e-27,   1.53492680e-26,   5.55111512e-17,  -2.22044605e-16,   2.77555756e-17,  -6.65263206e-27,  -9.32615003e-27,\n",
        "         0.00000000e+00,   2.77555756e-17,   0.00000000e+00,  -1.77696904e-26,   6.20462430e-27,   9.27342490e-27,  -6.65263206e-27,  -1.77696904e-26,   9.36997604e-52,   3.41150255e-52,\n",
        "         1.53492680e-26,  -9.32615003e-27,   6.20462430e-27,   3.41150255e-52,   1.27972803e-51,   0.00000000e+00,  -2.77555756e-17,   0.00000000e+00,  -1.25087890e-26,   1.35806528e-26,\n",
        "         2.77555756e-17,   0.00000000e+00,   5.55111512e-17,   1.17238330e-26,   3.36633894e-27,   0.00000000e+00,  -5.55111512e-17,   0.00000000e+00,   1.40379387e-26,   2.68865617e-26,\n",
        "         1.25087890e-26,  -1.17238330e-26,  -1.40379387e-26,   0.00000000e+00,  -1.59982883e-52,  -1.35806528e-26,  -3.36633894e-27,  -2.68865617e-26,   1.59982883e-52,   0.00000000e+00]), 'ipvt': array([24,  8,  4, 20, 18, 14, 26, 28, 25, 13, 27, 11, 10, 30, 15, 12, 29, 22, 16,  6,  2,  9, 17, 21,  3, 23,  5,  7, 19,  1], dtype=int32)}\n",
        "The relative error between two consecutive iterates is at most 0.000000\n",
        "2\n",
        "6.47112461314e-32\n"
       ]
      }
     ],
     "prompt_number": 53
    },
    {
     "cell_type": "code",
     "collapsed": false,
     "input": [
      "dot(X1U,X1U.transpose().conj())"
     ],
     "language": "python",
     "metadata": {},
     "outputs": [
      {
       "output_type": "pyout",
       "prompt_number": 52,
       "text": [
        "array([[  1.00000000e+00 +0.00000000e+00j,  -2.77555756e-17 -8.32667268e-17j,  -1.11022302e-16 +2.77555756e-17j,   3.84439562e-32 -3.52442854e-30j,   4.37959260e-30 +4.15675913e-30j],\n",
        "       [ -2.77555756e-17 +8.32667268e-17j,   1.00000000e+00 +0.00000000e+00j,   1.38777878e-17 -5.55111512e-17j,   1.32845717e-30 -5.86913187e-31j,   1.33214742e-30 +4.07292777e-30j],\n",
        "       [ -1.11022302e-16 -2.77555756e-17j,   1.38777878e-17 +5.55111512e-17j,   1.00000000e+00 +0.00000000e+00j,  -3.29668552e-31 -2.61736207e-30j,   8.00710950e-30 +6.21749944e-31j],\n",
        "       [  3.84439562e-32 +3.52442854e-30j,   1.32845717e-30 +5.86913187e-31j,  -3.29668552e-31 +2.61736207e-30j,   2.14916056e-59 +0.00000000e+00j,  -1.93696228e-59 +4.25404617e-59j],\n",
        "       [  4.37959260e-30 -4.15675913e-30j,   1.33214742e-30 -4.07292777e-30j,   8.00710950e-30 -6.21749944e-31j,  -1.93696228e-59 -4.25404617e-59j,   1.19323211e-58 +0.00000000e+00j]])"
       ]
      }
     ],
     "prompt_number": 52
    },
    {
     "cell_type": "code",
     "collapsed": false,
     "input": [
      "f0 = f(X0)\n",
      "deltas = zeros((2*n*n,2*n*c),float64)\n",
      "for i in range(2*n*c):\n",
      "    X0_ = X0.copy()\n",
      "    X0_[i] += 1e-6\n",
      "    deltas[:,i] = (f(X0_)-f0)/1e-6\n",
      "print(norm(Df(X0)-deltas))"
     ],
     "language": "python",
     "metadata": {},
     "outputs": [
      {
       "output_type": "stream",
       "stream": "stdout",
       "text": [
        "5.47668963305e-06\n"
       ]
      }
     ],
     "prompt_number": 29
    },
    {
     "cell_type": "code",
     "collapsed": false,
     "input": [
      "identity(n)"
     ],
     "language": "python",
     "metadata": {},
     "outputs": [
      {
       "output_type": "pyout",
       "prompt_number": 49,
       "text": [
        "array([[ 1.,  0.,  0.,  0.,  0.],\n",
        "       [ 0.,  1.,  0.,  0.,  0.],\n",
        "       [ 0.,  0.,  1.,  0.,  0.],\n",
        "       [ 0.,  0.,  0.,  1.,  0.],\n",
        "       [ 0.,  0.,  0.,  0.,  1.]])"
       ]
      }
     ],
     "prompt_number": 49
    },
    {
     "cell_type": "code",
     "collapsed": false,
     "input": [],
     "language": "python",
     "metadata": {},
     "outputs": []
    }
   ],
   "metadata": {}
  }
 ]
}