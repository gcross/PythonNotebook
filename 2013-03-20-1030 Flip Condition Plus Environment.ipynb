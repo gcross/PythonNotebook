{
 "metadata": {
  "name": "2013-03-20-1030 Flip Condition Plus Environment"
 },
 "nbformat": 3,
 "nbformat_minor": 0,
 "worksheets": [
  {
   "cells": [
    {
     "cell_type": "code",
     "collapsed": false,
     "input": [
      "from functools import reduce\n",
      "from timeit import timeit\n",
      "from numpy import *\n",
      "from numpy.random import *\n",
      "from scipy.linalg import *\n",
      "from scipy.optimize import fmin_bfgs, leastsq\n",
      "from scipy.misc import derivative\n",
      "\n",
      "def crand(*shape):\n",
      "    return rand(*shape)*2-1 + rand(*shape)*2j-1j\n",
      "\n",
      "set_printoptions(linewidth=200)"
     ],
     "language": "python",
     "metadata": {},
     "outputs": [],
     "prompt_number": 26
    },
    {
     "cell_type": "code",
     "collapsed": false,
     "input": [
      "n = 5\n",
      "c = 3\n",
      "\n",
      "def Tdot(C,D):\n",
      "    return tensordot(C,D,axes=2)\n",
      "\n",
      "A = crand(n,n,n,n)\n",
      "B = crand(n,n,n,n)\n",
      "AB = Tdot(A,B)\n",
      "\n",
      "L0 = rand(n,n,c,c)\n",
      "R0 = crand(c,c,n,n)\n",
      "\n",
      "def unravelL(x_raveled):\n",
      "    return (x_raveled[:n*n*c*c] + 1j*x_raveled[n*n*c*c:]).reshape(n,n,c,c)\n",
      "\n",
      "def unravelR(x_raveled):\n",
      "    return (x_raveled[:c*c*n*n] + 1j*x_raveled[c*c*n*n:]).reshape(c,c,n,n)\n",
      "\n",
      "def ravelL(x_unraveled):\n",
      "    y = zeros((2,n*n*c*c),dtype=float)\n",
      "    y[0] = x_unraveled.real.ravel()\n",
      "    y[1] = x_unraveled.imag.ravel()\n",
      "    return y.ravel()\n",
      "\n",
      "def ravelR(x_unraveled):\n",
      "    y = zeros((2,n*n*c*c),dtype=float)\n",
      "    y[0] = x_unraveled.real.ravel()\n",
      "    y[1] = x_unraveled.imag.ravel()\n",
      "    return y.ravel()\n",
      "\n",
      "def ravelF(x_unraveled):\n",
      "    y = zeros((2,n*n*n*n),dtype=float)\n",
      "    y[0] = x_unraveled.real.ravel()\n",
      "    y[1] = x_unraveled.imag.ravel()\n",
      "    return y.ravel()"
     ],
     "language": "python",
     "metadata": {},
     "outputs": [],
     "prompt_number": 47
    },
    {
     "cell_type": "code",
     "collapsed": false,
     "input": [
      "def fL(x_raveled):\n",
      "    X = unravelL(x_raveled)\n",
      "    X += X.transpose(1,0,3,2).conj()\n",
      "    return ravelF(-AB+reduce(Tdot,[A,X,R,B]))\n",
      "\n",
      "def fR(x_raveled):\n",
      "    X = unravelR(x_raveled)\n",
      "    X += X.transpose(1,0,3,2).conj()\n",
      "    return ravelF(-AB+reduce(Tdot,[A,L,X,B]))\n",
      "\n",
      "def DfL(x_raveled):\n",
      "    OAB1 = multiply.outer(A,Tdot(R,B)).transpose(0,1,6,7,2,3,4,5)\n",
      "    OAB2 = OAB1.transpose(0,1,2,3,5,4,7,6)\n",
      "    y = zeros((2,n,n,n,n,2,n,n,c,c),dtype=float64)\n",
      "    y[0,:,:,:,:,0,:,:,:,:] = + OAB1.real + OAB2.real\n",
      "    y[0,:,:,:,:,1,:,:,:,:] = - OAB1.imag + OAB2.imag\n",
      "    y[1,:,:,:,:,0,:,:,:,:] = + OAB1.imag + OAB2.imag\n",
      "    y[1,:,:,:,:,1,:,:,:,:] = + OAB1.real - OAB2.real\n",
      "    return y.reshape(2*n*n*n*n,2*n*n*c*c)\n",
      "\n",
      "def DfR(x_raveled):\n",
      "    OAB1 = multiply.outer(Tdot(A,L),B).transpose(0,1,6,7,2,3,4,5)\n",
      "    OAB2 = OAB1.transpose(0,1,2,3,5,4,7,6)\n",
      "    y = zeros((2,n,n,n,n,2,c,c,n,n),dtype=float64)\n",
      "    y[0,:,:,:,:,0,:,:,:,:] = + OAB1.real + OAB2.real\n",
      "    y[0,:,:,:,:,1,:,:,:,:] = - OAB1.imag + OAB2.imag\n",
      "    y[1,:,:,:,:,0,:,:,:,:] = + OAB1.imag + OAB2.imag\n",
      "    y[1,:,:,:,:,1,:,:,:,:] = + OAB1.real - OAB2.real\n",
      "    return y.reshape(2*n*n*n*n,2*n*n*c*c)\n",
      "\n",
      "def g(x_raveled):\n",
      "    return norm(f(x_raveled)**2)"
     ],
     "language": "python",
     "metadata": {},
     "outputs": [],
     "prompt_number": 48
    },
    {
     "cell_type": "code",
     "collapsed": false,
     "input": [
      "L = L0\n",
      "R = R0\n",
      "for i in range(3):\n",
      "    L_raveled, _, infodict, message, ier = leastsq(fL,ravelL(L),full_output=True)\n",
      "    print(infodict[\"nfev\"],\"ops\")\n",
      "    L = unravelL(L_raveled)\n",
      "    print(sum(fL(L_raveled)**2))\n",
      "    R_raveled, _, infodict, message, ier = leastsq(fR,ravelR(R),full_output=True)\n",
      "    print(infodict[\"nfev\"],\"ops\")\n",
      "    R = unravelR(R_raveled)\n",
      "    print(sum(fR(R_raveled)**2))"
     ],
     "language": "python",
     "metadata": {},
     "outputs": [
      {
       "output_type": "stream",
       "stream": "stdout",
       "text": [
        "2714 ops\n",
        "4474.45472273\n",
        "3611"
       ]
      },
      {
       "output_type": "stream",
       "stream": "stdout",
       "text": [
        " ops\n",
        "4724.69375895\n",
        "4520"
       ]
      },
      {
       "output_type": "stream",
       "stream": "stdout",
       "text": [
        " ops\n",
        "5141.45341837\n",
        "7680"
       ]
      },
      {
       "output_type": "stream",
       "stream": "stdout",
       "text": [
        " ops\n",
        "4669.26076381\n",
        "8585"
       ]
      },
      {
       "output_type": "stream",
       "stream": "stdout",
       "text": [
        " ops\n",
        "4669.08827943\n",
        "6779"
       ]
      },
      {
       "output_type": "stream",
       "stream": "stdout",
       "text": [
        " ops\n",
        "4580.85100485\n"
       ]
      }
     ],
     "prompt_number": 52
    },
    {
     "cell_type": "code",
     "collapsed": false,
     "input": [
      "f0 = f(X0)\n",
      "deltas = zeros((2*n*n*n*n,2*n*n*n*n),float64)\n",
      "for i in range(2*n*n*n*n):\n",
      "    X0_ = X0.copy()\n",
      "    X0_[i] += 1e-6\n",
      "    deltas[:,i] = (f(X0_)-f0)/1e-6\n",
      "print(norm(Df(X0)-deltas))"
     ],
     "language": "python",
     "metadata": {},
     "outputs": [
      {
       "output_type": "stream",
       "stream": "stdout",
       "text": [
        "8.93655963516e-09\n"
       ]
      }
     ],
     "prompt_number": 64
    },
    {
     "cell_type": "code",
     "collapsed": false,
     "input": [
      "AB_ = zeros((2,n*n*n*n),dtype=float64)\n",
      "AB_[0] = AB.real.ravel()\n",
      "AB_[1] = AB.imag.ravel()\n",
      "AB_ = AB_.ravel()\n",
      "X2, residues, rank, s = lstsq(Df(X0),AB_)\n",
      "print(g(X2))\n",
      "print(rank)\n",
      "X2U = unravel(X2)"
     ],
     "language": "python",
     "metadata": {},
     "outputs": [
      {
       "output_type": "stream",
       "stream": "stdout",
       "text": [
        "2.3490365165356644e-26\n",
        "866\n"
       ]
      }
     ],
     "prompt_number": 5
    }
   ],
   "metadata": {}
  }
 ]
}