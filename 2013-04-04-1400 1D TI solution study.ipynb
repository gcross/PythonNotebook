{
 "metadata": {
  "name": "2013-04-04-1400 1D TI solution study"
 },
 "nbformat": 3,
 "nbformat_minor": 0,
 "worksheets": [
  {
   "cells": [
    {
     "cell_type": "code",
     "collapsed": false,
     "input": [
      "from functools import partial\n",
      "from math import pi, sqrt\n",
      "from numpy import ones\n",
      "from paycheck import *\n",
      "\n",
      "import sys\n",
      "sys.path.append(\"/Users/gcross/Projects/Carcassonne\")\n",
      "\n",
      "from carcassonne.policies import *\n",
      "from carcassonne.system._1d import System\n",
      "from carcassonne.utils import Pauli, buildTensor"
     ],
     "language": "python",
     "metadata": {},
     "outputs": [],
     "prompt_number": 8
    },
    {
     "cell_type": "code",
     "collapsed": false,
     "input": [
      "system = \\\n",
      "    System(\n",
      "        [1,0,0],\n",
      "        [0,0,1],\n",
      "        buildTensor((3,3,2,2),{\n",
      "            (0,0): Pauli.I,\n",
      "            (0,2): Pauli.Z,\n",
      "            (0,1): -0.01*Pauli.X,\n",
      "            (1,2): Pauli.X,\n",
      "            (2,2): Pauli.I,\n",
      "        }),\n",
      "        ones((1,1,2)),\n",
      "    )\n",
      "system.setPolicy(\"sweep convergence\",RelativeStateDifferenceThresholdConvergencePolicy(1e-5))\n",
      "system.setPolicy(\"run convergence\",RelativeOneSiteExpectationDifferenceThresholdConvergencePolicy(1e-7))\n",
      "system.setPolicy(\"bandwidth increase\",OneDirectionIncrementBandwidthIncreasePolicy(0,2))\n",
      "system.setPolicy(\"contraction\",RepeatPatternContractionPolicy([0,1]))\n",
      "system.runUntilConverged()\n",
      "print(system.computeOneSiteExpectation())\n",
      "state_center_data = system.state_center_data"
     ],
     "language": "python",
     "metadata": {},
     "outputs": [
      {
       "output_type": "stream",
       "stream": "stdout",
       "text": [
        "(1.00002500002+0j)\n"
       ]
      }
     ],
     "prompt_number": 12
    },
    {
     "cell_type": "code",
     "collapsed": false,
     "input": [
      "L, _, rest = state_center_data.normalizeAxis(0)"
     ],
     "language": "python",
     "metadata": {},
     "outputs": [],
     "prompt_number": 13
    },
    {
     "cell_type": "code",
     "collapsed": false,
     "input": [
      "(L.absorbMatrixAt(0,rest.transpose())-state_center_data).norm()"
     ],
     "language": "python",
     "metadata": {},
     "outputs": [
      {
       "output_type": "pyout",
       "prompt_number": 23,
       "text": [
        "3.1424438635956697e-16"
       ]
      }
     ],
     "prompt_number": 23
    },
    {
     "cell_type": "code",
     "collapsed": false,
     "input": [
      "R, _, rest = state_center_data.normalizeAxis(1)"
     ],
     "language": "python",
     "metadata": {},
     "outputs": [],
     "prompt_number": 24
    },
    {
     "cell_type": "code",
     "collapsed": false,
     "input": [],
     "language": "python",
     "metadata": {},
     "outputs": []
    }
   ],
   "metadata": {}
  }
 ]
}