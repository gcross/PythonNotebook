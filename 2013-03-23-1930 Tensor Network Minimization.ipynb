{
 "metadata": {
  "name": "2013-03-23-1930 Tensor Network Minimization"
 },
 "nbformat": 3,
 "nbformat_minor": 0,
 "worksheets": [
  {
   "cells": [
    {
     "cell_type": "code",
     "collapsed": false,
     "input": [
      "from copy import *\n",
      "from functools import partial\n",
      "from numpy import *\n",
      "from numpy.random import *\n",
      "from scipy.linalg import *\n",
      "from scipy.optimize import fmin_bfgs, leastsq\n",
      "from scipy.misc import derivative\n",
      "\n",
      "set_printoptions(linewidth=200)\n",
      "\n",
      "import sys\n",
      "sys.path.append(\"/home/gcross/Projects/Carcassonne\")\n",
      "sys.path.append(\"/Users/gcross/Projects/Carcassonne\")\n",
      "import carcassonne\n",
      "\n",
      "from carcassonne.data import *\n",
      "from carcassonne.utils import *\n",
      "\n",
      "def unitize(data):\n",
      "    U, _, V = data.svd(full_matrices=False)\n",
      "    return U.contractWith(V,1,0)"
     ],
     "language": "python",
     "metadata": {},
     "outputs": [],
     "prompt_number": 1
    },
    {
     "cell_type": "code",
     "collapsed": false,
     "input": [
      "c = 3\n",
      "n = 9\n",
      "\n",
      "L = NDArrayData.newRandom(n,n,n,n)\n",
      "L += L.transpose(1,0,3,2).conj()\n",
      "\n",
      "R = NDArrayData.newRandom(n,n,n,n)\n",
      "R += R.transpose(1,0,3,2).conj()\n",
      "\n",
      "LR = L.contractWith(R,(2,3),(0,1)).toArray().ravel()\n",
      "\n",
      "MLU = NDArrayData.newRandom(n,c)\n",
      "MLD = NDArrayData.newRandom(n,c)\n",
      "MRU = NDArrayData.newRandom(c,n)\n",
      "MRD = NDArrayData.newRandom(c,n)\n",
      "\n",
      "# def makeLL(L,MLU,MLD)\n",
      "makeLL = formDataContractor(\n",
      "    [\n",
      "        Join(0,2,1,0),\n",
      "        Join(0,3,2,0),\n",
      "    ],[\n",
      "        [(0,0)],\n",
      "        [(0,1)],\n",
      "        [(1,1)],\n",
      "        [(2,1)], \n",
      "    ]\n",
      ")\n",
      "\n",
      "# def makeRR(R,MRU,MRD)\n",
      "makeRR = formDataContractor(\n",
      "    [\n",
      "        Join(0,0,1,1),\n",
      "        Join(0,1,2,1),\n",
      "    ],[\n",
      "        [(1,0)],\n",
      "        [(2,0)],\n",
      "        [(0,2)],\n",
      "        [(0,3)], \n",
      "    ]\n",
      ")\n",
      "\n",
      "def update():\n",
      "    global LL\n",
      "    LL = makeLL(L,MLU,MLD)\n",
      "    global RR\n",
      "    RR = makeRR(R,MRU,MRD)\n",
      "\n",
      "update()\n",
      "\n",
      "# f(L,MLU,MLD,MRU,MRD,R)\n",
      "contract = formDataContractor(\n",
      "    [\n",
      "        Join(0,2,1,0),\n",
      "        Join(0,3,2,0),\n",
      "        Join(1,1,3,0),\n",
      "        Join(2,1,4,0),\n",
      "        Join(3,1,5,0),\n",
      "        Join(4,1,5,1),\n",
      "    ],[\n",
      "        [(0,0),(0,1),(5,2),(5,3)]\n",
      "    ]\n",
      ")\n",
      "\n",
      "def computeResidual():\n",
      "    return computeResidualFor(MLU,MLD,MRU,MRD)\n",
      "\n",
      "def computeResidualFor(MLU,MLD,MRU,MRD):\n",
      "    return norm(contract(L,MLU,MLD,MRU,MRD,R).toArray().ravel()-LR)    "
     ],
     "language": "python",
     "metadata": {},
     "outputs": [],
     "prompt_number": 2
    },
    {
     "cell_type": "code",
     "collapsed": false,
     "input": [
      "def fMLU(MLU_raveled):\n",
      "    MLU = NDArrayData(MLU_raveled.reshape(n,c))\n",
      "    return contract(L,MLU,MLD,MRU,MRD,R).toArray()\n",
      "\n",
      "def fMLD(MLD_raveled):\n",
      "    MLD = NDArrayData(MLD_raveled.reshape(n,c))\n",
      "    return contract(L,MLU,MLD,MRU,MRD,R).toArray()\n",
      "\n",
      "def fMRU(MRU_raveled):\n",
      "    MRU = NDArrayData(MRU_raveled.reshape(c,n))\n",
      "    return contract(L,MLU,MLD,MRU,MRD,R).toArray()\n",
      "\n",
      "def fMRD(MRD_raveled):\n",
      "    MRD = NDArrayData(MRD_raveled.reshape(c,n))\n",
      "    return contract(L,MLU,MLD,MRU,MRD,R).toArray()"
     ],
     "language": "python",
     "metadata": {},
     "outputs": [],
     "prompt_number": 3
    },
    {
     "cell_type": "code",
     "collapsed": false,
     "input": [
      "def updateDerivatives():\n",
      "    global DfMLU\n",
      "    DfMLU = formDataContractor(\n",
      "        [\n",
      "            Join(0,3,1,0), # L -- MLD\n",
      "            Join(1,1,3,0), # MLD -- MRD\n",
      "            Join(2,1,4,0), # MRU -- R\n",
      "            Join(3,1,4,1), # MRD -- R\n",
      "        ],[\n",
      "            [(0,0),(0,1),(4,2),(4,3)],\n",
      "            [(0,2),(2,0)], # MLU\n",
      "        ]\n",
      "    )(L,MLD,MRU,MRD,R).toArray()\n",
      "    \n",
      "    global DfMLD\n",
      "    DfMLD = formDataContractor(\n",
      "        [\n",
      "            Join(0,2,1,0), # L -- MLU\n",
      "            Join(1,1,2,0), # MLU -- MRU\n",
      "            Join(2,1,4,0), # MRU -- R\n",
      "            Join(3,1,4,1), # MRD -- R\n",
      "        ],[\n",
      "            [(0,0),(0,1),(4,2),(4,3)],\n",
      "            [(0,3),(3,0)],\n",
      "        ]\n",
      "    )(L,MLU,MRU,MRD,R).toArray()\n",
      "    \n",
      "    global DfMRU\n",
      "    DfMRU = formDataContractor(\n",
      "        [\n",
      "            Join(0,2,1,0), # L -- MLU\n",
      "            Join(0,3,2,0), # L -- MLD\n",
      "            Join(2,1,3,0), # MLD -- MRD\n",
      "            Join(3,1,4,1), # MRD -- R\n",
      "        ],[\n",
      "            [(0,0),(0,1),(4,2),(4,3)],\n",
      "            [(1,1),(4,0)],\n",
      "        ]\n",
      "    )(L,MLU,MLD,MRD,R).toArray()\n",
      "    \n",
      "    global DfMRD\n",
      "    DfMRD = formDataContractor(\n",
      "        [\n",
      "            Join(0,2,1,0), # L -- MLU\n",
      "            Join(0,3,2,0), # L -- MLD\n",
      "            Join(1,1,3,0), # MLU -- MRU\n",
      "            Join(3,1,4,0), # MRU -- R\n",
      "        ],[\n",
      "            [(0,0),(0,1),(4,2),(4,3)],\n",
      "            [(2,1),(4,1)],\n",
      "        ]\n",
      "    )(L,MLU,MLD,MRU,R).toArray()\n",
      "\n",
      "updateDerivatives()"
     ],
     "language": "python",
     "metadata": {},
     "outputs": [],
     "prompt_number": 4
    },
    {
     "cell_type": "code",
     "collapsed": false,
     "input": [
      "updateDerivatives()\n",
      "\n",
      "def checkDerivative(f,Df):\n",
      "    x0 = crand(n*c)\n",
      "    f0 = f(x0)\n",
      "    deltas = zeros((n*n*n*n,n*c),complex128)\n",
      "    for i in range(n*c):\n",
      "        x0_ = x0.copy()\n",
      "        x0_[i] += 1e-5\n",
      "        deltas[:,i] = (f(x0_)-f0)/1e-5\n",
      "    return norm(deltas-Df)\n",
      "print(checkDerivative(fMLU,DfMLU))\n",
      "print(checkDerivative(fMLD,DfMLD))\n",
      "print(checkDerivative(fMRU,DfMRU))\n",
      "print(checkDerivative(fMRD,DfMRD))"
     ],
     "language": "python",
     "metadata": {},
     "outputs": [
      {
       "output_type": "stream",
       "stream": "stdout",
       "text": [
        "2.92355837127e-06\n",
        "2.38842545935e-06\n",
        "9.68254150946e-07"
       ]
      },
      {
       "output_type": "stream",
       "stream": "stdout",
       "text": [
        "\n",
        "1.4137601863e-06\n"
       ]
      }
     ],
     "prompt_number": 5
    },
    {
     "cell_type": "code",
     "collapsed": false,
     "input": [
      "print(computeResidual())\n",
      "for _ in range(10):\n",
      "    MLU = unitize(NDArrayData(lstsq(DfMLU,LR)[0].reshape(n,c)))\n",
      "    updateDerivatives()\n",
      "    MLD = unitize(NDArrayData(lstsq(DfMLD,LR)[0].reshape(n,c)))\n",
      "    updateDerivatives()\n",
      "    MRU = unitize(NDArrayData(lstsq(DfMRU,LR)[0].reshape(c,n)))\n",
      "    updateDerivatives()\n",
      "    MRD = unitize(NDArrayData(lstsq(DfMRD,LR)[0].reshape(c,n)))\n",
      "    updateDerivatives()\n",
      "    print(computeResidual())"
     ],
     "language": "python",
     "metadata": {},
     "outputs": []
    },
    {
     "cell_type": "code",
     "collapsed": false,
     "input": [
      "print(computeResidual())\n",
      "for _ in range(10):\n",
      "    MLU = unitize(NDArrayData(lstsq(DfMLU,LR)[0].reshape(n,c)))\n",
      "    MLD = MLU.conj()\n",
      "    MRU = MLU.transpose().conj()\n",
      "    MRD = MLU.transpose()\n",
      "    updateDerivatives()\n",
      "    print(computeResidual())"
     ],
     "language": "python",
     "metadata": {},
     "outputs": [
      {
       "output_type": "stream",
       "stream": "stdout",
       "text": [
        "11293.203846961385\n",
        "920.0986068619688"
       ]
      },
      {
       "output_type": "stream",
       "stream": "stdout",
       "text": [
        "\n",
        "907.4869004992407\n",
        "900.224088321463"
       ]
      },
      {
       "output_type": "stream",
       "stream": "stdout",
       "text": [
        "\n",
        "895.4661077738677\n",
        "892.0799078544792"
       ]
      },
      {
       "output_type": "stream",
       "stream": "stdout",
       "text": [
        "\n",
        "889.9382922808574"
       ]
      },
      {
       "output_type": "stream",
       "stream": "stdout",
       "text": [
        "\n",
        "888.7364501503206"
       ]
      },
      {
       "output_type": "stream",
       "stream": "stdout",
       "text": [
        "\n",
        "888.1221873105015"
       ]
      },
      {
       "output_type": "stream",
       "stream": "stdout",
       "text": [
        "\n",
        "887.8429119300586"
       ]
      },
      {
       "output_type": "stream",
       "stream": "stdout",
       "text": [
        "\n",
        "887.7570974089115"
       ]
      },
      {
       "output_type": "stream",
       "stream": "stdout",
       "text": [
        "\n"
       ]
      }
     ],
     "prompt_number": 6
    },
    {
     "cell_type": "code",
     "collapsed": false,
     "input": [
      "print(computeResidual())\n",
      "for _ in range(10):\n",
      "    MLU = NDArrayData(lstsq(DfMLU,LR)[0].reshape(n,c))\n",
      "    updateDerivatives()\n",
      "    MLD = NDArrayData(lstsq(DfMLD,LR)[0].reshape(n,c))\n",
      "    updateDerivatives()\n",
      "    MRU = NDArrayData(lstsq(DfMRU,LR)[0].reshape(c,n))\n",
      "    updateDerivatives()\n",
      "    MRD = NDArrayData(lstsq(DfMRD,LR)[0].reshape(c,n))\n",
      "    updateDerivatives()\n",
      "    print(computeResidual())"
     ],
     "language": "python",
     "metadata": {},
     "outputs": [
      {
       "output_type": "stream",
       "stream": "stdout",
       "text": [
        "887.7570974089115\n",
        "882.466974745389"
       ]
      },
      {
       "output_type": "stream",
       "stream": "stdout",
       "text": [
        "\n",
        "879.9112734025229"
       ]
      },
      {
       "output_type": "stream",
       "stream": "stdout",
       "text": [
        "\n",
        "878.806442882912"
       ]
      },
      {
       "output_type": "stream",
       "stream": "stdout",
       "text": [
        "\n",
        "878.0765581039113"
       ]
      },
      {
       "output_type": "stream",
       "stream": "stdout",
       "text": [
        "\n",
        "877.4740090553844"
       ]
      },
      {
       "output_type": "stream",
       "stream": "stdout",
       "text": [
        "\n",
        "876.9334979511934"
       ]
      },
      {
       "output_type": "stream",
       "stream": "stdout",
       "text": [
        "\n",
        "876.4329687421173"
       ]
      },
      {
       "output_type": "stream",
       "stream": "stdout",
       "text": [
        "\n",
        "875.9643508058591"
       ]
      },
      {
       "output_type": "stream",
       "stream": "stdout",
       "text": [
        "\n",
        "875.5266037150889"
       ]
      },
      {
       "output_type": "stream",
       "stream": "stdout",
       "text": [
        "\n",
        "875.1226877675026"
       ]
      },
      {
       "output_type": "stream",
       "stream": "stdout",
       "text": [
        "\n"
       ]
      }
     ],
     "prompt_number": 7
    },
    {
     "cell_type": "code",
     "collapsed": false,
     "input": [
      "def ravel(MLU,MLD,MRU,MRD):\n",
      "    raveled = zeros(8*n*c,dtype=float)\n",
      "    raveled[     :  n*c] = MLU.toArray().ravel().real\n",
      "    raveled[  n*c:2*n*c] = MLU.toArray().ravel().imag\n",
      "    raveled[2*n*c:3*n*c] = MLD.toArray().ravel().real\n",
      "    raveled[3*n*c:4*n*c] = MLD.toArray().ravel().imag\n",
      "    raveled[4*n*c:5*n*c] = MRU.toArray().ravel().real\n",
      "    raveled[5*n*c:6*n*c] = MRU.toArray().ravel().imag\n",
      "    raveled[6*n*c:7*n*c] = MRD.toArray().ravel().real\n",
      "    raveled[7*n*c:     ] = MRD.toArray().ravel().imag\n",
      "    return raveled\n",
      "\n",
      "def unravel(raveled):\n",
      "    MLU = NDArrayData((raveled[     :  n*c] + 1j*raveled[  n*c:2*n*c]).reshape(n,c))\n",
      "    MDU = NDArrayData((raveled[2*n*c:3*n*c] + 1j*raveled[3*n*c:4*n*c]).reshape(n,c))\n",
      "    MRU = NDArrayData((raveled[4*n*c:5*n*c] + 1j*raveled[5*n*c:6*n*c]).reshape(c,n))\n",
      "    MRD = NDArrayData((raveled[6*n*c:7*n*c] + 1j*raveled[7*n*c      ]).reshape(c,n))\n",
      "    return MLU, MDU, MRU, MRD\n",
      "\n",
      "def unravelAndSet(raveled):\n",
      "    global MLU\n",
      "    global MDU\n",
      "    global MRU\n",
      "    global MRD\n",
      "    MLU, MDU, MRU, MRD = unravel(raveled)\n",
      "\n",
      "def unravelAndComputeResiduals(raveled):\n",
      "    MLU, MLD, MRU, MRD = unravel(raveled)\n",
      "    return computeResidualFor(MLU,MLD,MRU,MRD)\n",
      "\n",
      "print(computeResidual())\n",
      "for _ in range(5):\n",
      "    unravelAndSet(fmin_bfgs(unravelAndComputeResiduals,ravel(MLU,MLD,MRU,MRD)))\n",
      "    print(computeResidual())"
     ],
     "language": "python",
     "metadata": {},
     "outputs": []
    },
    {
     "cell_type": "code",
     "collapsed": false,
     "input": [
      "fmin_bfgs?"
     ],
     "language": "python",
     "metadata": {},
     "outputs": []
    },
    {
     "cell_type": "code",
     "collapsed": false,
     "input": [],
     "language": "python",
     "metadata": {},
     "outputs": []
    }
   ],
   "metadata": {}
  }
 ]
}