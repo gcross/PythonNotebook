{
 "metadata": {
  "name": ""
 },
 "nbformat": 3,
 "nbformat_minor": 0,
 "worksheets": [
  {
   "cells": [
    {
     "cell_type": "code",
     "collapsed": false,
     "input": [
      "from functools import *\n",
      "\n",
      "from numpy import *\n",
      "from numpy.linalg import *\n",
      "from numpy.random import *\n",
      "\n",
      "from scipy.sparse.linalg import *\n",
      "from scipy.optimize import *\n",
      "\n",
      "def crand(*shape):\n",
      "    return 1-2*rand(*shape) + 1j-2j*rand(*shape)\n",
      "\n",
      "set_printoptions(linewidth=132)"
     ],
     "language": "python",
     "metadata": {},
     "outputs": [],
     "prompt_number": 1
    },
    {
     "cell_type": "code",
     "collapsed": false,
     "input": [
      "n = 2\n",
      "nn = n*n"
     ],
     "language": "python",
     "metadata": {},
     "outputs": [],
     "prompt_number": 12
    },
    {
     "cell_type": "code",
     "collapsed": false,
     "input": [
      "def unitize(M):\n",
      "    U, S, V = svd(M,full_matrices=False)\n",
      "    return dot(U,V)\n",
      "\n",
      "def symmetrize(M):\n",
      "    return M + M.transpose().conj()\n",
      "\n",
      "def unitarity(M):\n",
      "    return norm(identity(len(M.transpose().conj()))-dot(M.transpose().conj(),M))\n",
      "\n",
      "def symmetry(M):\n",
      "    return norm(M - M.transpose().conj())"
     ],
     "language": "python",
     "metadata": {},
     "outputs": [],
     "prompt_number": 85
    },
    {
     "cell_type": "code",
     "collapsed": false,
     "input": [
      "M = symmetrize(symmetrize(crand(nn,nn)).reshape(n,n,n,n).transpose(0,2,1,3).reshape(nn,nn))\n",
      "X = symmetrize(crand(nn,nn)).reshape(n,n,n,n).transpose(0,2,1,3).reshape(nn,nn)"
     ],
     "language": "python",
     "metadata": {},
     "outputs": [],
     "prompt_number": 109
    },
    {
     "cell_type": "code",
     "collapsed": false,
     "input": [
      "symmetry(dot(M,X).reshape(n,n,n,n).transpose(0,2,1,3).reshape(nn,nn))"
     ],
     "language": "python",
     "metadata": {},
     "outputs": [
      {
       "metadata": {},
       "output_type": "pyout",
       "prompt_number": 110,
       "text": [
        "1.4411533062194304e-15"
       ]
      }
     ],
     "prompt_number": 110
    },
    {
     "cell_type": "code",
     "collapsed": false,
     "input": [
      "X = unitize(symmetrize(crand(nn,nn)).reshape(n,n,n,n).transpose(0,2,1,3).reshape(nn,nn))\n",
      "\n",
      "Xs = [X]\n",
      "Zs = []\n",
      "\n",
      "for _ in range(5):\n",
      "    print(\"================================\")\n",
      "    Z = dot(X,M)\n",
      "    print(symmetry(M.reshape(n,n,n,n).transpose(0,2,1,3).reshape(nn,nn)))\n",
      "    print(symmetry(X.reshape(n,n,n,n).transpose(0,2,1,3).reshape(nn,nn)))\n",
      "    print(symmetry(Z.reshape(n,n,n,n).transpose(0,2,1,3).reshape(nn,nn)))\n",
      "    Zs.append(Z)\n",
      "    Y = unitize(Z)\n",
      "    print(norm(X-Y))\n",
      "    X = Y\n",
      "    Xs.append(X)"
     ],
     "language": "python",
     "metadata": {},
     "outputs": [
      {
       "output_type": "stream",
       "stream": "stdout",
       "text": [
        "================================\n",
        "0.0\n",
        "6.82392531384e-16\n",
        "2.0152802112e-15\n",
        "2.82842712475\n",
        "================================\n",
        "0.0\n",
        "8.71545437218e-16\n",
        "1.5364620898e-15\n",
        "2.82842712475\n",
        "================================\n",
        "0.0\n",
        "1.59451315849e-15\n",
        "2.67419465139e-15\n",
        "2.82842712475\n",
        "================================\n",
        "0.0\n",
        "1.53766964219e-15\n",
        "2.79019284673e-15\n",
        "2.82842712475\n",
        "================================\n",
        "0.0\n",
        "9.72273905663e-16\n",
        "3.05660747329e-15\n",
        "2.82842712475\n"
       ]
      }
     ],
     "prompt_number": 111
    },
    {
     "cell_type": "code",
     "collapsed": false,
     "input": [
      "Zs[1]"
     ],
     "language": "python",
     "metadata": {},
     "outputs": [
      {
       "metadata": {},
       "output_type": "pyout",
       "prompt_number": 112,
       "text": [
        "array([[ 0.51988235 +1.81381278e-16j, -0.35160115 -6.18370742e-01j, -0.35160115 +6.18370742e-01j,  0.62000807 -2.12529806e-16j],\n",
        "       [-2.03534831 +4.84597003e-02j,  1.05195106 +5.65864870e-01j,  1.03922792 +1.25521297e+00j,  0.68656618 +6.41684752e-01j],\n",
        "       [-2.03534831 -4.84597003e-02j,  1.03922792 -1.25521297e+00j,  1.05195106 -5.65864870e-01j,  0.68656618 -6.41684752e-01j],\n",
        "       [-3.72851606 +1.20686995e-16j,  1.83500177 +3.65313491e-01j,  1.83500177 -3.65313491e-01j,  3.01865373 +1.61486378e-16j]])"
       ]
      }
     ],
     "prompt_number": 112
    },
    {
     "cell_type": "code",
     "collapsed": false,
     "input": [
      "Zs[0].reshape(n,n,n,n).transpose(0,2,1,3).reshape(nn,nn)"
     ],
     "language": "python",
     "metadata": {},
     "outputs": [
      {
       "metadata": {},
       "output_type": "pyout",
       "prompt_number": 113,
       "text": [
        "array([[-0.00682630 -4.95512443e-16j,  0.21680496 +8.52795926e-01j,  1.45496666 +1.39695254e+00j, -0.72283707 +1.84648075e-01j],\n",
        "       [ 0.21680496 -8.52795926e-01j,  0.34368878 +1.75010952e-16j, -0.93046211 +9.72369820e-02j, -1.88432577 -2.44112268e-01j],\n",
        "       [ 1.45496666 -1.39695254e+00j, -0.93046211 -9.72369820e-02j,  3.78486941 +2.32140078e-17j, -2.42530386 -2.97042670e-02j],\n",
        "       [-0.72283707 -1.84648075e-01j, -1.88432577 +2.44112268e-01j, -2.42530386 +2.97042670e-02j, -1.98097815 -8.69210614e-17j]])"
       ]
      }
     ],
     "prompt_number": 113
    },
    {
     "cell_type": "code",
     "collapsed": false,
     "input": [
      "symmetry(Zs[0].reshape(n,n,n,n).transpose(0,2,1,3).reshape(nn,nn))"
     ],
     "language": "python",
     "metadata": {},
     "outputs": [
      {
       "metadata": {},
       "output_type": "pyout",
       "prompt_number": 114,
       "text": [
        "2.0152802112027867e-15"
       ]
      }
     ],
     "prompt_number": 114
    },
    {
     "cell_type": "code",
     "collapsed": false,
     "input": [
      "Zs[1]"
     ],
     "language": "python",
     "metadata": {},
     "outputs": [
      {
       "metadata": {},
       "output_type": "pyout",
       "prompt_number": 115,
       "text": [
        "array([[ 0.51988235 +1.81381278e-16j, -0.35160115 -6.18370742e-01j, -0.35160115 +6.18370742e-01j,  0.62000807 -2.12529806e-16j],\n",
        "       [-2.03534831 +4.84597003e-02j,  1.05195106 +5.65864870e-01j,  1.03922792 +1.25521297e+00j,  0.68656618 +6.41684752e-01j],\n",
        "       [-2.03534831 -4.84597003e-02j,  1.03922792 -1.25521297e+00j,  1.05195106 -5.65864870e-01j,  0.68656618 -6.41684752e-01j],\n",
        "       [-3.72851606 +1.20686995e-16j,  1.83500177 +3.65313491e-01j,  1.83500177 -3.65313491e-01j,  3.01865373 +1.61486378e-16j]])"
       ]
      }
     ],
     "prompt_number": 115
    },
    {
     "cell_type": "code",
     "collapsed": false,
     "input": [
      "Zs[2]"
     ],
     "language": "python",
     "metadata": {},
     "outputs": [
      {
       "metadata": {},
       "output_type": "pyout",
       "prompt_number": 116,
       "text": [
        "array([[-0.00682630 -1.91325243e-16j,  0.21680496 +8.52795926e-01j,  0.21680496 -8.52795926e-01j,  0.34368878 +2.59702722e-16j],\n",
        "       [ 1.45496666 +1.39695254e+00j, -0.72283707 +1.84648075e-01j, -0.93046211 +9.72369820e-02j, -1.88432577 -2.44112268e-01j],\n",
        "       [ 1.45496666 -1.39695254e+00j, -0.93046211 -9.72369820e-02j, -0.72283707 -1.84648075e-01j, -1.88432577 +2.44112268e-01j],\n",
        "       [ 3.78486941 +5.23486698e-18j, -2.42530386 -2.97042670e-02j, -2.42530386 +2.97042670e-02j, -1.98097815 +3.38952017e-16j]])"
       ]
      }
     ],
     "prompt_number": 116
    },
    {
     "cell_type": "code",
     "collapsed": false,
     "input": [
      "Zs[3]"
     ],
     "language": "python",
     "metadata": {},
     "outputs": [
      {
       "metadata": {},
       "output_type": "pyout",
       "prompt_number": 117,
       "text": [
        "array([[ 0.51988235 +9.24233962e-16j, -0.35160115 -6.18370742e-01j, -0.35160115 +6.18370742e-01j,  0.62000807 -1.12348913e-16j],\n",
        "       [-2.03534831 +4.84597003e-02j,  1.05195106 +5.65864870e-01j,  1.03922792 +1.25521297e+00j,  0.68656618 +6.41684752e-01j],\n",
        "       [-2.03534831 -4.84597003e-02j,  1.03922792 -1.25521297e+00j,  1.05195106 -5.65864870e-01j,  0.68656618 -6.41684752e-01j],\n",
        "       [-3.72851606 -9.51426522e-17j,  1.83500177 +3.65313491e-01j,  1.83500177 -3.65313491e-01j,  3.01865373 +5.07873435e-17j]])"
       ]
      }
     ],
     "prompt_number": 117
    },
    {
     "cell_type": "code",
     "collapsed": false,
     "input": [
      "Zs[4]"
     ],
     "language": "python",
     "metadata": {},
     "outputs": [
      {
       "metadata": {},
       "output_type": "pyout",
       "prompt_number": 118,
       "text": [
        "array([[-0.00682630 -1.57202950e-16j,  0.21680496 +8.52795926e-01j,  0.21680496 -8.52795926e-01j,  0.34368878 +5.99005393e-16j],\n",
        "       [ 1.45496666 +1.39695254e+00j, -0.72283707 +1.84648075e-01j, -0.93046211 +9.72369820e-02j, -1.88432577 -2.44112268e-01j],\n",
        "       [ 1.45496666 -1.39695254e+00j, -0.93046211 -9.72369820e-02j, -0.72283707 -1.84648075e-01j, -1.88432577 +2.44112268e-01j],\n",
        "       [ 3.78486941 +2.10522516e-16j, -2.42530386 -2.97042670e-02j, -2.42530386 +2.97042670e-02j, -1.98097815 -2.68370293e-17j]])"
       ]
      }
     ],
     "prompt_number": 118
    },
    {
     "cell_type": "code",
     "collapsed": false,
     "input": [
      "svd(Zs[0],full_matrices=False)"
     ],
     "language": "python",
     "metadata": {},
     "outputs": [
      {
       "metadata": {},
       "output_type": "pyout",
       "prompt_number": 119,
       "text": [
        "(array([[-0.05281043 -6.67854009e-17j,  0.21696019 -9.84064718e-16j,  0.36466386 -7.99634997e-15j, -0.90396881 +5.14178219e-14j],\n",
        "       [ 0.38050753 +1.46264228e-01j, -0.24382916 +6.45725845e-01j, -0.47152791 -2.43564314e-01j, -0.27096640 +4.81802274e-02j],\n",
        "       [ 0.38050753 -1.46264228e-01j, -0.24382916 -6.45725845e-01j, -0.47152791 +2.43564314e-01j, -0.27096640 -4.81802274e-02j],\n",
        "       [ 0.81538497 -3.75517627e-17j,  0.00996123 +6.33313953e-16j,  0.55108618 -9.90667018e-15j,  0.17706538 -9.07668456e-15j]]),\n",
        " array([ 6.65758706,  1.56633024,  1.28348443,  1.21612002]),\n",
        " array([[ 0.69129941 +0.00000000e+00j, -0.38705749 -9.96824648e-03j, -0.38705749 +9.96824648e-03j, -0.47146514 -3.55618313e-17j],\n",
        "       [ 0.72193655 +0.00000000e+00j,  0.38818254 +1.87346491e-02j,  0.38818254 -1.87346491e-02j,  0.42039776 -7.46798456e-16j],\n",
        "       [ 0.02391115 +0.00000000e+00j, -0.42584930 +2.36829929e-01j, -0.42584930 -2.36829929e-01j,  0.72426251 +1.29024395e-14j],\n",
        "       [ 0.01846603 +0.00000000e+00j, -0.13473378 -6.65928849e-01j, -0.13473378 +6.65928849e-01j,  0.27646005 +1.39401836e-14j]]))"
       ]
      }
     ],
     "prompt_number": 119
    },
    {
     "cell_type": "code",
     "collapsed": false,
     "input": [
      "svd(Zs[1],full_matrices=False)"
     ],
     "language": "python",
     "metadata": {},
     "outputs": [
      {
       "metadata": {},
       "output_type": "pyout",
       "prompt_number": 120,
       "text": [
        "(array([[-0.05281043 -3.14055966e-17j,  0.21696019 -2.83274544e-16j, -0.36466386 -6.55260679e-16j,  0.90396881 +1.84072376e-14j],\n",
        "       [ 0.38050753 +1.46264228e-01j, -0.24382916 +6.45725845e-01j,  0.47152791 +2.43564314e-01j,  0.27096640 -4.81802274e-02j],\n",
        "       [ 0.38050753 -1.46264228e-01j, -0.24382916 -6.45725845e-01j,  0.47152791 -2.43564314e-01j,  0.27096640 +4.81802274e-02j],\n",
        "       [ 0.81538497 -7.70821994e-18j,  0.00996123 +5.50149735e-17j, -0.55108618 -1.94003149e-15j, -0.17706538 -4.09697185e-15j]]),\n",
        " array([ 6.65758706,  1.56633024,  1.28348443,  1.21612002]),\n",
        " array([[-0.69129941 +0.00000000e+00j,  0.38705749 +9.96824648e-03j,  0.38705749 -9.96824648e-03j,  0.47146514 -1.12757026e-17j],\n",
        "       [ 0.72193655 +0.00000000e+00j,  0.38818254 +1.87346491e-02j,  0.38818254 -1.87346491e-02j,  0.42039776 +1.90819582e-16j],\n",
        "       [-0.02391115 +0.00000000e+00j,  0.42584930 -2.36829929e-01j,  0.42584930 +2.36829929e-01j, -0.72426251 +1.98278893e-15j],\n",
        "       [ 0.01846603 +0.00000000e+00j, -0.13473378 -6.65928849e-01j, -0.13473378 +6.65928849e-01j,  0.27646005 -5.51707117e-15j]]))"
       ]
      }
     ],
     "prompt_number": 120
    },
    {
     "cell_type": "code",
     "collapsed": false,
     "input": [
      "svd(Zs[2],full_matrices=False)"
     ],
     "language": "python",
     "metadata": {},
     "outputs": [
      {
       "metadata": {},
       "output_type": "pyout",
       "prompt_number": 121,
       "text": [
        "(array([[-0.05281043 -1.21546791e-16j,  0.21696019 +5.22436434e-16j,  0.36466386 -2.89533335e-15j, -0.90396881 -3.19814257e-15j],\n",
        "       [ 0.38050753 +1.46264228e-01j, -0.24382916 +6.45725845e-01j, -0.47152791 -2.43564314e-01j, -0.27096640 +4.81802274e-02j],\n",
        "       [ 0.38050753 -1.46264228e-01j, -0.24382916 -6.45725845e-01j, -0.47152791 +2.43564314e-01j, -0.27096640 -4.81802274e-02j],\n",
        "       [ 0.81538497 +1.68767248e-17j,  0.00996123 -2.14187672e-16j,  0.55108618 +1.59357273e-15j,  0.17706538 +3.17894364e-15j]]),\n",
        " array([ 6.65758706,  1.56633024,  1.28348443,  1.21612002]),\n",
        " array([[ 0.69129941 +0.00000000e+00j, -0.38705749 -9.96824648e-03j, -0.38705749 +9.96824648e-03j, -0.47146514 +9.54097912e-18j],\n",
        "       [ 0.72193655 +0.00000000e+00j,  0.38818254 +1.87346491e-02j,  0.38818254 -1.87346491e-02j,  0.42039776 +1.56992475e-16j],\n",
        "       [ 0.02391115 +0.00000000e+00j, -0.42584930 +2.36829929e-01j, -0.42584930 -2.36829929e-01j,  0.72426251 -1.92771146e-15j],\n",
        "       [ 0.01846603 +0.00000000e+00j, -0.13473378 -6.65928849e-01j, -0.13473378 +6.65928849e-01j,  0.27646005 -3.93158813e-15j]]))"
       ]
      }
     ],
     "prompt_number": 121
    },
    {
     "cell_type": "code",
     "collapsed": false,
     "input": [
      "svd(Zs[3],full_matrices=False)"
     ],
     "language": "python",
     "metadata": {},
     "outputs": [
      {
       "metadata": {},
       "output_type": "pyout",
       "prompt_number": 122,
       "text": [
        "(array([[-0.05281043 -1.11613685e-16j,  0.21696019 +6.73131481e-16j, -0.36466386 -1.41932912e-14j,  0.90396881 -3.63576961e-14j],\n",
        "       [ 0.38050753 +1.46264228e-01j, -0.24382916 +6.45725845e-01j,  0.47152791 +2.43564314e-01j,  0.27096640 -4.81802274e-02j],\n",
        "       [ 0.38050753 -1.46264228e-01j, -0.24382916 -6.45725845e-01j,  0.47152791 -2.43564314e-01j,  0.27096640 +4.81802274e-02j],\n",
        "       [ 0.81538497 -4.46038948e-17j,  0.00996123 -8.60207199e-16j, -0.55108618 -1.55263745e-14j, -0.17706538 +9.67672831e-15j]]),\n",
        " array([ 6.65758706,  1.56633024,  1.28348443,  1.21612002]),\n",
        " array([[-0.69129941 +0.00000000e+00j,  0.38705749 +9.96824648e-03j,  0.38705749 -9.96824648e-03j,  0.47146514 +5.72458747e-17j],\n",
        "       [ 0.72193655 +0.00000000e+00j,  0.38818254 +1.87346491e-02j,  0.38818254 -1.87346491e-02j,  0.42039776 +5.70724024e-16j],\n",
        "       [-0.02391115 +0.00000000e+00j,  0.42584930 -2.36829929e-01j,  0.42584930 +2.36829929e-01j, -0.72426251 +2.20533227e-14j],\n",
        "       [ 0.01846603 +0.00000000e+00j, -0.13473378 -6.65928849e-01j, -0.13473378 +6.65928849e-01j,  0.27646005 +8.37470284e-15j]]))"
       ]
      }
     ],
     "prompt_number": 122
    },
    {
     "cell_type": "code",
     "collapsed": false,
     "input": [
      "norm(svd(Zs[0],full_matrices=False)[0]-svd(Zs[1],full_matrices=False)[0])"
     ],
     "language": "python",
     "metadata": {},
     "outputs": [
      {
       "metadata": {},
       "output_type": "pyout",
       "prompt_number": 97,
       "text": [
        "2.8284271247461898"
       ]
      }
     ],
     "prompt_number": 97
    },
    {
     "cell_type": "code",
     "collapsed": false,
     "input": [
      "norm(svd(Zs[1],full_matrices=False)[0]-svd(Zs[2],full_matrices=False)[0])"
     ],
     "language": "python",
     "metadata": {},
     "outputs": [
      {
       "metadata": {},
       "output_type": "pyout",
       "prompt_number": 98,
       "text": [
        "1.9999999999999996"
       ]
      }
     ],
     "prompt_number": 98
    },
    {
     "cell_type": "code",
     "collapsed": false,
     "input": [
      "norm(svd(Zs[3],full_matrices=False)[0]-svd(Zs[4],full_matrices=False)[0])"
     ],
     "language": "python",
     "metadata": {},
     "outputs": [
      {
       "metadata": {},
       "output_type": "pyout",
       "prompt_number": 99,
       "text": [
        "2.828427124746189"
       ]
      }
     ],
     "prompt_number": 99
    },
    {
     "cell_type": "code",
     "collapsed": false,
     "input": [],
     "language": "python",
     "metadata": {},
     "outputs": []
    }
   ],
   "metadata": {}
  }
 ]
}